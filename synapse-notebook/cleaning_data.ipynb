{
  "cells": [
    {
      "cell_type": "code",
      "source": [
        "### zaczytanie danych dla stations\n"
      ],
      "outputs": [
        {
          "output_type": "display_data",
          "data": {
            "application/vnd.livy.statement-meta+json": {
              "spark_pool": "spportfolio",
              "statement_id": 4,
              "statement_ids": [
                4
              ],
              "state": "finished",
              "livy_statement_state": "available",
              "spark_jobs": null,
              "session_id": "6",
              "normalized_state": "finished",
              "queued_time": "2025-08-28T13:32:44.1606237Z",
              "session_start_time": null,
              "execution_start_time": "2025-08-28T13:32:44.1618523Z",
              "execution_finish_time": "2025-08-28T13:32:44.3928805Z",
              "parent_msg_id": "b74175ab-594b-4bce-bbad-c9c9ab01fad1"
            },
            "text/plain": "StatementMeta(spportfolio, 6, 4, Finished, Available, Finished)"
          },
          "metadata": {}
        }
      ],
      "execution_count": 41,
      "metadata": {}
    },
    {
      "cell_type": "code",
      "source": [
        "%%pyspark\n",
        "df = spark.read.load('abfss://raw@ppiro.dfs.core.windows.net/sensors_data/stations.json', format='json')\n",
        "display(df.limit(10))"
      ],
      "outputs": [
        {
          "output_type": "display_data",
          "data": {
            "application/vnd.livy.statement-meta+json": {
              "spark_pool": "spportfolio",
              "statement_id": 5,
              "statement_ids": [
                5
              ],
              "state": "finished",
              "livy_statement_state": "available",
              "spark_jobs": null,
              "session_id": "6",
              "normalized_state": "finished",
              "queued_time": "2025-08-28T13:32:44.3066132Z",
              "session_start_time": null,
              "execution_start_time": "2025-08-28T13:32:44.4060955Z",
              "execution_finish_time": "2025-08-28T13:32:51.2718074Z",
              "parent_msg_id": "e78d7456-55b1-4e68-8bff-eac757219e1d"
            },
            "text/plain": "StatementMeta(spportfolio, 6, 5, Finished, Available, Finished)"
          },
          "metadata": {}
        },
        {
          "output_type": "display_data",
          "data": {
            "application/vnd.synapse.widget-view+json": {
              "widget_id": "c494a34c-27ce-4cae-b457-82e37748b48b",
              "widget_type": "Synapse.DataFrame"
            },
            "text/plain": "SynapseWidget(Synapse.DataFrame, c494a34c-27ce-4cae-b457-82e37748b48b)"
          },
          "metadata": {}
        }
      ],
      "execution_count": 42,
      "metadata": {
        "microsoft": {
          "language": "python"
        },
        "jupyter": {
          "outputs_hidden": true
        },
        "collapsed": false
      }
    },
    {
      "cell_type": "code",
      "source": [
        "### zaczytanie danych dla measurements"
      ],
      "outputs": [
        {
          "output_type": "display_data",
          "data": {
            "application/vnd.livy.statement-meta+json": {
              "spark_pool": "spportfolio",
              "statement_id": 6,
              "statement_ids": [
                6
              ],
              "state": "finished",
              "livy_statement_state": "available",
              "spark_jobs": null,
              "session_id": "6",
              "normalized_state": "finished",
              "queued_time": "2025-08-28T13:32:44.3919843Z",
              "session_start_time": null,
              "execution_start_time": "2025-08-28T13:32:51.2841621Z",
              "execution_finish_time": "2025-08-28T13:32:51.5058902Z",
              "parent_msg_id": "b26d515d-b70b-4fe9-ada4-a0ba96de3a44"
            },
            "text/plain": "StatementMeta(spportfolio, 6, 6, Finished, Available, Finished)"
          },
          "metadata": {}
        }
      ],
      "execution_count": 43,
      "metadata": {}
    },
    {
      "cell_type": "code",
      "source": [
        "df_measurements = spark.read.load('abfss://raw@ppiro.dfs.core.windows.net/measurements/*.json', format='json')\n"
      ],
      "outputs": [
        {
          "output_type": "display_data",
          "data": {
            "application/vnd.livy.statement-meta+json": {
              "spark_pool": "spportfolio",
              "statement_id": 7,
              "statement_ids": [
                7
              ],
              "state": "finished",
              "livy_statement_state": "available",
              "spark_jobs": null,
              "session_id": "6",
              "normalized_state": "finished",
              "queued_time": "2025-08-28T13:32:44.4464327Z",
              "session_start_time": null,
              "execution_start_time": "2025-08-28T13:32:51.5188769Z",
              "execution_finish_time": "2025-08-28T13:32:58.6224529Z",
              "parent_msg_id": "779f946c-04a5-4b3c-991d-e826c13d072a"
            },
            "text/plain": "StatementMeta(spportfolio, 6, 7, Finished, Available, Finished)"
          },
          "metadata": {}
        }
      ],
      "execution_count": 44,
      "metadata": {
        "jupyter": {
          "outputs_hidden": true
        }
      }
    },
    {
      "cell_type": "markdown",
      "source": [],
      "metadata": {
        "nteract": {
          "transient": {
            "deleting": false
          }
        }
      }
    },
    {
      "cell_type": "code",
      "source": [
        "display(df_measurements.limit(10))"
      ],
      "outputs": [
        {
          "output_type": "display_data",
          "data": {
            "application/vnd.livy.statement-meta+json": {
              "spark_pool": "spportfolio",
              "statement_id": 8,
              "statement_ids": [
                8
              ],
              "state": "finished",
              "livy_statement_state": "available",
              "spark_jobs": null,
              "session_id": "6",
              "normalized_state": "finished",
              "queued_time": "2025-08-28T13:32:44.5115689Z",
              "session_start_time": null,
              "execution_start_time": "2025-08-28T13:32:58.6358008Z",
              "execution_finish_time": "2025-08-28T13:33:00.5086351Z",
              "parent_msg_id": "198a6f61-ee35-48a8-a643-abcb7fab183e"
            },
            "text/plain": "StatementMeta(spportfolio, 6, 8, Finished, Available, Finished)"
          },
          "metadata": {}
        },
        {
          "output_type": "display_data",
          "data": {
            "application/vnd.synapse.widget-view+json": {
              "widget_id": "386282f8-79c0-4b33-8d09-6264fb05a7e6",
              "widget_type": "Synapse.DataFrame"
            },
            "text/plain": "SynapseWidget(Synapse.DataFrame, 386282f8-79c0-4b33-8d09-6264fb05a7e6)"
          },
          "metadata": {}
        }
      ],
      "execution_count": 45,
      "metadata": {
        "jupyter": {
          "outputs_hidden": true
        },
        "collapsed": false
      }
    },
    {
      "cell_type": "code",
      "source": [
        "### wybieranie poszczegolnych kolumn"
      ],
      "outputs": [
        {
          "output_type": "display_data",
          "data": {
            "application/vnd.livy.statement-meta+json": {
              "spark_pool": "spportfolio",
              "statement_id": 9,
              "statement_ids": [
                9
              ],
              "state": "finished",
              "livy_statement_state": "available",
              "spark_jobs": null,
              "session_id": "6",
              "normalized_state": "finished",
              "queued_time": "2025-08-28T13:32:44.6733695Z",
              "session_start_time": null,
              "execution_start_time": "2025-08-28T13:33:00.5252941Z",
              "execution_finish_time": "2025-08-28T13:33:00.7420475Z",
              "parent_msg_id": "f17d9b78-96eb-45d4-ace3-71edbcacdbef"
            },
            "text/plain": "StatementMeta(spportfolio, 6, 9, Finished, Available, Finished)"
          },
          "metadata": {}
        }
      ],
      "execution_count": 46,
      "metadata": {}
    },
    {
      "cell_type": "code",
      "source": [
        "from pyspark.sql.functions import col\n",
        "\n",
        "df_clean_measurements = df_measurements.select(col(\"stIndexLevel.indexLevelName\").alias(\"AirQualityIndex\"),col(\"stCalcDate\").alias(\"measurementDate\"),col(\"Id\"))"
      ],
      "outputs": [
        {
          "output_type": "display_data",
          "data": {
            "application/vnd.livy.statement-meta+json": {
              "spark_pool": "spportfolio",
              "statement_id": 10,
              "statement_ids": [
                10
              ],
              "state": "finished",
              "livy_statement_state": "available",
              "spark_jobs": null,
              "session_id": "6",
              "normalized_state": "finished",
              "queued_time": "2025-08-28T13:32:44.7562238Z",
              "session_start_time": null,
              "execution_start_time": "2025-08-28T13:33:00.7551425Z",
              "execution_finish_time": "2025-08-28T13:33:00.9614352Z",
              "parent_msg_id": "77305b5e-976b-4b3d-b83a-861e2306daa7"
            },
            "text/plain": "StatementMeta(spportfolio, 6, 10, Finished, Available, Finished)"
          },
          "metadata": {}
        }
      ],
      "execution_count": 47,
      "metadata": {}
    },
    {
      "cell_type": "code",
      "source": [
        "display(df_clean_measurements)"
      ],
      "outputs": [
        {
          "output_type": "display_data",
          "data": {
            "application/vnd.livy.statement-meta+json": {
              "spark_pool": "spportfolio",
              "statement_id": 11,
              "statement_ids": [
                11
              ],
              "state": "finished",
              "livy_statement_state": "available",
              "spark_jobs": null,
              "session_id": "6",
              "normalized_state": "finished",
              "queued_time": "2025-08-28T13:32:44.814339Z",
              "session_start_time": null,
              "execution_start_time": "2025-08-28T13:33:00.9739583Z",
              "execution_finish_time": "2025-08-28T13:33:15.7041454Z",
              "parent_msg_id": "c1af8928-1894-45e0-9aa2-ad907f326c3e"
            },
            "text/plain": "StatementMeta(spportfolio, 6, 11, Finished, Available, Finished)"
          },
          "metadata": {}
        },
        {
          "output_type": "display_data",
          "data": {
            "application/vnd.synapse.widget-view+json": {
              "widget_id": "c0d2eaec-ec00-48d8-974f-fa441ad337f8",
              "widget_type": "Synapse.DataFrame"
            },
            "text/plain": "SynapseWidget(Synapse.DataFrame, c0d2eaec-ec00-48d8-974f-fa441ad337f8)"
          },
          "metadata": {}
        }
      ],
      "execution_count": 48,
      "metadata": {
        "jupyter": {
          "outputs_hidden": true
        },
        "collapsed": false
      }
    },
    {
      "cell_type": "code",
      "source": [
        "from pyspark.sql.functions import col\n",
        "df_clean_stations = df.select(col(\"id\"),col(\"stationName\"),col(\"city.name\").alias(\"city\"),col(\"gegrLat\").alias(\"latitude\"),col(\"gegrLon\").alias(\"longitude\") )"
      ],
      "outputs": [
        {
          "output_type": "display_data",
          "data": {
            "application/vnd.livy.statement-meta+json": {
              "spark_pool": "spportfolio",
              "statement_id": 12,
              "statement_ids": [
                12
              ],
              "state": "finished",
              "livy_statement_state": "available",
              "spark_jobs": null,
              "session_id": "6",
              "normalized_state": "finished",
              "queued_time": "2025-08-28T13:32:44.9043275Z",
              "session_start_time": null,
              "execution_start_time": "2025-08-28T13:33:15.7190903Z",
              "execution_finish_time": "2025-08-28T13:33:15.9753007Z",
              "parent_msg_id": "a3f634d3-b7ff-4f43-9e39-1877b3f646da"
            },
            "text/plain": "StatementMeta(spportfolio, 6, 12, Finished, Available, Finished)"
          },
          "metadata": {}
        }
      ],
      "execution_count": 49,
      "metadata": {}
    },
    {
      "cell_type": "code",
      "source": [
        "display(df_clean_stations)"
      ],
      "outputs": [
        {
          "output_type": "display_data",
          "data": {
            "application/vnd.livy.statement-meta+json": {
              "spark_pool": "spportfolio",
              "statement_id": 13,
              "statement_ids": [
                13
              ],
              "state": "finished",
              "livy_statement_state": "available",
              "spark_jobs": null,
              "session_id": "6",
              "normalized_state": "finished",
              "queued_time": "2025-08-28T13:32:44.9546691Z",
              "session_start_time": null,
              "execution_start_time": "2025-08-28T13:33:15.9880045Z",
              "execution_finish_time": "2025-08-28T13:33:17.1386223Z",
              "parent_msg_id": "248460cc-d410-402d-85ea-4442e72bc27f"
            },
            "text/plain": "StatementMeta(spportfolio, 6, 13, Finished, Available, Finished)"
          },
          "metadata": {}
        },
        {
          "output_type": "display_data",
          "data": {
            "application/vnd.synapse.widget-view+json": {
              "widget_id": "2fc6d882-5468-46b0-9673-2a86796f16bb",
              "widget_type": "Synapse.DataFrame"
            },
            "text/plain": "SynapseWidget(Synapse.DataFrame, 2fc6d882-5468-46b0-9673-2a86796f16bb)"
          },
          "metadata": {}
        }
      ],
      "execution_count": 50,
      "metadata": {
        "jupyter": {
          "outputs_hidden": true
        },
        "collapsed": false
      }
    },
    {
      "cell_type": "code",
      "source": [
        "final_df = df_clean_stations.join(df_clean_measurements, on=\"id\" , how=\"inner\")"
      ],
      "outputs": [
        {
          "output_type": "display_data",
          "data": {
            "application/vnd.livy.statement-meta+json": {
              "spark_pool": "spportfolio",
              "statement_id": 14,
              "statement_ids": [
                14
              ],
              "state": "finished",
              "livy_statement_state": "available",
              "spark_jobs": null,
              "session_id": "6",
              "normalized_state": "finished",
              "queued_time": "2025-08-28T13:32:44.9983624Z",
              "session_start_time": null,
              "execution_start_time": "2025-08-28T13:33:17.1520638Z",
              "execution_finish_time": "2025-08-28T13:33:17.3751195Z",
              "parent_msg_id": "b477a1ad-fdb6-4acd-a47a-35f82bfeab2c"
            },
            "text/plain": "StatementMeta(spportfolio, 6, 14, Finished, Available, Finished)"
          },
          "metadata": {}
        }
      ],
      "execution_count": 51,
      "metadata": {}
    },
    {
      "cell_type": "code",
      "source": [
        "display(final_df)"
      ],
      "outputs": [
        {
          "output_type": "display_data",
          "data": {
            "application/vnd.livy.statement-meta+json": {
              "spark_pool": "spportfolio",
              "statement_id": 15,
              "statement_ids": [
                15
              ],
              "state": "finished",
              "livy_statement_state": "available",
              "spark_jobs": null,
              "session_id": "6",
              "normalized_state": "finished",
              "queued_time": "2025-08-28T13:32:45.0523499Z",
              "session_start_time": null,
              "execution_start_time": "2025-08-28T13:33:17.3869259Z",
              "execution_finish_time": "2025-08-28T13:33:19.8924091Z",
              "parent_msg_id": "4215ac23-8ab4-499d-8716-f68a69cda9f6"
            },
            "text/plain": "StatementMeta(spportfolio, 6, 15, Finished, Available, Finished)"
          },
          "metadata": {}
        },
        {
          "output_type": "display_data",
          "data": {
            "application/vnd.synapse.widget-view+json": {
              "widget_id": "502c92fa-77a4-4bda-824e-af07560bfada",
              "widget_type": "Synapse.DataFrame"
            },
            "text/plain": "SynapseWidget(Synapse.DataFrame, 502c92fa-77a4-4bda-824e-af07560bfada)"
          },
          "metadata": {}
        }
      ],
      "execution_count": 52,
      "metadata": {
        "jupyter": {
          "outputs_hidden": true
        },
        "collapsed": false
      }
    },
    {
      "cell_type": "code",
      "source": [
        "final_df.write.format(\"delta\").mode(\"overwrite\").option(\"overwriteSchema\", \"true\").save('abfss://raw@ppiro.dfs.core.windows.net/processed/') ### wywalilo bledem i zasugerowalo dodac .option(\"mergeSchema\", \"true\") gdy zmienilem schemat dodajac 2 kolumny do jednego z data frame"
      ],
      "outputs": [
        {
          "output_type": "display_data",
          "data": {
            "application/vnd.livy.statement-meta+json": {
              "spark_pool": "spportfolio",
              "statement_id": 20,
              "statement_ids": [
                20
              ],
              "state": "finished",
              "livy_statement_state": "available",
              "spark_jobs": null,
              "session_id": "6",
              "normalized_state": "finished",
              "queued_time": "2025-08-28T13:41:33.9559094Z",
              "session_start_time": null,
              "execution_start_time": "2025-08-28T13:41:33.9570886Z",
              "execution_finish_time": "2025-08-28T13:42:00.8473703Z",
              "parent_msg_id": "258e374e-729f-47df-a356-c2eb2c15edd8"
            },
            "text/plain": "StatementMeta(spportfolio, 6, 20, Finished, Available, Finished)"
          },
          "metadata": {}
        }
      ],
      "execution_count": 57,
      "metadata": {}
    },
    {
      "cell_type": "code",
      "source": [
        "### sprawdzenie czy mozna odczytac plik"
      ],
      "outputs": [
        {
          "output_type": "display_data",
          "data": {
            "application/vnd.livy.statement-meta+json": {
              "spark_pool": "spportfolio",
              "statement_id": 21,
              "statement_ids": [
                21
              ],
              "state": "finished",
              "livy_statement_state": "available",
              "spark_jobs": null,
              "session_id": "6",
              "normalized_state": "finished",
              "queued_time": "2025-08-28T13:42:28.8578441Z",
              "session_start_time": null,
              "execution_start_time": "2025-08-28T13:42:28.8590879Z",
              "execution_finish_time": "2025-08-28T13:42:29.0655265Z",
              "parent_msg_id": "b104ccab-6b4e-44f6-84ac-d5ad0500d0ec"
            },
            "text/plain": "StatementMeta(spportfolio, 6, 21, Finished, Available, Finished)"
          },
          "metadata": {}
        }
      ],
      "execution_count": 58,
      "metadata": {}
    },
    {
      "cell_type": "code",
      "source": [
        "df1 =spark.read.format(\"delta\").load(\"abfss://raw@ppiro.dfs.core.windows.net/processed/\")\n",
        "display(df1)"
      ],
      "outputs": [
        {
          "output_type": "display_data",
          "data": {
            "application/vnd.livy.statement-meta+json": {
              "spark_pool": "spportfolio",
              "statement_id": 22,
              "statement_ids": [
                22
              ],
              "state": "finished",
              "livy_statement_state": "available",
              "spark_jobs": null,
              "session_id": "6",
              "normalized_state": "finished",
              "queued_time": "2025-08-28T13:42:29.0036994Z",
              "session_start_time": null,
              "execution_start_time": "2025-08-28T13:42:29.0793354Z",
              "execution_finish_time": "2025-08-28T13:42:37.8085646Z",
              "parent_msg_id": "32f7ebb4-f0d8-4faa-b5c3-193147dd26c4"
            },
            "text/plain": "StatementMeta(spportfolio, 6, 22, Finished, Available, Finished)"
          },
          "metadata": {}
        },
        {
          "output_type": "display_data",
          "data": {
            "application/vnd.synapse.widget-view+json": {
              "widget_id": "b9ffea38-6270-4738-ac64-c1a7f58513b8",
              "widget_type": "Synapse.DataFrame"
            },
            "text/plain": "SynapseWidget(Synapse.DataFrame, b9ffea38-6270-4738-ac64-c1a7f58513b8)"
          },
          "metadata": {}
        }
      ],
      "execution_count": 59,
      "metadata": {
        "jupyter": {
          "outputs_hidden": true
        },
        "collapsed": false
      }
    },
    {
      "cell_type": "code",
      "source": [
        "### zapis do tabeli"
      ],
      "outputs": [
        {
          "output_type": "display_data",
          "data": {
            "application/vnd.livy.statement-meta+json": {
              "spark_pool": "spportfolio",
              "statement_id": 23,
              "statement_ids": [
                23
              ],
              "state": "finished",
              "livy_statement_state": "available",
              "spark_jobs": null,
              "session_id": "6",
              "normalized_state": "finished",
              "queued_time": "2025-08-28T13:42:29.0882452Z",
              "session_start_time": null,
              "execution_start_time": "2025-08-28T13:42:37.8231212Z",
              "execution_finish_time": "2025-08-28T13:42:38.0602502Z",
              "parent_msg_id": "a93bbb17-d001-4967-b005-105686d4941d"
            },
            "text/plain": "StatementMeta(spportfolio, 6, 23, Finished, Available, Finished)"
          },
          "metadata": {}
        }
      ],
      "execution_count": 60,
      "metadata": {}
    },
    {
      "cell_type": "code",
      "source": [
        "final_df.write.mode(\"overwrite\").saveAsTable(\"pomiary_powietrza\")"
      ],
      "outputs": [
        {
          "output_type": "display_data",
          "data": {
            "application/vnd.livy.statement-meta+json": {
              "spark_pool": "spportfolio",
              "statement_id": 24,
              "statement_ids": [
                24
              ],
              "state": "finished",
              "livy_statement_state": "available",
              "spark_jobs": null,
              "session_id": "6",
              "normalized_state": "finished",
              "queued_time": "2025-08-28T13:42:29.1598223Z",
              "session_start_time": null,
              "execution_start_time": "2025-08-28T13:42:38.0730039Z",
              "execution_finish_time": "2025-08-28T13:43:02.8812257Z",
              "parent_msg_id": "554b626b-a67f-41d2-9bda-20b572a33554"
            },
            "text/plain": "StatementMeta(spportfolio, 6, 24, Finished, Available, Finished)"
          },
          "metadata": {}
        }
      ],
      "execution_count": 61,
      "metadata": {
        "jupyter": {
          "outputs_hidden": false
        }
      }
    },
    {
      "cell_type": "code",
      "source": [
        "%%sql\n",
        "select * from pomiary_powietrza where city = 'Biała Podlaska'"
      ],
      "outputs": [
        {
          "output_type": "display_data",
          "data": {
            "application/vnd.livy.statement-meta+json": {
              "spark_pool": "spportfolio",
              "statement_id": 25,
              "statement_ids": [
                25
              ],
              "state": "finished",
              "livy_statement_state": "available",
              "spark_jobs": null,
              "session_id": "6",
              "normalized_state": "finished",
              "queued_time": "2025-08-28T13:42:29.3566489Z",
              "session_start_time": null,
              "execution_start_time": "2025-08-28T13:43:02.8954061Z",
              "execution_finish_time": "2025-08-28T13:43:04.7433685Z",
              "parent_msg_id": "23106d77-32a8-452e-8099-403d258d66a8"
            },
            "text/plain": "StatementMeta(spportfolio, 6, 25, Finished, Available, Finished)"
          },
          "metadata": {}
        },
        {
          "output_type": "execute_result",
          "execution_count": 62,
          "data": {
            "application/vnd.synapse.sparksql-result+json": {
              "schema": {
                "type": "struct",
                "fields": [
                  {
                    "name": "id",
                    "type": "long",
                    "nullable": true,
                    "metadata": {}
                  },
                  {
                    "name": "stationName",
                    "type": "string",
                    "nullable": true,
                    "metadata": {}
                  },
                  {
                    "name": "city",
                    "type": "string",
                    "nullable": true,
                    "metadata": {}
                  },
                  {
                    "name": "latitude",
                    "type": "string",
                    "nullable": true,
                    "metadata": {}
                  },
                  {
                    "name": "longitude",
                    "type": "string",
                    "nullable": true,
                    "metadata": {}
                  },
                  {
                    "name": "AirQualityIndex",
                    "type": "string",
                    "nullable": true,
                    "metadata": {}
                  },
                  {
                    "name": "measurementDate",
                    "type": "string",
                    "nullable": true,
                    "metadata": {}
                  }
                ]
              },
              "data": [
                [
                  "11",
                  "Czerniawa",
                  "Czerniawa",
                  "50.912475",
                  "15.312190",
                  "Dobry",
                  "2025-08-26 16:10:37"
                ],
                [
                  "16",
                  "Dzierżoniów, ul. Piłsudskiego",
                  "Dzierżoniów",
                  "50.732817",
                  "16.648050",
                  "Brak indeksu",
                  "2025-08-26 16:10:37"
                ],
                [
                  "38",
                  "Kłodzko, ul. Szkolna",
                  "Kłodzko",
                  "50.433493",
                  "16.653660",
                  "Dobry",
                  "2025-08-26 16:10:37"
                ],
                [
                  "52",
                  "Legnica, al. Rzeczypospolitej",
                  "Legnica",
                  "51.204503",
                  "16.180513",
                  "Dobry",
                  "2025-08-26 16:10:37"
                ],
                [
                  "114",
                  "Wrocław, ul. Bartnicza",
                  "Wrocław",
                  "51.115933",
                  "17.141125",
                  "Dobry",
                  "2025-08-26 16:10:37"
                ],
                [
                  "117",
                  "Wrocław, wyb. Conrada-Korzeniowskiego",
                  "Wrocław",
                  "51.129378",
                  "17.029250",
                  "Dobry",
                  "2025-08-26 16:10:37"
                ],
                [
                  "129",
                  "Wrocław, al. Wiśniowa",
                  "Wrocław",
                  "51.086225",
                  "17.012689",
                  "Brak indeksu",
                  "2025-08-26 16:10:37"
                ],
                [
                  "143",
                  "Inowrocław, ul. Solankowa",
                  "Inowrocław",
                  "52.793122",
                  "18.241044",
                  "Brak indeksu",
                  "2025-08-26 15:36:08"
                ],
                [
                  "156",
                  "Bydgoszcz, pl. Poznański",
                  "Bydgoszcz",
                  "53.121764",
                  "17.987906",
                  "Brak indeksu",
                  "2025-08-26 15:36:08"
                ],
                [
                  "158",
                  "Bydgoszcz, ul. Warszawska",
                  "Bydgoszcz",
                  "53.134083",
                  "17.995708",
                  "Dobry",
                  "2025-08-26 15:36:08"
                ],
                [
                  "190",
                  "Koniczynka, Pojezierze Chełmińskie",
                  "Koniczynka",
                  "53.080647",
                  "18.684258",
                  "Dobry",
                  "2025-08-26 15:36:08"
                ],
                [
                  "206",
                  "Toruń, ul. Dziewulskiego",
                  "Toruń",
                  "53.028647",
                  "18.666103",
                  "Dobry",
                  "2025-08-26 15:36:08"
                ],
                [
                  "208",
                  "Toruń, ul. Przy Kaszowniku",
                  "Toruń",
                  "53.017628",
                  "18.612808",
                  "Brak indeksu",
                  "2025-08-26 15:36:08"
                ],
                [
                  "232",
                  "Zielonka, Bory Tucholskie",
                  "Zielonka",
                  "53.662117",
                  "17.934017",
                  "Dobry",
                  "2025-08-26 15:36:08"
                ],
                [
                  "266",
                  "Lublin, ul. Obywatelska",
                  "Lublin",
                  "51.259431",
                  "22.569133",
                  "Dobry",
                  "2025-08-26 16:11:02"
                ],
                [
                  "291",
                  "Gajew, Ujęcie Wody",
                  "Gajew",
                  "52.143258",
                  "19.233217",
                  "Dobry",
                  "2025-08-26 16:10:47"
                ],
                [
                  "295",
                  "Łódź, ul. Czernika",
                  "Łódź",
                  "51.758050",
                  "19.529786",
                  "Dobry",
                  "2025-08-26 16:10:47"
                ],
                [
                  "296",
                  "Łódź, ul. Gdańska",
                  "Łódź",
                  "51.775378",
                  "19.450992",
                  "Brak indeksu",
                  "2025-08-26 16:10:47"
                ],
                [
                  "314",
                  "Pabianice, ul. Konstantynowska",
                  "Pabianice",
                  "51.667981",
                  "19.368683",
                  "Dobry",
                  "2025-08-26 16:10:47"
                ],
                [
                  "319",
                  "Parzniewice, Ujęcie Wody",
                  "Parzniewice",
                  "51.291175",
                  "19.517556",
                  "Dobry",
                  "2025-08-26 16:10:47"
                ],
                [
                  "322",
                  "Piotrków Trybunalski, ul. Krakowskie Przedmieście",
                  "Piotrków Trybunalski",
                  "51.404406",
                  "19.696956",
                  "Dobry",
                  "2025-08-26 16:10:47"
                ],
                [
                  "361",
                  "Gorzów Wlkp. ul. Kosynierów Gdyńskich",
                  "Gorzów Wielkopolski",
                  "52.738214",
                  "15.228667",
                  "Dobry",
                  "2025-08-26 16:08:11"
                ],
                [
                  "376",
                  "Sulęcin ul. Dudka",
                  "Sulęcin",
                  "52.437722",
                  "15.122444",
                  "Dobry",
                  "2025-08-26 16:08:11"
                ],
                [
                  "379",
                  "Wschowa ul. Kazimierza Wielkiego",
                  "Wschowa",
                  "51.799722",
                  "16.317500",
                  "Dobry",
                  "2025-08-26 16:08:11"
                ],
                [
                  "400",
                  "Kraków, Aleja Krasińskiego",
                  "Kraków",
                  "50.057678",
                  "19.926189",
                  "Dobry",
                  "2025-08-26 16:11:08"
                ],
                [
                  "402",
                  "Kraków, ul. Bulwarowa",
                  "Kraków",
                  "50.069308",
                  "20.053492",
                  "Brak indeksu",
                  "2025-08-26 16:11:08"
                ],
                [
                  "437",
                  "Skawina, os. Ogrody",
                  "Skawina",
                  "49.971047",
                  "19.830422",
                  "Dobry",
                  "2025-08-26 16:11:08"
                ],
                [
                  "443",
                  "Szymbark",
                  "Szymbark",
                  "49.633714",
                  "21.116833",
                  "Dobry",
                  "2025-08-26 16:11:08"
                ],
                [
                  "444",
                  "Tarnów, ul. Bitwy pod Studziankami",
                  "Tarnów",
                  "50.020169",
                  "21.004167",
                  "Dobry",
                  "2025-08-26 16:11:08"
                ],
                [
                  "449",
                  "Trzebinia, os. Związku Walki Młodych",
                  "Trzebinia",
                  "50.159406",
                  "19.477464",
                  "Brak indeksu",
                  "2025-08-26 16:11:08"
                ],
                [
                  "488",
                  "Piastów, ul. Pułaskiego",
                  "Piastów",
                  "52.191728",
                  "20.837489",
                  "Dobry",
                  "2025-08-26 16:13:21"
                ],
                [
                  "501",
                  "Płock, ul. Reja",
                  "Płock",
                  "52.550938",
                  "19.709791",
                  "Dobry",
                  "2025-08-26 16:13:21"
                ],
                [
                  "515",
                  "Radom, ul. Tochtermana",
                  "Radom",
                  "51.399084",
                  "21.147474",
                  "Dobry",
                  "2025-08-26 16:13:21"
                ],
                [
                  "517",
                  "Siedlce, ul. Konarskiego",
                  "Siedlce",
                  "52.172145",
                  "22.282001",
                  "Brak indeksu",
                  "2025-08-26 16:13:21"
                ],
                [
                  "538",
                  "Warszawa, ul. Tołstoja",
                  "Warszawa",
                  "52.285073",
                  "20.933018",
                  "Brak indeksu",
                  "2025-08-26 16:13:21"
                ],
                [
                  "552",
                  "Warszawa, ul. Kondratowicza",
                  "Warszawa",
                  "52.290864",
                  "21.042458",
                  "Dobry",
                  "2025-08-26 16:13:21"
                ],
                [
                  "568",
                  "Kędzierzyn-Koźle, ul. Śmiałego",
                  "Kędzierzyn-Koźle",
                  "50.349608",
                  "18.236575",
                  "Dobry",
                  "2025-08-26 16:08:08"
                ],
                [
                  "725",
                  "Słupsk, ul. Kniaziewicza",
                  "Słupsk",
                  "54.463611",
                  "17.046722",
                  "Bardzo dobry",
                  "2025-08-26 16:10:30"
                ],
                [
                  "729",
                  "Gdańsk, ul. Powstańców Warszawskich",
                  "Gdańsk",
                  "54.353196",
                  "18.635267",
                  "Bardzo dobry",
                  "2025-08-26 16:10:30"
                ],
                [
                  "731",
                  "Gdańsk, ul. Wyzwolenia",
                  "Gdańsk",
                  "54.400788",
                  "18.657332",
                  "Bardzo dobry",
                  "2025-08-26 16:10:30"
                ],
                [
                  "736",
                  "Gdańsk, ul. Leczkowa",
                  "Gdańsk",
                  "54.380139",
                  "18.619766",
                  "Bardzo dobry",
                  "2025-08-26 16:10:30"
                ],
                [
                  "740",
                  "Kościerzyna, ul. Targowa",
                  "Kościerzyna",
                  "54.120694",
                  "17.975861",
                  "Bardzo dobry",
                  "2025-08-26 16:10:30"
                ],
                [
                  "743",
                  "Liniewko Kościerskie",
                  "Liniewko Kościerskie",
                  "54.104111",
                  "18.182972",
                  "Dobry",
                  "2025-08-26 16:10:30"
                ],
                [
                  "798",
                  "Częstochowa, ul. AK/Jana Pawła II",
                  "Częstochowa",
                  "50.817217",
                  "19.118997",
                  "Brak indeksu",
                  "2025-08-26 16:10:56"
                ],
                [
                  "800",
                  "Częstochowa, ul. Baczyńskiego",
                  "Częstochowa",
                  "50.836389",
                  "19.130111",
                  "Dobry",
                  "2025-08-26 16:10:56"
                ],
                [
                  "805",
                  "Dąbrowa Górnicza, ul. Tysiąclecia",
                  "Dąbrowa Górnicza",
                  "50.329111",
                  "19.231222",
                  "Dobry",
                  "2025-08-26 16:10:56"
                ],
                [
                  "834",
                  "Rybnik, ul. Borki",
                  "Rybnik",
                  "50.111181",
                  "18.516139",
                  "Dobry",
                  "2025-08-26 16:10:56"
                ],
                [
                  "837",
                  "Sosnowiec, ul. Lubelska",
                  "Sosnowiec",
                  "50.285956",
                  "19.184399",
                  "Brak indeksu",
                  "2025-08-26 16:10:56"
                ],
                [
                  "842",
                  "Ustroń, ul. Sanatoryjna",
                  "Ustroń",
                  "49.719731",
                  "18.826722",
                  "Dobry",
                  "2025-08-26 16:10:56"
                ],
                [
                  "845",
                  "Wodzisław Śląski, ul. Gałczyńskiego",
                  "Wodzisław Śląski",
                  "50.007629",
                  "18.455548",
                  "Dobry",
                  "2025-08-26 16:10:56"
                ],
                [
                  "853",
                  "Złoty Potok, Leśniczówka",
                  "Złoty Potok",
                  "50.710889",
                  "19.458797",
                  "Dobry",
                  "2025-08-26 16:10:56"
                ],
                [
                  "861",
                  "Elbląg, ul. Bażyńskiego",
                  "Elbląg",
                  "54.167847",
                  "19.410942",
                  "Bardzo dobry",
                  "2025-08-26 16:10:22"
                ],
                [
                  "870",
                  "Gołdap, ul. Jaćwieska",
                  "Gołdap",
                  "54.305908",
                  "22.307681",
                  "Bardzo dobry",
                  "2025-08-26 16:10:22"
                ],
                [
                  "877",
                  "Olsztyn, ul. Puszkina",
                  "Olsztyn",
                  "53.789233",
                  "20.486075",
                  "Bardzo dobry",
                  "2025-08-26 16:10:22"
                ],
                [
                  "902",
                  "Konin, ul. Wyszyńskiego",
                  "Konin",
                  "52.225650",
                  "18.268927",
                  "Dobry",
                  "2025-08-26 16:12:13"
                ],
                [
                  "944",
                  "Poznań, ul. Dąbrowskiego",
                  "Poznań",
                  "52.420319",
                  "16.877289",
                  "Brak indeksu",
                  "2025-08-26 16:12:13"
                ],
                [
                  "986",
                  "Szczecin, ul. Andrzejewskiego",
                  "Szczecin",
                  "53.380975",
                  "14.663347",
                  "Dobry",
                  "2025-08-26 16:12:13"
                ],
                [
                  "987",
                  "Szczecin, ul. Piłsudskiego",
                  "Szczecin",
                  "53.432169",
                  "14.553900",
                  "Brak indeksu",
                  "2025-08-26 16:12:13"
                ],
                [
                  "382",
                  "Żary, ul. Szymanowskiego ",
                  "Żary",
                  "51.642656",
                  "15.127808",
                  "Dobry",
                  "2025-08-26 16:08:11"
                ],
                [
                  "9153",
                  "Jelenia Góra, ul. Ogińskiego",
                  "Jelenia Góra",
                  "50.913433",
                  "15.765608",
                  "Dobry",
                  "2025-08-26 16:10:37"
                ],
                [
                  "600",
                  "Zdzieszowice, ul. Piastów",
                  "Zdzieszowice",
                  "50.423533",
                  "18.120739",
                  "Brak indeksu",
                  "2025-08-26 16:08:08"
                ],
                [
                  "952",
                  "Kalisz, ul. Wyszyńskiego",
                  "Kalisz",
                  "51.747950",
                  "18.049063",
                  "Dobry",
                  "2025-08-26 16:12:13"
                ],
                [
                  "236",
                  "Biała Podlaska, ul. Orzechowa",
                  "Biała Podlaska",
                  "52.029194",
                  "23.149389",
                  "Bardzo dobry",
                  "2025-08-26 16:11:02"
                ],
                [
                  "9791",
                  "Włocławek, ul. Kaliska",
                  "Włocławek",
                  "52.637394",
                  "19.044486",
                  "Dobry",
                  "2025-08-26 15:36:08"
                ],
                [
                  "10030",
                  "Ostróda, ul. Piłsudskiego",
                  "Ostróda",
                  "53.694587",
                  "19.969041",
                  "Bardzo dobry",
                  "2025-08-26 16:10:22"
                ],
                [
                  "10119",
                  "Kaszów",
                  "Kaszów",
                  "50.025028",
                  "19.726833",
                  "Dobry",
                  "2025-08-26 16:11:08"
                ],
                [
                  "950",
                  "Borówiec, ul. Drapałka",
                  "Borówiec",
                  "52.276720",
                  "17.074187",
                  "Dobry",
                  "2025-08-26 16:12:13"
                ],
                [
                  "10123",
                  "Kraków, ul. Złoty Róg",
                  "Kraków",
                  "50.081197",
                  "19.895358",
                  "Dobry",
                  "2025-08-26 16:11:08"
                ],
                [
                  "10438",
                  "Mielec, ul. Biernackiego",
                  "Mielec",
                  "50.299128",
                  "21.440942",
                  "Dobry",
                  "2025-08-26 16:10:53"
                ],
                [
                  "10447",
                  "Kraków, os. Wadów",
                  "Kraków",
                  "50.100569",
                  "20.122561",
                  "Brak indeksu",
                  "2025-08-26 16:11:08"
                ],
                [
                  "10794",
                  "Małogoszcz, ul. Słoneczna",
                  "Małogoszcz",
                  "50.809610",
                  "20.266032",
                  "Brak indeksu",
                  "2025-08-26 16:06:11"
                ],
                [
                  "10834",
                  "Koziegłowy, os.Leśne",
                  "Koziegłowy",
                  "52.449295",
                  "16.999634",
                  "Brak indeksu",
                  "2025-08-26 16:12:13"
                ],
                [
                  "225",
                  "Włocławek, ul. Okrzei",
                  "Włocławek",
                  "52.658467",
                  "19.059314",
                  "Brak indeksu",
                  "2025-08-26 15:36:08"
                ],
                [
                  "584",
                  "Olesno, ul. Słowackiego",
                  "Olesno",
                  "50.876983",
                  "18.416878",
                  "Dobry",
                  "2025-08-26 16:08:08"
                ],
                [
                  "11174",
                  "Białystok, ul. 42 Pułku Piechoty",
                  "Białystok",
                  "53.144122",
                  "23.216322",
                  "Bardzo dobry",
                  "2025-08-26 16:10:21"
                ],
                [
                  "11195",
                  "Kielce, ul. Targowa",
                  "Kielce",
                  "50.878998",
                  "20.633692",
                  "Dobry",
                  "2025-08-26 16:06:11"
                ],
                [
                  "11358",
                  "Biała, ul. Kmicica",
                  "Biała",
                  "52.602534",
                  "19.645100",
                  "Brak indeksu",
                  "2025-08-26 16:13:21"
                ],
                [
                  "10955",
                  "Warszawa, ul. Chrościckiego",
                  "Warszawa",
                  "52.207742",
                  "20.906073",
                  "Dobry",
                  "2025-08-26 16:13:21"
                ],
                [
                  "590",
                  "Opole, os. Armii Krajowej",
                  "Opole",
                  "50.676856",
                  "17.950278",
                  "Dobry",
                  "2025-08-26 16:15:20"
                ],
                [
                  "11336",
                  "Koszalin, ul. Chopina",
                  "Koszalin",
                  "54.194114",
                  "16.211672",
                  "Dobry",
                  "2025-08-26 16:12:13"
                ],
                [
                  "966",
                  "Koszalin, ul. Armii Krajowej",
                  "Koszalin",
                  "54.193986",
                  "16.172544",
                  "Brak indeksu",
                  "2025-08-26 16:12:13"
                ],
                [
                  "11554",
                  "Łask, ul. Narutowicza",
                  "Łask",
                  "51.589208",
                  "19.131433",
                  "Brak indeksu",
                  "2025-08-26 16:10:47"
                ],
                [
                  "11754",
                  "Gołuchów, Ujęcie Wody",
                  "Gołuchów",
                  "50.621482",
                  "20.614057",
                  "Dobry",
                  "2025-08-26 16:06:11"
                ],
                [
                  "11794",
                  "Racibórz, Wojska Polskiego",
                  "Racibórz",
                  "50.091142",
                  "18.216261",
                  "Dobry",
                  "2025-08-26 16:10:56"
                ],
                [
                  "10814",
                  "Oświęcim, ul. J. Bema",
                  "Oświęcim",
                  "50.033083",
                  "19.245275",
                  "Brak indeksu",
                  "2025-08-26 16:11:08"
                ],
                [
                  "11814",
                  "Białystok, al.Piłsudskiego",
                  "Białystok",
                  "53.135286",
                  "23.161325",
                  "Bardzo dobry",
                  "2025-08-26 16:10:21"
                ],
                [
                  "11916",
                  "Augustów, Uzdrowisko",
                  "Augustów",
                  "53.852550",
                  "22.984686",
                  "Bardzo dobry",
                  "2025-08-26 16:10:21"
                ],
                [
                  "9798",
                  "Nakło nad Notecią, ul. Św. Wawrzyńca",
                  "Nakło nad Notecią",
                  "53.136681",
                  "17.591539",
                  "Brak indeksu",
                  "2025-08-26 16:15:41"
                ],
                [
                  "10374",
                  "Opole, ul. Koszyka",
                  "Opole",
                  "50.666736",
                  "17.899137",
                  "Brak indeksu",
                  "2025-08-26 16:15:20"
                ],
                [
                  "16196",
                  "Kielce, ul. Warszawska 108",
                  "Kielce",
                  "50.886014",
                  "20.642858",
                  "Brak indeksu",
                  "2025-08-26 16:06:11"
                ],
                [
                  "16180",
                  "Gdańsk, Al. Grunwaldzka",
                  "Gdańsk",
                  "54.380682",
                  "18.601559",
                  "Dobry",
                  "2025-08-26 16:10:30"
                ],
                [
                  "16242",
                  "Sopot, ul. Bitwy Pod Płowcami",
                  "Sopot",
                  "54.434510",
                  "18.578840",
                  "Bardzo dobry",
                  "2025-08-26 16:10:30"
                ],
                [
                  "10018",
                  "Głubczyce, ul. Ratuszowa",
                  "Głubczyce",
                  "50.200778",
                  "17.830510",
                  "Brak indeksu",
                  "2025-08-26 16:15:20"
                ],
                [
                  "16413",
                  "Brzeg, ul. Poprzeczna",
                  "Brzeg",
                  "50.849509",
                  "17.462579",
                  "Brak indeksu",
                  "2025-08-26 16:15:20"
                ],
                [
                  "882",
                  "Diabla Góra, Puszcza Borecka",
                  "Diabla Góra",
                  "54.124819",
                  "22.038056",
                  "Bardzo dobry",
                  "2025-08-26 16:10:22"
                ],
                [
                  "10005",
                  "Ełk, ul. Piłsudskiego",
                  "Ełk",
                  "53.828389",
                  "22.348338",
                  "Bardzo dobry",
                  "2025-08-26 16:10:22"
                ],
                [
                  "16896",
                  "Kraków, ul. Kamieńskiego",
                  "Kraków",
                  "50.024605",
                  "19.978460",
                  "Dobry",
                  "2025-08-26 16:11:08"
                ],
                [
                  "17318",
                  "Katowice, ul. Dudy-Gracza",
                  "Katowice",
                  "50.258483",
                  "19.036217",
                  "Dobry",
                  "2025-08-26 16:10:56"
                ],
                [
                  "17880",
                  "Zabrze, ul. M. Skłodowskiej-Curie",
                  "Zabrze",
                  "50.317072",
                  "18.771258",
                  "Dobry",
                  "2025-08-26 16:10:56"
                ],
                [
                  "20367",
                  "Kraków, ul. Półłanki",
                  "Kraków",
                  "50.034702",
                  "20.044386",
                  "Dobry",
                  "2025-08-26 16:11:08"
                ],
                [
                  "9114",
                  "Ostrołęka, ul. Hallera",
                  "Ostrołęka",
                  "53.083736",
                  "21.579322",
                  "Dobry",
                  "2025-08-26 16:13:21"
                ],
                [
                  "70",
                  "Oława, ul. Żołnierzy Armii Krajowej",
                  "Oława",
                  "50.942073",
                  "17.291333",
                  "Dobry",
                  "2025-08-26 16:10:37"
                ],
                [
                  "74",
                  "Osieczów",
                  "Osieczów",
                  "51.317630",
                  "15.431719",
                  "Dobry",
                  "2025-08-26 16:10:37"
                ],
                [
                  "109",
                  "Wałbrzych, ul. Wysockiego",
                  "Wałbrzych",
                  "50.768729",
                  "16.269677",
                  "Dobry",
                  "2025-08-26 16:10:37"
                ],
                [
                  "145",
                  "Toruń, ul. Wały gen. Sikorskiego",
                  "Toruń",
                  "53.012475",
                  "18.605681",
                  "Dobry",
                  "2025-08-26 16:15:41"
                ],
                [
                  "285",
                  "Zamość, ul. Hrubieszowska",
                  "Zamość",
                  "50.716628",
                  "23.290247",
                  "Brak indeksu",
                  "2025-08-26 16:11:02"
                ],
                [
                  "374",
                  "Smolary Bytnickie",
                  "Smolary Bytnickie",
                  "52.172222",
                  "15.206667",
                  "Dobry",
                  "2025-08-26 16:15:24"
                ],
                [
                  "387",
                  "Zielona Góra ul. Krótka",
                  "Zielona Góra",
                  "51.939783",
                  "15.518861",
                  "Dobry",
                  "2025-08-26 16:15:24"
                ],
                [
                  "401",
                  "Kraków, ul. Bujaka",
                  "Kraków",
                  "50.010575",
                  "19.949189",
                  "Dobry",
                  "2025-08-26 16:11:08"
                ],
                [
                  "426",
                  "Nowy Sącz, ul. Nadbrzeżna",
                  "Nowy Sącz",
                  "49.619281",
                  "20.714403",
                  "Brak indeksu",
                  "2025-08-26 16:11:08"
                ],
                [
                  "459",
                  "Zakopane, ul. Sienkiewicza",
                  "Zakopane",
                  "49.293564",
                  "19.960083",
                  "Dobry",
                  "2025-08-26 16:11:08"
                ],
                [
                  "460",
                  "Belsk Duży, IGF PAN",
                  "Belsk Duży",
                  "51.835242",
                  "20.791912",
                  "Dobry",
                  "2025-08-26 16:13:21"
                ],
                [
                  "471",
                  "Legionowo, ul. Zegrzyńska",
                  "Legionowo",
                  "52.407578",
                  "20.955928",
                  "Dobry",
                  "2025-08-26 16:13:21"
                ],
                [
                  "497",
                  "Płock, ul. Królowej Jadwigi",
                  "Płock",
                  "52.556279",
                  "19.687672",
                  "Brak indeksu",
                  "2025-08-26 16:13:21"
                ],
                [
                  "530",
                  "Warszawa, al. Niepodległości",
                  "Warszawa",
                  "52.219298",
                  "21.004724",
                  "Brak indeksu",
                  "2025-08-26 16:13:21"
                ],
                [
                  "638",
                  "Jaslo, ul. Sikorskiego",
                  "Jasło",
                  "49.744886",
                  "21.454617",
                  "Dobry",
                  "2025-08-26 16:10:53"
                ],
                [
                  "659",
                  "Nisko, ul. Szklarniowa",
                  "Nisko",
                  "50.529892",
                  "22.112467",
                  "Dobry",
                  "2025-08-26 16:10:53"
                ],
                [
                  "732",
                  "Gdynia, ul. Porębskiego",
                  "Gdynia",
                  "54.560836",
                  "18.493331",
                  "Bardzo dobry",
                  "2025-08-26 16:10:30"
                ],
                [
                  "769",
                  "Nowiny, ul. Parkowa",
                  "Nowiny",
                  "50.823108",
                  "20.533506",
                  "Dobry",
                  "2025-08-26 16:06:11"
                ],
                [
                  "778",
                  "Połaniec, ul. Ruszczańska",
                  "Połaniec",
                  "50.429014",
                  "21.277367",
                  "Brak indeksu",
                  "2025-08-26 16:06:11"
                ],
                [
                  "789",
                  "Bielsko-Biała, ul. Kossak-Szczuckiej",
                  "Bielsko-Biała",
                  "49.813464",
                  "19.027318",
                  "Dobry",
                  "2025-08-26 16:10:56"
                ],
                [
                  "809",
                  "Gliwice, ul. Mewy",
                  "Gliwice",
                  "50.279481",
                  "18.655736",
                  "Brak indeksu",
                  "2025-08-26 16:10:56"
                ],
                [
                  "814",
                  "Katowice, ul. Kossutha",
                  "Katowice",
                  "50.264611",
                  "18.975028",
                  "Dobry",
                  "2025-08-26 16:10:56"
                ],
                [
                  "841",
                  "Tychy, ul. Tołstoja",
                  "Tychy",
                  "50.099903",
                  "18.990236",
                  "Brak indeksu",
                  "2025-08-26 16:10:56"
                ],
                [
                  "920",
                  "Pila, ul. Kusocińskiego",
                  "Piła",
                  "53.154408",
                  "16.759572",
                  "Brak indeksu",
                  "2025-08-26 16:12:13"
                ],
                [
                  "983",
                  "Szczecinek, ul. Przemysłowa",
                  "Szczecinek",
                  "53.698902",
                  "16.704556",
                  "Brak indeksu",
                  "2025-08-26 16:12:13"
                ],
                [
                  "9179",
                  "Szarów, ul. Spokojna",
                  "Szarów",
                  "50.007500",
                  "20.259167",
                  "Dobry",
                  "2025-08-26 16:11:08"
                ],
                [
                  "9913",
                  "Guty Duże",
                  "Guty Duże",
                  "52.943172",
                  "21.288167",
                  "Dobry",
                  "2025-08-26 16:13:21"
                ],
                [
                  "485",
                  "Otwock, ul. Brzozowa",
                  "Otwock",
                  "52.115725",
                  "21.237297",
                  "Dobry",
                  "2025-08-26 16:13:21"
                ],
                [
                  "10058",
                  "Łódź, al. Jana Pawła II",
                  "Łódź",
                  "51.754613",
                  "19.434925",
                  "Brak indeksu",
                  "2025-08-26 16:10:47"
                ],
                [
                  "10125",
                  "Rzeszów, ul. Piłsudskiego",
                  "Rzeszów",
                  "50.040675",
                  "22.004656",
                  "Brak indeksu",
                  "2025-08-26 16:10:53"
                ],
                [
                  "10093",
                  "Duszniki-Zdrój, ul. Sportowa",
                  "Duszniki-Zdrój",
                  "50.402561",
                  "16.393311",
                  "Brak indeksu",
                  "2025-08-26 16:10:37"
                ],
                [
                  "10120",
                  "Tarnów, ul. Ks. Romana Sitko",
                  "Tarnów",
                  "50.018253",
                  "20.992578",
                  "Brak indeksu",
                  "2025-08-26 16:11:08"
                ],
                [
                  "10158",
                  "Bielsko-Biała, ul.Partyzantów",
                  "Bielsko-Biała",
                  "49.802075",
                  "19.048610",
                  "Brak indeksu",
                  "2025-08-26 16:10:56"
                ],
                [
                  "331",
                  "Radomsko, ul. Rolna",
                  "Radomsko",
                  "51.067417",
                  "19.448714",
                  "Dobry",
                  "2025-08-26 16:10:47"
                ],
                [
                  "10956",
                  "Warszawa, ul. Bajkowa",
                  "Warszawa",
                  "52.188474",
                  "21.176233",
                  "Brak indeksu",
                  "2025-08-26 16:13:21"
                ],
                [
                  "612",
                  "Borsukowizna, Szkółka Leśna",
                  "Borsukowizna",
                  "53.215492",
                  "23.642153",
                  "Bardzo dobry",
                  "2025-08-26 16:10:21"
                ],
                [
                  "11154",
                  "Suwałki, ul. Pułaskiego 26",
                  "Suwałki",
                  "54.115897",
                  "22.938464",
                  "Bardzo dobry",
                  "2025-08-26 16:10:21"
                ],
                [
                  "631",
                  "Jarosław, ul. Pruchnicka",
                  "Jarosław",
                  "50.012083",
                  "22.674772",
                  "Brak indeksu",
                  "2025-08-26 16:10:53"
                ],
                [
                  "11457",
                  "Goczałkowice Zdrój, ul. Parkowa",
                  "Goczałkowice-Zdrój",
                  "49.937850",
                  "18.975594",
                  "Dobry",
                  "2025-08-26 16:10:56"
                ],
                [
                  "11576",
                  "Bydgoszcz, ul. Jeździecka",
                  "Bydgoszcz",
                  "53.175214",
                  "18.044164",
                  "Dobry",
                  "2025-08-26 16:15:41"
                ],
                [
                  "11616",
                  "Kutno, ul. 1 Maja",
                  "Kutno",
                  "52.231908",
                  "19.353689",
                  "Brak indeksu",
                  "2025-08-26 16:10:47"
                ],
                [
                  "11934",
                  "Trzebnica, ul. 3 Maja",
                  "Trzebnica",
                  "51.304817",
                  "17.071367",
                  "Dobry",
                  "2025-08-26 16:10:37"
                ],
                [
                  "12038",
                  "Świecie, al. Jana Pawła II",
                  "Świecie",
                  "53.407580",
                  "18.428751",
                  "Brak indeksu",
                  "2025-08-26 16:15:41"
                ],
                [
                  "9218",
                  "Pleszew, Al. Mickiewicza",
                  "Pleszew",
                  "51.884922",
                  "17.791106",
                  "Brak indeksu",
                  "2025-08-26 16:12:13"
                ],
                [
                  "742",
                  "Lębork, ul. Malczewskiego",
                  "Lębork",
                  "54.546167",
                  "17.746194",
                  "Dobry",
                  "2025-08-26 16:10:30"
                ],
                [
                  "16238",
                  "Sulechów, ul. Licealna",
                  "Sulechów",
                  "52.084833",
                  "15.633250",
                  "Brak indeksu",
                  "2025-08-26 16:15:24"
                ],
                [
                  "684",
                  "Tarnobrzeg, ul. Dąbrowskiej",
                  "Tarnobrzeg",
                  "50.575742",
                  "21.688367",
                  "Brak indeksu",
                  "2025-08-26 16:10:53"
                ],
                [
                  "16493",
                  "Poznań ul. Szwajcarska",
                  "Poznań",
                  "52.390879",
                  "16.998053",
                  "Dobry",
                  "2025-08-26 16:12:13"
                ],
                [
                  "17658",
                  "Białystok, ul. Upalna",
                  "Białystok",
                  "53.129601",
                  "23.108054",
                  "Bardzo dobry",
                  "2025-08-26 16:10:21"
                ],
                [
                  "10934",
                  "Kołobrzeg, ul. Żółkiewskiego",
                  "Kołobrzeg",
                  "54.179381",
                  "15.596347",
                  "Brak indeksu",
                  "2025-08-26 16:12:13"
                ],
                [
                  "17758",
                  "Skarżysko-Kamienna, ul. 1 Maja",
                  "Skarżysko-Kamienna",
                  "51.115842",
                  "20.891593",
                  "Brak indeksu",
                  "2025-08-26 16:16:13"
                ],
                [
                  "785",
                  "Starachowice, ul. Złota",
                  "Starachowice",
                  "51.050611",
                  "21.084175",
                  "Brak indeksu",
                  "2025-08-26 16:16:13"
                ],
                [
                  "20201",
                  "Rzeszów, ul. Kwiatkowskiego",
                  "Rzeszów",
                  "49.998408",
                  "21.992183",
                  "Brak indeksu",
                  "2025-08-26 16:10:53"
                ],
                [
                  "20209",
                  "Ciechanów, ul. Kraszewskiego",
                  "Ciechanów",
                  "52.885541",
                  "20.602511",
                  "Brak indeksu",
                  "2025-08-26 16:13:21"
                ],
                [
                  "20277",
                  "Tomaszów Lubelski, ul. Janusza Petera",
                  "Tomaszów Lubelski",
                  "50.444128",
                  "23.421553",
                  "Brak indeksu",
                  "2025-08-26 16:11:02"
                ],
                [
                  "20347",
                  "Gdańsk, ul. Lawendowe Wzgórze",
                  "Gdańsk",
                  "54.328833",
                  "18.568819",
                  "Bardzo dobry",
                  "2025-08-26 16:10:30"
                ],
                [
                  "20468",
                  "Lubań, ul. Ludowa",
                  "Lubań",
                  "51.120091",
                  "15.298189",
                  "Brak indeksu",
                  "2025-08-26 16:10:37"
                ],
                [
                  "961",
                  "Widuchowa",
                  "Widuchowa",
                  "53.122325",
                  "14.382245",
                  "Dobry",
                  "2025-08-26 16:12:13"
                ],
                [
                  "142",
                  "Grudziądz, ul. Piłsudskiego",
                  "Grudziądz",
                  "53.493550",
                  "18.762139",
                  "Brak indeksu",
                  "2025-08-26 16:15:41"
                ],
                [
                  "741",
                  "Malbork, ul. Mickiewicza",
                  "Malbork",
                  "54.031247",
                  "19.032899",
                  "Bardzo dobry",
                  "2025-08-26 16:10:30"
                ],
                [
                  "946",
                  "Piaski, Krzyżówka",
                  "Krzyżówka",
                  "52.501318",
                  "17.773175",
                  "Dobry",
                  "2025-08-26 16:12:13"
                ],
                [
                  "9175",
                  "Krempna, Ośrodek edukacyjno-muzealny MPN",
                  "Krempna",
                  "49.511297",
                  "21.498606",
                  "Dobry",
                  "2025-08-26 16:10:53"
                ],
                [
                  "856",
                  "Żywiec, ul. Kopernika",
                  "Żywiec",
                  "49.671602",
                  "19.234446",
                  "Dobry",
                  "2025-08-26 16:10:56"
                ],
                [
                  "11855",
                  "Jastrzębie-Zdrój, Al.J.Piłsudskiego/Harcerska",
                  "Jastrzębie-Zdrój",
                  "49.952544",
                  "18.607953",
                  "Dostateczny",
                  "2025-08-26 16:10:56"
                ],
                [
                  "16271",
                  "Konstancin-Jeziorna, ul. Żeromskiego",
                  "Konstancin-Jeziorna",
                  "52.082277",
                  "21.124598",
                  "Brak indeksu",
                  "2025-08-26 16:13:21"
                ],
                [
                  "16495",
                  "Mosina, ul. Czereśniowa",
                  "Mosina",
                  "52.241497",
                  "16.865125",
                  "Brak indeksu",
                  "2025-08-26 16:12:13"
                ],
                [
                  "16533",
                  "Warszawa, IMGW",
                  "Warszawa",
                  "52.281304",
                  "20.963383",
                  "Bardzo dobry",
                  "2025-08-26 16:13:21"
                ],
                [
                  "16913",
                  "Krapkowice, ul. 3 Maja",
                  "Krapkowice",
                  "50.486194",
                  "17.974770",
                  "Brak indeksu",
                  "2025-08-26 16:15:20"
                ],
                [
                  "20200",
                  "Kolbuszowa, ul. Jana Pawła II",
                  "Kolbuszowa",
                  "50.245897",
                  "21.769494",
                  "Brak indeksu",
                  "2025-08-26 16:10:53"
                ],
                [
                  "20488",
                  "Warszawa, al. Solidarności",
                  "Warszawa",
                  "52.243573",
                  "20.999214",
                  "Brak indeksu",
                  "2025-08-26 16:13:21"
                ],
                [
                  "248",
                  "Jarczew, IMGW",
                  "Jarczew",
                  "51.814367",
                  "21.972375",
                  "Dobry",
                  "2025-08-26 16:11:02"
                ],
                [
                  "282",
                  "Wilczopole",
                  "Wilczopole",
                  "51.163542",
                  "22.598608",
                  "Dobry",
                  "2025-08-26 16:11:02"
                ],
                [
                  "665",
                  "Przemyśl, ul. Grunwaldzka",
                  "Przemyśl",
                  "49.784339",
                  "22.756239",
                  "Dobry",
                  "2025-08-26 16:10:53"
                ],
                [
                  "671",
                  "Rzeszów, ul. Rejtana",
                  "Rzeszów",
                  "50.024242",
                  "22.010575",
                  "Dobry",
                  "2025-08-26 16:10:53"
                ],
                [
                  "10139",
                  "Kraków, os. Piastów",
                  "Kraków",
                  "50.098508",
                  "20.018269",
                  "Brak indeksu",
                  "2025-08-26 16:11:08"
                ],
                [
                  "10414",
                  "Rymanów Zdrój, ul. Parkowa",
                  "Rymanów-Zdrój",
                  "49.546539",
                  "21.851006",
                  "Brak indeksu",
                  "2025-08-26 16:10:53"
                ],
                [
                  "10874",
                  "Florianka, RPN",
                  "Florianka",
                  "50.551894",
                  "22.982861",
                  "Dobry",
                  "2025-08-26 16:11:02"
                ],
                [
                  "12056",
                  "Chojnów, ul. S. Małachowskiego ",
                  "Chojnów",
                  "51.274280",
                  "15.929804",
                  "Dobry",
                  "2025-08-26 16:10:37"
                ],
                [
                  "12138",
                  "Łagów, ul. Zapłotnia",
                  "Łagów",
                  "50.778479",
                  "21.081224",
                  "Brak indeksu",
                  "2025-08-26 16:16:13"
                ],
                [
                  "20160",
                  "Świnoujście, ul. Białoruska",
                  "Świnoujście",
                  "53.903814",
                  "14.279628",
                  "Brak indeksu",
                  "2025-08-26 16:12:13"
                ],
                [
                  "20447",
                  "Giżycko, ul. Wodociągowa",
                  "Giżycko",
                  "54.043210",
                  "21.784858",
                  "Bardzo dobry",
                  "2025-08-26 16:10:22"
                ],
                [
                  "20487",
                  "Warszawa, ul. Grochowska",
                  "Warszawa",
                  "52.245704",
                  "21.080427",
                  "Brak indeksu",
                  "2025-08-26 16:13:21"
                ],
                [
                  "618",
                  "Łomża, ul. Sikorskiego",
                  "Łomża",
                  "53.181394",
                  "22.054381",
                  "Bardzo dobry",
                  "2025-08-26 16:10:21"
                ],
                [
                  "750",
                  "Łeba, IMGW",
                  "Łeba",
                  "54.754139",
                  "17.534528",
                  "Dobry",
                  "2025-08-26 16:10:30"
                ],
                [
                  "989",
                  "Szczecin, ul. Łączna",
                  "Szczecin",
                  "53.470889",
                  "14.556250",
                  "Dobry",
                  "2025-08-26 16:12:13"
                ],
                [
                  "10124",
                  "Sucha Beskidzka, ul. Nieszczyńskiej",
                  "Sucha Beskidzka",
                  "49.743131",
                  "19.600339",
                  "Brak indeksu",
                  "2025-08-26 16:11:08"
                ],
                [
                  "609",
                  "Białystok, ul. Warszawska",
                  "Białystok",
                  "53.129306",
                  "23.181744",
                  "Bardzo dobry",
                  "2025-08-26 16:10:21"
                ],
                [
                  "9173",
                  "Dębica, ul.Grottgera",
                  "Dębica",
                  "50.054786",
                  "21.416256",
                  "Brak indeksu",
                  "2025-08-26 16:10:53"
                ],
                [
                  "646",
                  "Krosno, ul. Kletówki",
                  "Krosno",
                  "49.690169",
                  "21.749700",
                  "Brak indeksu",
                  "2025-08-26 16:10:53"
                ],
                [
                  "455",
                  "Niepołomice, ul. 3 Maja",
                  "Niepołomice",
                  "50.035117",
                  "20.212689",
                  "Brak indeksu",
                  "2025-08-26 16:11:08"
                ],
                [
                  "16753",
                  "Myślenice",
                  "Myślenice",
                  "49.831237",
                  "19.923591",
                  "Brak indeksu",
                  "2025-08-26 16:11:08"
                ],
                [
                  "20140",
                  "Wysokie Mazowieckie, ul. 1 Maja",
                  "Wysokie Mazowieckie",
                  "52.913878",
                  "22.509275",
                  "Bardzo dobry",
                  "2025-08-26 16:10:21"
                ],
                [
                  "466",
                  "Granica, KPN",
                  "Granica",
                  "52.285858",
                  "20.454653",
                  "Dobry",
                  "2025-08-26 16:13:21"
                ],
                [
                  "11254",
                  "Nowa Ruda, ul. Jeziorna",
                  "Nowa Ruda",
                  "50.581492",
                  "16.498245",
                  "Brak indeksu",
                  "2025-08-26 16:10:37"
                ],
                [
                  "11360",
                  "Chełm, ul. Połaniecka",
                  "Chełm",
                  "51.122147",
                  "23.473075",
                  "Brak indeksu",
                  "2025-08-26 16:11:02"
                ],
                [
                  "11278",
                  "Lubliniec, ul. ks. Szymały",
                  "Lubliniec",
                  "50.675693",
                  "18.682065",
                  "Brak indeksu",
                  "2025-08-26 16:10:56"
                ],
                [
                  "10446",
                  "Rabka-Zdrój, ul. Orkana",
                  "Rabka-Zdrój",
                  "49.608647",
                  "19.966008",
                  "Brak indeksu",
                  "2025-08-26 16:11:08"
                ],
                [
                  "11434",
                  "Zabierzów, ul. Wapienna",
                  "Zabierzów",
                  "50.116028",
                  "19.800639",
                  "Brak indeksu",
                  "2025-08-26 16:11:08"
                ],
                [
                  "16406",
                  "Cieszyn, ul. Chopina",
                  "Cieszyn",
                  "49.755989",
                  "18.634075",
                  "Dobry",
                  "2025-08-26 16:10:56"
                ],
                [
                  "678",
                  "Sanok, ul. Sadowa",
                  "Sanok",
                  "49.571731",
                  "22.195892",
                  "Brak indeksu",
                  "2025-08-26 16:10:53"
                ],
                [
                  "17118",
                  "Wysowa-Zdrój, Park Zdrojowy",
                  "Uście Gorlickie Wysowa",
                  "49.440175",
                  "21.178087",
                  "Brak indeksu",
                  "2025-08-26 16:11:08"
                ],
                [
                  "17179",
                  "Rzeszów, ul. Starzyńskiego",
                  "Rzeszów",
                  "50.060381",
                  "21.980511",
                  "Brak indeksu",
                  "2025-08-26 16:10:53"
                ],
                [
                  "11303",
                  "Kraków, os. Swoszowice",
                  "Kraków",
                  "49.991442",
                  "19.936792",
                  "Brak indeksu",
                  "2025-08-26 16:11:08"
                ],
                [
                  "16270",
                  "Bytów, ul. Miła",
                  "Bytów",
                  "54.172700",
                  "17.492990",
                  "Bardzo dobry",
                  "2025-08-26 16:10:30"
                ],
                [
                  "16613",
                  "Nowa Sól",
                  "Nowa Sól",
                  "51.809103",
                  "15.708042",
                  "Brak indeksu",
                  "2025-08-26 16:15:24"
                ],
                [
                  "16894",
                  "Nowy Targ, al. Tysiąclecia ",
                  "Nowy Targ",
                  "49.476675",
                  "20.034878",
                  "Brak indeksu",
                  "2025-08-26 16:11:08"
                ],
                [
                  "20307",
                  "Krotoszyn, ul. Olimpijska",
                  "Krotoszyn",
                  "51.697308",
                  "17.441263",
                  "Brak indeksu",
                  "2025-08-26 16:12:13"
                ],
                [
                  "20387",
                  "Nysa, ul. Rodziewiczówny 1",
                  "Nysa",
                  "50.460992",
                  "17.331499",
                  "Brak indeksu",
                  "2025-08-26 16:15:20"
                ],
                [
                  "10817",
                  "Złockie, szkoła podstawowa",
                  "Złockie",
                  "49.374147",
                  "20.879581",
                  "Brak indeksu",
                  "2025-08-26 16:11:08"
                ],
                [
                  "11301",
                  "Olkusz, ul. Cegielniana",
                  "Olkusz",
                  "50.284000",
                  "19.564044",
                  "Brak indeksu",
                  "2025-08-26 16:11:08"
                ],
                [
                  "16497",
                  "Kielce, ul. Jurajska",
                  "Kielce",
                  "50.887606",
                  "20.579965",
                  "Brak indeksu",
                  "2025-08-26 16:16:13"
                ]
              ]
            },
            "text/plain": "<Spark SQL result set with 212 rows and 7 fields>"
          },
          "metadata": {}
        }
      ],
      "execution_count": 62,
      "metadata": {
        "microsoft": {
          "language": "sparksql"
        },
        "jupyter": {
          "outputs_hidden": true
        },
        "collapsed": false
      }
    }
  ],
  "metadata": {
    "language_info": {
      "name": "python"
    },
    "kernelspec": {
      "name": "synapse_pyspark",
      "display_name": "python"
    },
    "description": null,
    "save_output": true,
    "synapse_widget": {
      "version": "0.1",
      "state": {
        "c494a34c-27ce-4cae-b457-82e37748b48b": {
          "type": "Synapse.DataFrame",
          "sync_state": {
            "table": {
              "rows": [
                {
                  "0": "ul. Strażacka 7",
                  "1": {
                    "commune": {
                      "communeName": "Świeradów-Zdrój",
                      "districtName": "lubański",
                      "provinceName": "DOLNOŚLĄSKIE"
                    },
                    "id": 142,
                    "name": "Czerniawa"
                  },
                  "2": "50.912475",
                  "3": "15.312190",
                  "4": "11",
                  "5": "Czerniawa"
                },
                {
                  "0": "ul. Piłsudskiego 26",
                  "1": {
                    "commune": {
                      "communeName": "Dzierżoniów",
                      "districtName": "dzierżoniowski",
                      "provinceName": "DOLNOŚLĄSKIE"
                    },
                    "id": 198,
                    "name": "Dzierżoniów"
                  },
                  "2": "50.732817",
                  "3": "16.648050",
                  "4": "16",
                  "5": "Dzierżoniów, ul. Piłsudskiego"
                },
                {
                  "0": "ul. Szkolna 8",
                  "1": {
                    "commune": {
                      "communeName": "Kłodzko",
                      "districtName": "kłodzki",
                      "provinceName": "DOLNOŚLĄSKIE"
                    },
                    "id": 368,
                    "name": "Kłodzko"
                  },
                  "2": "50.433493",
                  "3": "16.653660",
                  "4": "38",
                  "5": "Kłodzko, ul. Szkolna"
                },
                {
                  "0": "al. Rzeczypospolitej 10/12",
                  "1": {
                    "commune": {
                      "communeName": "Legnica",
                      "districtName": "Legnica",
                      "provinceName": "DOLNOŚLĄSKIE"
                    },
                    "id": 453,
                    "name": "Legnica"
                  },
                  "2": "51.204503",
                  "3": "16.180513",
                  "4": "52",
                  "5": "Legnica, al. Rzeczypospolitej"
                },
                {
                  "0": "ul. Bartnicza",
                  "1": {
                    "commune": {
                      "communeName": "Wrocław",
                      "districtName": "Wrocław",
                      "provinceName": "DOLNOŚLĄSKIE"
                    },
                    "id": 1064,
                    "name": "Wrocław"
                  },
                  "2": "51.115933",
                  "3": "17.141125",
                  "4": "114",
                  "5": "Wrocław, ul. Bartnicza"
                },
                {
                  "0": "ul. Wyb. J.Conrada-Korzeniowskiego 18",
                  "1": {
                    "commune": {
                      "communeName": "Wrocław",
                      "districtName": "Wrocław",
                      "provinceName": "DOLNOŚLĄSKIE"
                    },
                    "id": 1064,
                    "name": "Wrocław"
                  },
                  "2": "51.129378",
                  "3": "17.029250",
                  "4": "117",
                  "5": "Wrocław, wyb. Conrada-Korzeniowskiego"
                },
                {
                  "0": "al. Wiśniowa/ul. Powst. Śląskich",
                  "1": {
                    "commune": {
                      "communeName": "Wrocław",
                      "districtName": "Wrocław",
                      "provinceName": "DOLNOŚLĄSKIE"
                    },
                    "id": 1064,
                    "name": "Wrocław"
                  },
                  "2": "51.086225",
                  "3": "17.012689",
                  "4": "129",
                  "5": "Wrocław, al. Wiśniowa"
                },
                {
                  "0": "ul. Solankowa",
                  "1": {
                    "commune": {
                      "communeName": "Inowrocław",
                      "districtName": "inowrocławski",
                      "provinceName": "KUJAWSKO-POMORSKIE"
                    },
                    "id": 287,
                    "name": "Inowrocław"
                  },
                  "2": "52.793122",
                  "3": "18.241044",
                  "4": "143",
                  "5": "Inowrocław, ul. Solankowa"
                },
                {
                  "0": "Plac Poznański",
                  "1": {
                    "commune": {
                      "communeName": "Bydgoszcz",
                      "districtName": "Bydgoszcz",
                      "provinceName": "KUJAWSKO-POMORSKIE"
                    },
                    "id": 90,
                    "name": "Bydgoszcz"
                  },
                  "2": "53.121764",
                  "3": "17.987906",
                  "4": "156",
                  "5": "Bydgoszcz, pl. Poznański"
                },
                {
                  "0": "ul. Warszawska 10",
                  "1": {
                    "commune": {
                      "communeName": "Bydgoszcz",
                      "districtName": "Bydgoszcz",
                      "provinceName": "KUJAWSKO-POMORSKIE"
                    },
                    "id": 90,
                    "name": "Bydgoszcz"
                  },
                  "2": "53.134083",
                  "3": "17.995708",
                  "4": "158",
                  "5": "Bydgoszcz, ul. Warszawska"
                }
              ],
              "schema": [
                {
                  "key": "0",
                  "name": "addressStreet",
                  "type": "string"
                },
                {
                  "key": "1",
                  "name": "city",
                  "type": "StructType(StructField(commune,StructType(StructField(communeName,StringType,true),StructField(districtName,StringType,true),StructField(provinceName,StringType,true)),true),StructField(id,LongType,true),StructField(name,StringType,true))"
                },
                {
                  "key": "2",
                  "name": "gegrLat",
                  "type": "string"
                },
                {
                  "key": "3",
                  "name": "gegrLon",
                  "type": "string"
                },
                {
                  "key": "4",
                  "name": "id",
                  "type": "bigint"
                },
                {
                  "key": "5",
                  "name": "stationName",
                  "type": "string"
                }
              ],
              "truncated": false
            },
            "isSummary": false,
            "language": "scala",
            "wranglerEntryContext": {
              "dataframeType": "pyspark"
            }
          },
          "persist_state": {
            "view": {
              "type": "details",
              "tableOptions": {},
              "chartOptions": {
                "chartType": "bar",
                "aggregationType": "sum",
                "categoryFieldKeys": [
                  "0"
                ],
                "seriesFieldKeys": [
                  "4"
                ],
                "isStacked": false
              }
            }
          }
        },
        "386282f8-79c0-4b33-8d09-6264fb05a7e6": {
          "type": "Synapse.DataFrame",
          "sync_state": {
            "table": {
              "rows": [
                {
                  "0": "10005",
                  "1": "2025-08-26 16:10:22",
                  "2": {
                    "id": 0,
                    "indexLevelName": "Bardzo dobry"
                  },
                  "3": "2025-08-26 16:00:00",
                  "4": "2025-08-26 16:10:22",
                  "5": {
                    "id": 0,
                    "indexLevelName": "Bardzo dobry"
                  },
                  "6": "2025-08-26 16:00:00",
                  "7": "2025-08-26 16:10:22",
                  "8": {
                    "id": 0,
                    "indexLevelName": "Bardzo dobry"
                  },
                  "9": "2025-08-26 16:00:00",
                  "10": "2025-08-26 16:10:22",
                  "11": {
                    "id": 0,
                    "indexLevelName": "Bardzo dobry"
                  },
                  "12": "2025-08-26 16:00:00",
                  "13": "2025-08-26 16:10:22",
                  "14": {
                    "id": 0,
                    "indexLevelName": "Bardzo dobry"
                  },
                  "15": "2025-08-26 16:00:00",
                  "16": "2025-08-26 16:10:22",
                  "17": "OZON",
                  "18": {
                    "id": 0,
                    "indexLevelName": "Bardzo dobry"
                  },
                  "19": "true",
                  "20": "2025-08-26 16:00:00"
                },
                {
                  "0": "11174",
                  "1": "2025-08-26 16:10:21",
                  "2": {
                    "id": 0,
                    "indexLevelName": "Bardzo dobry"
                  },
                  "3": "2025-08-26 16:00:00",
                  "4": "2025-08-26 16:10:21",
                  "5": {
                    "id": 0,
                    "indexLevelName": "Bardzo dobry"
                  },
                  "6": "2025-08-26 16:00:00",
                  "7": "2025-08-26 16:10:21",
                  "8": {
                    "id": 0,
                    "indexLevelName": "Bardzo dobry"
                  },
                  "9": "2025-08-26 16:00:00",
                  "10": "2025-08-26 16:10:21",
                  "11": {
                    "id": 0,
                    "indexLevelName": "Bardzo dobry"
                  },
                  "12": "2025-08-26 16:00:00",
                  "13": "2025-08-26 16:10:21",
                  "14": {
                    "id": 0,
                    "indexLevelName": "Bardzo dobry"
                  },
                  "15": "2025-08-26 16:00:00",
                  "16": "2025-08-26 16:10:21",
                  "17": "OZON",
                  "18": {
                    "id": 0,
                    "indexLevelName": "Bardzo dobry"
                  },
                  "19": "true",
                  "20": "2025-08-26 16:00:00"
                },
                {
                  "0": "20347",
                  "1": "2025-08-26 16:10:30",
                  "2": {
                    "id": 0,
                    "indexLevelName": "Bardzo dobry"
                  },
                  "3": "2025-08-26 15:00:00",
                  "4": "2025-08-26 16:10:30",
                  "5": {
                    "id": 0,
                    "indexLevelName": "Bardzo dobry"
                  },
                  "6": "2025-08-26 15:00:00",
                  "7": "2025-08-26 16:10:30",
                  "8": {
                    "id": 0,
                    "indexLevelName": "Bardzo dobry"
                  },
                  "9": "2025-08-26 15:00:00",
                  "10": "2025-08-26 16:10:30",
                  "11": {
                    "id": 0,
                    "indexLevelName": "Bardzo dobry"
                  },
                  "12": "2025-08-26 15:00:00",
                  "13": "2025-08-26 16:10:30",
                  "14": {
                    "id": 0,
                    "indexLevelName": "Bardzo dobry"
                  },
                  "15": "2025-08-26 15:00:00",
                  "16": "2025-08-26 16:10:30",
                  "17": "OZON",
                  "18": {
                    "id": 0,
                    "indexLevelName": "Bardzo dobry"
                  },
                  "19": "true",
                  "20": "2025-08-26 15:00:00"
                },
                {
                  "0": "612",
                  "1": "2025-08-26 16:10:21",
                  "2": {
                    "id": 0,
                    "indexLevelName": "Bardzo dobry"
                  },
                  "3": "2025-08-26 16:00:00",
                  "4": "2025-08-26 16:10:21",
                  "5": {
                    "id": 0,
                    "indexLevelName": "Bardzo dobry"
                  },
                  "6": "2025-08-26 16:00:00",
                  "7": "2025-08-26 16:10:21",
                  "8": {
                    "id": 0,
                    "indexLevelName": "Bardzo dobry"
                  },
                  "9": "2025-08-26 16:00:00",
                  "10": "2025-08-26 16:10:21",
                  "11": {
                    "id": 0,
                    "indexLevelName": "Bardzo dobry"
                  },
                  "12": "2025-08-26 16:00:00",
                  "13": "2025-08-26 16:10:21",
                  "14": {
                    "id": 0,
                    "indexLevelName": "Bardzo dobry"
                  },
                  "15": "2025-08-26 16:00:00",
                  "16": "2025-08-26 16:10:21",
                  "17": "OZON",
                  "18": {
                    "id": 0,
                    "indexLevelName": "Bardzo dobry"
                  },
                  "19": "true",
                  "20": "2025-08-26 16:00:00"
                },
                {
                  "0": "732",
                  "1": "2025-08-26 16:10:30",
                  "2": {
                    "id": 0,
                    "indexLevelName": "Bardzo dobry"
                  },
                  "3": "2025-08-26 15:00:00",
                  "4": "2025-08-26 16:10:30",
                  "5": {
                    "id": 0,
                    "indexLevelName": "Bardzo dobry"
                  },
                  "6": "2025-08-26 15:00:00",
                  "7": "2025-08-26 16:10:30",
                  "8": {
                    "id": 0,
                    "indexLevelName": "Bardzo dobry"
                  },
                  "9": "2025-08-26 15:00:00",
                  "10": "2025-08-26 16:10:30",
                  "11": {
                    "id": 0,
                    "indexLevelName": "Bardzo dobry"
                  },
                  "12": "2025-08-26 15:00:00",
                  "13": "2025-08-26 16:10:30",
                  "14": {
                    "id": 0,
                    "indexLevelName": "Bardzo dobry"
                  },
                  "15": "2025-08-26 15:00:00",
                  "16": "2025-08-26 16:10:30",
                  "17": "OZON",
                  "18": {
                    "id": 0,
                    "indexLevelName": "Bardzo dobry"
                  },
                  "19": "true",
                  "20": "2025-08-26 15:00:00"
                },
                {
                  "0": "736",
                  "1": "2025-08-26 16:10:30",
                  "2": {
                    "id": 0,
                    "indexLevelName": "Bardzo dobry"
                  },
                  "3": "2025-08-26 15:00:00",
                  "4": "2025-08-26 16:10:30",
                  "5": {
                    "id": 0,
                    "indexLevelName": "Bardzo dobry"
                  },
                  "6": "2025-08-26 15:00:00",
                  "7": "2025-08-26 16:10:30",
                  "8": {
                    "id": 0,
                    "indexLevelName": "Bardzo dobry"
                  },
                  "9": "2025-08-26 15:00:00",
                  "10": "2025-08-26 16:10:30",
                  "11": {
                    "id": 0,
                    "indexLevelName": "Bardzo dobry"
                  },
                  "12": "2025-08-26 15:00:00",
                  "13": "2025-08-26 16:10:30",
                  "14": {
                    "id": 0,
                    "indexLevelName": "Bardzo dobry"
                  },
                  "15": "2025-08-26 15:00:00",
                  "16": "2025-08-26 16:10:30",
                  "17": "OZON",
                  "18": {
                    "id": 0,
                    "indexLevelName": "Bardzo dobry"
                  },
                  "19": "true",
                  "20": "2025-08-26 15:00:00"
                },
                {
                  "0": "861",
                  "1": "2025-08-26 16:10:22",
                  "2": {
                    "id": 0,
                    "indexLevelName": "Bardzo dobry"
                  },
                  "3": "2025-08-26 16:00:00",
                  "4": "2025-08-26 16:10:22",
                  "5": {
                    "id": 0,
                    "indexLevelName": "Bardzo dobry"
                  },
                  "6": "2025-08-26 16:00:00",
                  "7": "2025-08-26 16:10:22",
                  "8": {
                    "id": 0,
                    "indexLevelName": "Bardzo dobry"
                  },
                  "9": "2025-08-26 16:00:00",
                  "10": "2025-08-26 16:10:22",
                  "11": {
                    "id": 0,
                    "indexLevelName": "Bardzo dobry"
                  },
                  "12": "2025-08-26 16:00:00",
                  "13": "2025-08-26 16:10:22",
                  "14": {
                    "id": 0,
                    "indexLevelName": "Bardzo dobry"
                  },
                  "15": "2025-08-26 16:00:00",
                  "16": "2025-08-26 16:10:22",
                  "17": "OZON",
                  "18": {
                    "id": 0,
                    "indexLevelName": "Bardzo dobry"
                  },
                  "19": "true",
                  "20": "2025-08-26 16:00:00"
                },
                {
                  "0": "877",
                  "1": "2025-08-26 16:10:22",
                  "2": {
                    "id": 0,
                    "indexLevelName": "Bardzo dobry"
                  },
                  "3": "2025-08-26 16:00:00",
                  "4": "2025-08-26 16:10:22",
                  "5": {
                    "id": 0,
                    "indexLevelName": "Bardzo dobry"
                  },
                  "6": "2025-08-26 16:00:00",
                  "7": "2025-08-26 16:10:22",
                  "8": {
                    "id": 0,
                    "indexLevelName": "Bardzo dobry"
                  },
                  "9": "2025-08-26 16:00:00",
                  "10": "2025-08-26 16:10:22",
                  "11": {
                    "id": 0,
                    "indexLevelName": "Bardzo dobry"
                  },
                  "12": "2025-08-26 16:00:00",
                  "13": "2025-08-26 16:10:22",
                  "14": {
                    "id": 0,
                    "indexLevelName": "Bardzo dobry"
                  },
                  "15": "2025-08-26 16:00:00",
                  "16": "2025-08-26 16:10:22",
                  "17": "OZON",
                  "18": {
                    "id": 0,
                    "indexLevelName": "Bardzo dobry"
                  },
                  "19": "true",
                  "20": "2025-08-26 16:00:00"
                },
                {
                  "0": "10955",
                  "1": "2025-08-26 16:13:21",
                  "2": {
                    "id": 0,
                    "indexLevelName": "Bardzo dobry"
                  },
                  "3": "2025-08-26 16:00:00",
                  "4": "2025-08-26 16:13:21",
                  "5": {
                    "id": 1,
                    "indexLevelName": "Dobry"
                  },
                  "6": "2025-08-26 16:00:00",
                  "7": "2025-08-26 16:13:21",
                  "8": {
                    "id": 0,
                    "indexLevelName": "Bardzo dobry"
                  },
                  "9": "2025-08-26 16:00:00",
                  "10": "2025-08-26 16:13:21",
                  "11": {
                    "id": 0,
                    "indexLevelName": "Bardzo dobry"
                  },
                  "12": "2025-08-26 16:00:00",
                  "13": "2025-08-26 16:13:21",
                  "14": {
                    "id": 0,
                    "indexLevelName": "Bardzo dobry"
                  },
                  "15": "2025-08-26 16:00:00",
                  "16": "2025-08-26 16:13:21",
                  "17": "OZON",
                  "18": {
                    "id": 1,
                    "indexLevelName": "Dobry"
                  },
                  "19": "true",
                  "20": "2025-08-26 16:00:00"
                },
                {
                  "0": "11195",
                  "1": "2025-08-26 16:06:11",
                  "2": {
                    "id": 0,
                    "indexLevelName": "Bardzo dobry"
                  },
                  "3": "2025-08-26 16:00:00",
                  "4": "2025-08-26 16:06:11",
                  "5": {
                    "id": 1,
                    "indexLevelName": "Dobry"
                  },
                  "6": "2025-08-26 16:00:00",
                  "7": "2025-08-26 16:06:11",
                  "8": {
                    "id": 0,
                    "indexLevelName": "Bardzo dobry"
                  },
                  "9": "2025-08-26 16:00:00",
                  "10": "2025-08-26 16:06:11",
                  "11": {
                    "id": 0,
                    "indexLevelName": "Bardzo dobry"
                  },
                  "12": "2025-08-26 16:00:00",
                  "13": "2025-08-26 16:06:11",
                  "14": {
                    "id": 0,
                    "indexLevelName": "Bardzo dobry"
                  },
                  "15": "2025-08-26 16:00:00",
                  "16": "2025-08-26 16:06:11",
                  "17": "OZON",
                  "18": {
                    "id": 1,
                    "indexLevelName": "Dobry"
                  },
                  "19": "true",
                  "20": "2025-08-26 16:00:00"
                }
              ],
              "schema": [
                {
                  "key": "0",
                  "name": "id",
                  "type": "bigint"
                },
                {
                  "key": "1",
                  "name": "no2CalcDate",
                  "type": "string"
                },
                {
                  "key": "2",
                  "name": "no2IndexLevel",
                  "type": "StructType(StructField(id,LongType,true),StructField(indexLevelName,StringType,true))"
                },
                {
                  "key": "3",
                  "name": "no2SourceDataDate",
                  "type": "string"
                },
                {
                  "key": "4",
                  "name": "o3CalcDate",
                  "type": "string"
                },
                {
                  "key": "5",
                  "name": "o3IndexLevel",
                  "type": "StructType(StructField(id,LongType,true),StructField(indexLevelName,StringType,true))"
                },
                {
                  "key": "6",
                  "name": "o3SourceDataDate",
                  "type": "string"
                },
                {
                  "key": "7",
                  "name": "pm10CalcDate",
                  "type": "string"
                },
                {
                  "key": "8",
                  "name": "pm10IndexLevel",
                  "type": "StructType(StructField(id,LongType,true),StructField(indexLevelName,StringType,true))"
                },
                {
                  "key": "9",
                  "name": "pm10SourceDataDate",
                  "type": "string"
                },
                {
                  "key": "10",
                  "name": "pm25CalcDate",
                  "type": "string"
                },
                {
                  "key": "11",
                  "name": "pm25IndexLevel",
                  "type": "StructType(StructField(id,LongType,true),StructField(indexLevelName,StringType,true))"
                },
                {
                  "key": "12",
                  "name": "pm25SourceDataDate",
                  "type": "string"
                },
                {
                  "key": "13",
                  "name": "so2CalcDate",
                  "type": "string"
                },
                {
                  "key": "14",
                  "name": "so2IndexLevel",
                  "type": "StructType(StructField(id,LongType,true),StructField(indexLevelName,StringType,true))"
                },
                {
                  "key": "15",
                  "name": "so2SourceDataDate",
                  "type": "string"
                },
                {
                  "key": "16",
                  "name": "stCalcDate",
                  "type": "string"
                },
                {
                  "key": "17",
                  "name": "stIndexCrParam",
                  "type": "string"
                },
                {
                  "key": "18",
                  "name": "stIndexLevel",
                  "type": "StructType(StructField(id,LongType,true),StructField(indexLevelName,StringType,true))"
                },
                {
                  "key": "19",
                  "name": "stIndexStatus",
                  "type": "boolean"
                },
                {
                  "key": "20",
                  "name": "stSourceDataDate",
                  "type": "string"
                }
              ],
              "truncated": false
            },
            "isSummary": false,
            "language": "scala",
            "wranglerEntryContext": {
              "dataframeType": "pyspark"
            }
          },
          "persist_state": {
            "view": {
              "type": "details",
              "tableOptions": {},
              "chartOptions": {
                "chartType": "bar",
                "aggregationType": "sum",
                "categoryFieldKeys": [
                  "1"
                ],
                "seriesFieldKeys": [
                  "0"
                ],
                "isStacked": false
              }
            }
          }
        },
        "c0d2eaec-ec00-48d8-974f-fa441ad337f8": {
          "type": "Synapse.DataFrame",
          "sync_state": {
            "table": {
              "rows": [
                {
                  "0": "Bardzo dobry",
                  "1": "2025-08-26 16:10:22",
                  "2": "10005"
                },
                {
                  "0": "Bardzo dobry",
                  "1": "2025-08-26 16:10:21",
                  "2": "11174"
                },
                {
                  "0": "Bardzo dobry",
                  "1": "2025-08-26 16:10:30",
                  "2": "20347"
                },
                {
                  "0": "Bardzo dobry",
                  "1": "2025-08-26 16:10:21",
                  "2": "612"
                },
                {
                  "0": "Bardzo dobry",
                  "1": "2025-08-26 16:10:30",
                  "2": "732"
                },
                {
                  "0": "Bardzo dobry",
                  "1": "2025-08-26 16:10:30",
                  "2": "736"
                },
                {
                  "0": "Bardzo dobry",
                  "1": "2025-08-26 16:10:22",
                  "2": "861"
                },
                {
                  "0": "Bardzo dobry",
                  "1": "2025-08-26 16:10:22",
                  "2": "877"
                },
                {
                  "0": "Dobry",
                  "1": "2025-08-26 16:13:21",
                  "2": "10955"
                },
                {
                  "0": "Dobry",
                  "1": "2025-08-26 16:06:11",
                  "2": "11195"
                },
                {
                  "0": "Dobry",
                  "1": "2025-08-26 16:12:13",
                  "2": "16493"
                },
                {
                  "0": "Dobry",
                  "1": "2025-08-26 16:10:37",
                  "2": "9153"
                },
                {
                  "0": "Dobry",
                  "1": "2025-08-26 16:13:21",
                  "2": "9913"
                },
                {
                  "0": "Dobry",
                  "1": "2025-08-26 15:36:08",
                  "2": "158"
                },
                {
                  "0": "Dobry",
                  "1": "2025-08-26 16:11:02",
                  "2": "266"
                },
                {
                  "0": "Dobry",
                  "1": "2025-08-26 16:10:47",
                  "2": "331"
                },
                {
                  "0": "Dobry",
                  "1": "2025-08-26 16:08:11",
                  "2": "361"
                },
                {
                  "0": "Dobry",
                  "1": "2025-08-26 16:15:24",
                  "2": "387"
                },
                {
                  "0": "Dobry",
                  "1": "2025-08-26 16:13:21",
                  "2": "471"
                },
                {
                  "0": "Dobry",
                  "1": "2025-08-26 16:13:21",
                  "2": "485"
                },
                {
                  "0": "Dobry",
                  "1": "2025-08-26 16:13:21",
                  "2": "488"
                },
                {
                  "0": "Dobry",
                  "1": "2025-08-26 16:13:21",
                  "2": "501"
                },
                {
                  "0": "Dobry",
                  "1": "2025-08-26 16:08:08",
                  "2": "568"
                },
                {
                  "0": "Dobry",
                  "1": "2025-08-26 16:10:53",
                  "2": "665"
                },
                {
                  "0": "Dobry",
                  "1": "2025-08-26 16:10:56",
                  "2": "814"
                },
                {
                  "0": "Dobry",
                  "1": "2025-08-26 16:10:56",
                  "2": "853"
                },
                {
                  "0": "Dobry",
                  "1": "2025-08-26 16:12:13",
                  "2": "952"
                },
                {
                  "0": "Dobry",
                  "1": "2025-08-26 16:10:37",
                  "2": "117"
                },
                {
                  "0": "Dobry",
                  "1": "2025-08-26 16:08:11",
                  "2": "382"
                },
                {
                  "0": "Dobry",
                  "1": "2025-08-26 16:13:21",
                  "2": "515"
                },
                {
                  "0": "Brak indeksu",
                  "1": "2025-08-26 16:06:11",
                  "2": "778"
                },
                {
                  "0": "Bardzo dobry",
                  "1": "2025-08-26 16:10:30",
                  "2": "731"
                },
                {
                  "0": "Dobry",
                  "1": "2025-08-26 16:10:53",
                  "2": "10438"
                },
                {
                  "0": "Brak indeksu",
                  "1": "2025-08-26 16:06:11",
                  "2": "10794"
                },
                {
                  "0": "Dobry",
                  "1": "2025-08-26 16:10:37",
                  "2": "109"
                },
                {
                  "0": "Dobry",
                  "1": "2025-08-26 15:36:08",
                  "2": "206"
                },
                {
                  "0": "Dobry",
                  "1": "2025-08-26 16:10:47",
                  "2": "295"
                },
                {
                  "0": "Dobry",
                  "1": "2025-08-26 16:08:11",
                  "2": "379"
                },
                {
                  "0": "Dobry",
                  "1": "2025-08-26 16:11:08",
                  "2": "401"
                },
                {
                  "0": "Dobry",
                  "1": "2025-08-26 16:11:08",
                  "2": "444"
                },
                {
                  "0": "Dobry",
                  "1": "2025-08-26 16:13:21",
                  "2": "552"
                },
                {
                  "0": "Dobry",
                  "1": "2025-08-26 16:10:53",
                  "2": "659"
                },
                {
                  "0": "Dobry",
                  "1": "2025-08-26 16:10:53",
                  "2": "671"
                },
                {
                  "0": "Brak indeksu",
                  "1": "2025-08-26 16:15:41",
                  "2": "9798"
                },
                {
                  "0": "Dobry",
                  "1": "2025-08-26 16:12:13",
                  "2": "986"
                },
                {
                  "0": "Brak indeksu",
                  "1": "2025-08-26 16:11:02",
                  "2": "285"
                },
                {
                  "0": "Dobry",
                  "1": "2025-08-26 16:10:37",
                  "2": "38"
                },
                {
                  "0": "Brak indeksu",
                  "1": "2025-08-26 16:11:08",
                  "2": "402"
                },
                {
                  "0": "Dobry",
                  "1": "2025-08-26 16:10:37",
                  "2": "52"
                },
                {
                  "0": "Brak indeksu",
                  "1": "2025-08-26 16:12:13",
                  "2": "987"
                },
                {
                  "0": "Bardzo dobry",
                  "1": "2025-08-26 16:10:30",
                  "2": "729"
                },
                {
                  "0": "Dobry",
                  "1": "2025-08-26 16:06:11",
                  "2": "11754"
                },
                {
                  "0": "Dobry",
                  "1": "2025-08-26 16:10:56",
                  "2": "17880"
                },
                {
                  "0": "Dobry",
                  "1": "2025-08-26 15:36:08",
                  "2": "9791"
                },
                {
                  "0": "Dobry",
                  "1": "2025-08-26 16:10:47",
                  "2": "291"
                },
                {
                  "0": "Dobry",
                  "1": "2025-08-26 16:11:08",
                  "2": "443"
                },
                {
                  "0": "Dobry",
                  "1": "2025-08-26 16:13:21",
                  "2": "460"
                },
                {
                  "0": "Dobry",
                  "1": "2025-08-26 16:10:56",
                  "2": "789"
                },
                {
                  "0": "Dobry",
                  "1": "2025-08-26 16:10:56",
                  "2": "800"
                },
                {
                  "0": "Dobry",
                  "1": "2025-08-26 16:10:56",
                  "2": "834"
                },
                {
                  "0": "Dobry",
                  "1": "2025-08-26 16:10:56",
                  "2": "842"
                },
                {
                  "0": "Dobry",
                  "1": "2025-08-26 16:10:56",
                  "2": "845"
                },
                {
                  "0": "Dobry",
                  "1": "2025-08-26 16:10:56",
                  "2": "856"
                },
                {
                  "0": "Dobry",
                  "1": "2025-08-26 16:10:56",
                  "2": "805"
                },
                {
                  "0": "Brak indeksu",
                  "1": "2025-08-26 16:16:13",
                  "2": "17758"
                },
                {
                  "0": "Bardzo dobry",
                  "1": "2025-08-26 16:10:22",
                  "2": "10030"
                },
                {
                  "0": "Brak indeksu",
                  "1": "2025-08-26 15:36:08",
                  "2": "156"
                },
                {
                  "0": "Brak indeksu",
                  "1": "2025-08-26 15:36:08",
                  "2": "208"
                },
                {
                  "0": "Brak indeksu",
                  "1": "2025-08-26 15:36:08",
                  "2": "225"
                },
                {
                  "0": "Brak indeksu",
                  "1": "2025-08-26 16:10:47",
                  "2": "296"
                },
                {
                  "0": "Bardzo dobry",
                  "1": "2025-08-26 16:11:02",
                  "2": "236"
                },
                {
                  "0": "Bardzo dobry",
                  "1": "2025-08-26 16:10:22",
                  "2": "882"
                },
                {
                  "0": "Dobry",
                  "1": "2025-08-26 15:36:08",
                  "2": "232"
                },
                {
                  "0": "Dobry",
                  "1": "2025-08-26 16:10:47",
                  "2": "322"
                },
                {
                  "0": "Dobry",
                  "1": "2025-08-26 16:11:08",
                  "2": "459"
                },
                {
                  "0": "Dobry",
                  "1": "2025-08-26 16:15:20",
                  "2": "590"
                },
                {
                  "0": "Dobry",
                  "1": "2025-08-26 16:10:53",
                  "2": "638"
                },
                {
                  "0": "Brak indeksu",
                  "1": "2025-08-26 16:13:21",
                  "2": "530"
                },
                {
                  "0": "Dobry",
                  "1": "2025-08-26 16:10:37",
                  "2": "74"
                },
                {
                  "0": "Brak indeksu",
                  "1": "2025-08-26 16:10:56",
                  "2": "841"
                },
                {
                  "0": "Bardzo dobry",
                  "1": "2025-08-26 16:10:21",
                  "2": "618"
                },
                {
                  "0": "Bardzo dobry",
                  "1": "2025-08-26 16:10:30",
                  "2": "741"
                },
                {
                  "0": "Dobry",
                  "1": "2025-08-26 16:11:02",
                  "2": "10874"
                },
                {
                  "0": "Dobry",
                  "1": "2025-08-26 16:12:13",
                  "2": "11336"
                },
                {
                  "0": "Dobry",
                  "1": "2025-08-26 16:10:56",
                  "2": "11457"
                },
                {
                  "0": "Dobry",
                  "1": "2025-08-26 16:10:37",
                  "2": "12056"
                },
                {
                  "0": "Brak indeksu",
                  "1": "2025-08-26 16:11:08",
                  "2": "10120"
                },
                {
                  "0": "Brak indeksu",
                  "1": "2025-08-26 16:10:53",
                  "2": "10125"
                },
                {
                  "0": "Brak indeksu",
                  "1": "2025-08-26 16:12:13",
                  "2": "10834"
                },
                {
                  "0": "Brak indeksu",
                  "1": "2025-08-26 16:15:41",
                  "2": "12038"
                },
                {
                  "0": "Brak indeksu",
                  "1": "2025-08-26 16:15:24",
                  "2": "16238"
                },
                {
                  "0": "Brak indeksu",
                  "1": "2025-08-26 16:13:21",
                  "2": "20487"
                },
                {
                  "0": "Brak indeksu",
                  "1": "2025-08-26 16:13:21",
                  "2": "20488"
                },
                {
                  "0": "Dobry",
                  "1": "2025-08-26 16:10:47",
                  "2": "314"
                },
                {
                  "0": "Dobry",
                  "1": "2025-08-26 16:10:47",
                  "2": "319"
                },
                {
                  "0": "Dobry",
                  "1": "2025-08-26 16:15:24",
                  "2": "374"
                },
                {
                  "0": "Dobry",
                  "1": "2025-08-26 16:08:11",
                  "2": "376"
                },
                {
                  "0": "Dobry",
                  "1": "2025-08-26 16:11:08",
                  "2": "400"
                },
                {
                  "0": "Dobry",
                  "1": "2025-08-26 16:13:21",
                  "2": "466"
                },
                {
                  "0": "Dobry",
                  "1": "2025-08-26 16:10:30",
                  "2": "743"
                },
                {
                  "0": "Dobry",
                  "1": "2025-08-26 16:06:11",
                  "2": "769"
                },
                {
                  "0": "Dobry",
                  "1": "2025-08-26 16:12:13",
                  "2": "950"
                },
                {
                  "0": "Dobry",
                  "1": "2025-08-26 16:12:13",
                  "2": "961"
                },
                {
                  "0": "Bardzo dobry",
                  "1": "2025-08-26 16:10:21",
                  "2": "11814"
                },
                {
                  "0": "Bardzo dobry",
                  "1": "2025-08-26 16:10:30",
                  "2": "16242"
                },
                {
                  "0": "Brak indeksu",
                  "1": "2025-08-26 16:12:13",
                  "2": "983"
                },
                {
                  "0": "Dostateczny",
                  "1": "2025-08-26 16:10:56",
                  "2": "11855"
                },
                {
                  "0": "Dobry",
                  "1": "2025-08-26 16:12:13",
                  "2": "902"
                },
                {
                  "0": "Dobry",
                  "1": "2025-08-26 16:10:37",
                  "2": "70"
                },
                {
                  "0": "Dobry",
                  "1": "2025-08-26 16:10:37",
                  "2": "11934"
                },
                {
                  "0": "Dobry",
                  "1": "2025-08-26 16:10:30",
                  "2": "16180"
                },
                {
                  "0": "Dobry",
                  "1": "2025-08-26 16:10:56",
                  "2": "17318"
                },
                {
                  "0": "Dobry",
                  "1": "2025-08-26 16:10:53",
                  "2": "9175"
                },
                {
                  "0": "Dobry",
                  "1": "2025-08-26 16:11:08",
                  "2": "437"
                },
                {
                  "0": "Dobry",
                  "1": "2025-08-26 16:08:08",
                  "2": "584"
                },
                {
                  "0": "Dobry",
                  "1": "2025-08-26 16:12:13",
                  "2": "946"
                },
                {
                  "0": "Brak indeksu",
                  "1": "2025-08-26 16:11:08",
                  "2": "449"
                },
                {
                  "0": "Brak indeksu",
                  "1": "2025-08-26 16:13:21",
                  "2": "517"
                },
                {
                  "0": "Brak indeksu",
                  "1": "2025-08-26 16:12:13",
                  "2": "944"
                },
                {
                  "0": "Bardzo dobry",
                  "1": "2025-08-26 16:10:30",
                  "2": "740"
                },
                {
                  "0": "Dobry",
                  "1": "2025-08-26 16:10:30",
                  "2": "742"
                },
                {
                  "0": "Bardzo dobry",
                  "1": "2025-08-26 16:10:21",
                  "2": "11916"
                },
                {
                  "0": "Brak indeksu",
                  "1": "2025-08-26 16:10:37",
                  "2": "129"
                },
                {
                  "0": "Brak indeksu",
                  "1": "2025-08-26 16:11:08",
                  "2": "426"
                },
                {
                  "0": "Brak indeksu",
                  "1": "2025-08-26 16:13:21",
                  "2": "538"
                },
                {
                  "0": "Dobry",
                  "1": "2025-08-26 16:10:56",
                  "2": "11794"
                },
                {
                  "0": "Brak indeksu",
                  "1": "2025-08-26 16:10:47",
                  "2": "11554"
                },
                {
                  "0": "Brak indeksu",
                  "1": "2025-08-26 16:10:47",
                  "2": "11616"
                },
                {
                  "0": "Brak indeksu",
                  "1": "2025-08-26 16:15:20",
                  "2": "16413"
                },
                {
                  "0": "Dobry",
                  "1": "2025-08-26 15:36:08",
                  "2": "190"
                },
                {
                  "0": "Dobry",
                  "1": "2025-08-26 16:10:37",
                  "2": "11"
                },
                {
                  "0": "Brak indeksu",
                  "1": "2025-08-26 16:15:41",
                  "2": "142"
                },
                {
                  "0": "Brak indeksu",
                  "1": "2025-08-26 16:10:56",
                  "2": "798"
                },
                {
                  "0": "Brak indeksu",
                  "1": "2025-08-26 16:12:13",
                  "2": "920"
                },
                {
                  "0": "Brak indeksu",
                  "1": "2025-08-26 16:12:13",
                  "2": "966"
                },
                {
                  "0": "Brak indeksu",
                  "1": "2025-08-26 16:10:47",
                  "2": "10058"
                },
                {
                  "0": "Brak indeksu",
                  "1": "2025-08-26 16:10:37",
                  "2": "10093"
                },
                {
                  "0": "Brak indeksu",
                  "1": "2025-08-26 16:10:56",
                  "2": "10158"
                },
                {
                  "0": "Brak indeksu",
                  "1": "2025-08-26 16:15:20",
                  "2": "10374"
                },
                {
                  "0": "Brak indeksu",
                  "1": "2025-08-26 16:10:53",
                  "2": "10414"
                },
                {
                  "0": "Brak indeksu",
                  "1": "2025-08-26 16:12:13",
                  "2": "10934"
                },
                {
                  "0": "Brak indeksu",
                  "1": "2025-08-26 16:13:21",
                  "2": "10956"
                },
                {
                  "0": "Brak indeksu",
                  "1": "2025-08-26 16:10:56",
                  "2": "11278"
                },
                {
                  "0": "Brak indeksu",
                  "1": "2025-08-26 16:16:13",
                  "2": "12138"
                },
                {
                  "0": "Brak indeksu",
                  "1": "2025-08-26 16:13:21",
                  "2": "16271"
                },
                {
                  "0": "Brak indeksu",
                  "1": "2025-08-26 16:11:08",
                  "2": "16894"
                },
                {
                  "0": "Brak indeksu",
                  "1": "2025-08-26 16:10:53",
                  "2": "17179"
                },
                {
                  "0": "Brak indeksu",
                  "1": "2025-08-26 16:12:13",
                  "2": "20160"
                },
                {
                  "0": "Brak indeksu",
                  "1": "2025-08-26 16:10:53",
                  "2": "20200"
                },
                {
                  "0": "Brak indeksu",
                  "1": "2025-08-26 16:10:53",
                  "2": "20201"
                },
                {
                  "0": "Brak indeksu",
                  "1": "2025-08-26 16:13:21",
                  "2": "20209"
                },
                {
                  "0": "Brak indeksu",
                  "1": "2025-08-26 16:11:02",
                  "2": "20277"
                },
                {
                  "0": "Brak indeksu",
                  "1": "2025-08-26 16:12:13",
                  "2": "20307"
                },
                {
                  "0": "Brak indeksu",
                  "1": "2025-08-26 16:10:37",
                  "2": "20468"
                },
                {
                  "0": "Brak indeksu",
                  "1": "2025-08-26 16:10:53",
                  "2": "9173"
                },
                {
                  "0": "Bardzo dobry",
                  "1": "2025-08-26 16:10:30",
                  "2": "16270"
                },
                {
                  "0": "Bardzo dobry",
                  "1": "2025-08-26 16:10:21",
                  "2": "20140"
                },
                {
                  "0": "Bardzo dobry",
                  "1": "2025-08-26 16:10:22",
                  "2": "20447"
                },
                {
                  "0": "Brak indeksu",
                  "1": "2025-08-26 16:10:53",
                  "2": "631"
                },
                {
                  "0": "Brak indeksu",
                  "1": "2025-08-26 16:10:53",
                  "2": "646"
                },
                {
                  "0": "Brak indeksu",
                  "1": "2025-08-26 16:16:13",
                  "2": "785"
                },
                {
                  "0": "Brak indeksu",
                  "1": "2025-08-26 16:13:21",
                  "2": "497"
                },
                {
                  "0": "Dobry",
                  "1": "2025-08-26 16:11:08",
                  "2": "10119"
                },
                {
                  "0": "Dobry",
                  "1": "2025-08-26 16:15:41",
                  "2": "11576"
                },
                {
                  "0": "Dobry",
                  "1": "2025-08-26 16:11:08",
                  "2": "16896"
                },
                {
                  "0": "Dobry",
                  "1": "2025-08-26 16:11:08",
                  "2": "9179"
                },
                {
                  "0": "Dobry",
                  "1": "2025-08-26 16:10:37",
                  "2": "114"
                },
                {
                  "0": "Brak indeksu",
                  "1": "2025-08-26 16:08:08",
                  "2": "600"
                },
                {
                  "0": "Brak indeksu",
                  "1": "2025-08-26 16:10:56",
                  "2": "809"
                },
                {
                  "0": "Bardzo dobry",
                  "1": "2025-08-26 16:10:30",
                  "2": "725"
                },
                {
                  "0": "Bardzo dobry",
                  "1": "2025-08-26 16:10:22",
                  "2": "870"
                },
                {
                  "0": "Brak indeksu",
                  "1": "2025-08-26 16:13:21",
                  "2": "11358"
                },
                {
                  "0": "Brak indeksu",
                  "1": "2025-08-26 16:15:20",
                  "2": "16913"
                },
                {
                  "0": "Brak indeksu",
                  "1": "2025-08-26 15:36:08",
                  "2": "143"
                },
                {
                  "0": "Brak indeksu",
                  "1": "2025-08-26 16:10:56",
                  "2": "837"
                },
                {
                  "0": "Brak indeksu",
                  "1": "2025-08-26 16:10:37",
                  "2": "16"
                },
                {
                  "0": "Bardzo dobry",
                  "1": "2025-08-26 16:10:21",
                  "2": "609"
                },
                {
                  "0": "Brak indeksu",
                  "1": "2025-08-26 16:11:08",
                  "2": "10139"
                },
                {
                  "0": "Brak indeksu",
                  "1": "2025-08-26 16:11:02",
                  "2": "11360"
                },
                {
                  "0": "Brak indeksu",
                  "1": "2025-08-26 16:06:11",
                  "2": "16196"
                },
                {
                  "0": "Brak indeksu",
                  "1": "2025-08-26 16:15:24",
                  "2": "16613"
                },
                {
                  "0": "Dobry",
                  "1": "2025-08-26 16:15:41",
                  "2": "145"
                },
                {
                  "0": "Dobry",
                  "1": "2025-08-26 16:11:02",
                  "2": "248"
                },
                {
                  "0": "Dobry",
                  "1": "2025-08-26 16:10:30",
                  "2": "750"
                },
                {
                  "0": "Brak indeksu",
                  "1": "2025-08-26 16:12:13",
                  "2": "9218"
                },
                {
                  "0": "Dobry",
                  "1": "2025-08-26 16:12:13",
                  "2": "989"
                },
                {
                  "0": "Bardzo dobry",
                  "1": "2025-08-26 16:10:21",
                  "2": "11154"
                },
                {
                  "0": "Brak indeksu",
                  "1": "2025-08-26 16:15:20",
                  "2": "10018"
                },
                {
                  "0": "Brak indeksu",
                  "1": "2025-08-26 16:11:08",
                  "2": "10124"
                },
                {
                  "0": "Brak indeksu",
                  "1": "2025-08-26 16:11:08",
                  "2": "10446"
                },
                {
                  "0": "Brak indeksu",
                  "1": "2025-08-26 16:11:08",
                  "2": "10447"
                },
                {
                  "0": "Brak indeksu",
                  "1": "2025-08-26 16:11:08",
                  "2": "10814"
                },
                {
                  "0": "Brak indeksu",
                  "1": "2025-08-26 16:11:08",
                  "2": "10817"
                },
                {
                  "0": "Brak indeksu",
                  "1": "2025-08-26 16:10:37",
                  "2": "11254"
                },
                {
                  "0": "Brak indeksu",
                  "1": "2025-08-26 16:11:08",
                  "2": "11301"
                },
                {
                  "0": "Brak indeksu",
                  "1": "2025-08-26 16:11:08",
                  "2": "11303"
                },
                {
                  "0": "Brak indeksu",
                  "1": "2025-08-26 16:11:08",
                  "2": "11434"
                },
                {
                  "0": "Brak indeksu",
                  "1": "2025-08-26 16:12:13",
                  "2": "16495"
                },
                {
                  "0": "Brak indeksu",
                  "1": "2025-08-26 16:16:13",
                  "2": "16497"
                },
                {
                  "0": "Brak indeksu",
                  "1": "2025-08-26 16:11:08",
                  "2": "16753"
                },
                {
                  "0": "Brak indeksu",
                  "1": "2025-08-26 16:11:08",
                  "2": "17118"
                },
                {
                  "0": "Brak indeksu",
                  "1": "2025-08-26 16:15:20",
                  "2": "20387"
                },
                {
                  "0": "Bardzo dobry",
                  "1": "2025-08-26 16:13:21",
                  "2": "16533"
                },
                {
                  "0": "Bardzo dobry",
                  "1": "2025-08-26 16:10:21",
                  "2": "17658"
                },
                {
                  "0": "Brak indeksu",
                  "1": "2025-08-26 16:11:08",
                  "2": "455"
                },
                {
                  "0": "Brak indeksu",
                  "1": "2025-08-26 16:10:53",
                  "2": "678"
                },
                {
                  "0": "Brak indeksu",
                  "1": "2025-08-26 16:10:53",
                  "2": "684"
                },
                {
                  "0": "Dobry",
                  "1": "2025-08-26 16:11:08",
                  "2": "10123"
                },
                {
                  "0": "Dobry",
                  "1": "2025-08-26 16:10:56",
                  "2": "16406"
                },
                {
                  "0": "Dobry",
                  "1": "2025-08-26 16:11:08",
                  "2": "20367"
                },
                {
                  "0": "Dobry",
                  "1": "2025-08-26 16:13:21",
                  "2": "9114"
                },
                {
                  "0": "Dobry",
                  "1": "2025-08-26 16:11:02",
                  "2": "282"
                },
                {}
              ],
              "schema": [
                {
                  "key": "0",
                  "name": "AirQualityIndex",
                  "type": "string"
                },
                {
                  "key": "1",
                  "name": "measurementDate",
                  "type": "string"
                },
                {
                  "key": "2",
                  "name": "Id",
                  "type": "bigint"
                }
              ],
              "truncated": false
            },
            "isSummary": false,
            "language": "scala",
            "wranglerEntryContext": {
              "candidateVariableNames": [
                "df_clean_measurements"
              ],
              "dataframeType": "pyspark"
            }
          },
          "persist_state": {
            "view": {
              "type": "details",
              "tableOptions": {},
              "chartOptions": {
                "chartType": "bar",
                "aggregationType": "sum",
                "categoryFieldKeys": [
                  "0"
                ],
                "seriesFieldKeys": [
                  "2"
                ],
                "isStacked": false
              }
            }
          }
        },
        "2fc6d882-5468-46b0-9673-2a86796f16bb": {
          "type": "Synapse.DataFrame",
          "sync_state": {
            "table": {
              "rows": [
                {
                  "0": "11",
                  "1": "Czerniawa",
                  "2": "Czerniawa",
                  "3": "50.912475",
                  "4": "15.312190"
                },
                {
                  "0": "16",
                  "1": "Dzierżoniów, ul. Piłsudskiego",
                  "2": "Dzierżoniów",
                  "3": "50.732817",
                  "4": "16.648050"
                },
                {
                  "0": "38",
                  "1": "Kłodzko, ul. Szkolna",
                  "2": "Kłodzko",
                  "3": "50.433493",
                  "4": "16.653660"
                },
                {
                  "0": "52",
                  "1": "Legnica, al. Rzeczypospolitej",
                  "2": "Legnica",
                  "3": "51.204503",
                  "4": "16.180513"
                },
                {
                  "0": "114",
                  "1": "Wrocław, ul. Bartnicza",
                  "2": "Wrocław",
                  "3": "51.115933",
                  "4": "17.141125"
                },
                {
                  "0": "117",
                  "1": "Wrocław, wyb. Conrada-Korzeniowskiego",
                  "2": "Wrocław",
                  "3": "51.129378",
                  "4": "17.029250"
                },
                {
                  "0": "129",
                  "1": "Wrocław, al. Wiśniowa",
                  "2": "Wrocław",
                  "3": "51.086225",
                  "4": "17.012689"
                },
                {
                  "0": "143",
                  "1": "Inowrocław, ul. Solankowa",
                  "2": "Inowrocław",
                  "3": "52.793122",
                  "4": "18.241044"
                },
                {
                  "0": "156",
                  "1": "Bydgoszcz, pl. Poznański",
                  "2": "Bydgoszcz",
                  "3": "53.121764",
                  "4": "17.987906"
                },
                {
                  "0": "158",
                  "1": "Bydgoszcz, ul. Warszawska",
                  "2": "Bydgoszcz",
                  "3": "53.134083",
                  "4": "17.995708"
                },
                {
                  "0": "190",
                  "1": "Koniczynka, Pojezierze Chełmińskie",
                  "2": "Koniczynka",
                  "3": "53.080647",
                  "4": "18.684258"
                },
                {
                  "0": "206",
                  "1": "Toruń, ul. Dziewulskiego",
                  "2": "Toruń",
                  "3": "53.028647",
                  "4": "18.666103"
                },
                {
                  "0": "208",
                  "1": "Toruń, ul. Przy Kaszowniku",
                  "2": "Toruń",
                  "3": "53.017628",
                  "4": "18.612808"
                },
                {
                  "0": "232",
                  "1": "Zielonka, Bory Tucholskie",
                  "2": "Zielonka",
                  "3": "53.662117",
                  "4": "17.934017"
                },
                {
                  "0": "266",
                  "1": "Lublin, ul. Obywatelska",
                  "2": "Lublin",
                  "3": "51.259431",
                  "4": "22.569133"
                },
                {
                  "0": "291",
                  "1": "Gajew, Ujęcie Wody",
                  "2": "Gajew",
                  "3": "52.143258",
                  "4": "19.233217"
                },
                {
                  "0": "295",
                  "1": "Łódź, ul. Czernika",
                  "2": "Łódź",
                  "3": "51.758050",
                  "4": "19.529786"
                },
                {
                  "0": "296",
                  "1": "Łódź, ul. Gdańska",
                  "2": "Łódź",
                  "3": "51.775378",
                  "4": "19.450992"
                },
                {
                  "0": "314",
                  "1": "Pabianice, ul. Konstantynowska",
                  "2": "Pabianice",
                  "3": "51.667981",
                  "4": "19.368683"
                },
                {
                  "0": "319",
                  "1": "Parzniewice, Ujęcie Wody",
                  "2": "Parzniewice",
                  "3": "51.291175",
                  "4": "19.517556"
                },
                {
                  "0": "322",
                  "1": "Piotrków Trybunalski, ul. Krakowskie Przedmieście",
                  "2": "Piotrków Trybunalski",
                  "3": "51.404406",
                  "4": "19.696956"
                },
                {
                  "0": "361",
                  "1": "Gorzów Wlkp. ul. Kosynierów Gdyńskich",
                  "2": "Gorzów Wielkopolski",
                  "3": "52.738214",
                  "4": "15.228667"
                },
                {
                  "0": "376",
                  "1": "Sulęcin ul. Dudka",
                  "2": "Sulęcin",
                  "3": "52.437722",
                  "4": "15.122444"
                },
                {
                  "0": "379",
                  "1": "Wschowa ul. Kazimierza Wielkiego",
                  "2": "Wschowa",
                  "3": "51.799722",
                  "4": "16.317500"
                },
                {
                  "0": "400",
                  "1": "Kraków, Aleja Krasińskiego",
                  "2": "Kraków",
                  "3": "50.057678",
                  "4": "19.926189"
                },
                {
                  "0": "402",
                  "1": "Kraków, ul. Bulwarowa",
                  "2": "Kraków",
                  "3": "50.069308",
                  "4": "20.053492"
                },
                {
                  "0": "437",
                  "1": "Skawina, os. Ogrody",
                  "2": "Skawina",
                  "3": "49.971047",
                  "4": "19.830422"
                },
                {
                  "0": "443",
                  "1": "Szymbark",
                  "2": "Szymbark",
                  "3": "49.633714",
                  "4": "21.116833"
                },
                {
                  "0": "444",
                  "1": "Tarnów, ul. Bitwy pod Studziankami",
                  "2": "Tarnów",
                  "3": "50.020169",
                  "4": "21.004167"
                },
                {
                  "0": "449",
                  "1": "Trzebinia, os. Związku Walki Młodych",
                  "2": "Trzebinia",
                  "3": "50.159406",
                  "4": "19.477464"
                },
                {
                  "0": "488",
                  "1": "Piastów, ul. Pułaskiego",
                  "2": "Piastów",
                  "3": "52.191728",
                  "4": "20.837489"
                },
                {
                  "0": "501",
                  "1": "Płock, ul. Reja",
                  "2": "Płock",
                  "3": "52.550938",
                  "4": "19.709791"
                },
                {
                  "0": "515",
                  "1": "Radom, ul. Tochtermana",
                  "2": "Radom",
                  "3": "51.399084",
                  "4": "21.147474"
                },
                {
                  "0": "517",
                  "1": "Siedlce, ul. Konarskiego",
                  "2": "Siedlce",
                  "3": "52.172145",
                  "4": "22.282001"
                },
                {
                  "0": "538",
                  "1": "Warszawa, ul. Tołstoja",
                  "2": "Warszawa",
                  "3": "52.285073",
                  "4": "20.933018"
                },
                {
                  "0": "550",
                  "1": "Warszawa, ul. Wokalna",
                  "2": "Warszawa",
                  "3": "52.160772",
                  "4": "21.033819"
                },
                {
                  "0": "552",
                  "1": "Warszawa, ul. Kondratowicza",
                  "2": "Warszawa",
                  "3": "52.290864",
                  "4": "21.042458"
                },
                {
                  "0": "568",
                  "1": "Kędzierzyn-Koźle, ul. Śmiałego",
                  "2": "Kędzierzyn-Koźle",
                  "3": "50.349608",
                  "4": "18.236575"
                },
                {
                  "0": "725",
                  "1": "Słupsk, ul. Kniaziewicza",
                  "2": "Słupsk",
                  "3": "54.463611",
                  "4": "17.046722"
                },
                {
                  "0": "729",
                  "1": "Gdańsk, ul. Powstańców Warszawskich",
                  "2": "Gdańsk",
                  "3": "54.353196",
                  "4": "18.635267"
                },
                {
                  "0": "731",
                  "1": "Gdańsk, ul. Wyzwolenia",
                  "2": "Gdańsk",
                  "3": "54.400788",
                  "4": "18.657332"
                },
                {
                  "0": "736",
                  "1": "Gdańsk, ul. Leczkowa",
                  "2": "Gdańsk",
                  "3": "54.380139",
                  "4": "18.619766"
                },
                {
                  "0": "740",
                  "1": "Kościerzyna, ul. Targowa",
                  "2": "Kościerzyna",
                  "3": "54.120694",
                  "4": "17.975861"
                },
                {
                  "0": "743",
                  "1": "Liniewko Kościerskie",
                  "2": "Liniewko Kościerskie",
                  "3": "54.104111",
                  "4": "18.182972"
                },
                {
                  "0": "798",
                  "1": "Częstochowa, ul. AK/Jana Pawła II",
                  "2": "Częstochowa",
                  "3": "50.817217",
                  "4": "19.118997"
                },
                {
                  "0": "800",
                  "1": "Częstochowa, ul. Baczyńskiego",
                  "2": "Częstochowa",
                  "3": "50.836389",
                  "4": "19.130111"
                },
                {
                  "0": "805",
                  "1": "Dąbrowa Górnicza, ul. Tysiąclecia",
                  "2": "Dąbrowa Górnicza",
                  "3": "50.329111",
                  "4": "19.231222"
                },
                {
                  "0": "834",
                  "1": "Rybnik, ul. Borki",
                  "2": "Rybnik",
                  "3": "50.111181",
                  "4": "18.516139"
                },
                {
                  "0": "837",
                  "1": "Sosnowiec, ul. Lubelska",
                  "2": "Sosnowiec",
                  "3": "50.285956",
                  "4": "19.184399"
                },
                {
                  "0": "842",
                  "1": "Ustroń, ul. Sanatoryjna",
                  "2": "Ustroń",
                  "3": "49.719731",
                  "4": "18.826722"
                },
                {
                  "0": "845",
                  "1": "Wodzisław Śląski, ul. Gałczyńskiego",
                  "2": "Wodzisław Śląski",
                  "3": "50.007629",
                  "4": "18.455548"
                },
                {
                  "0": "853",
                  "1": "Złoty Potok, Leśniczówka",
                  "2": "Złoty Potok",
                  "3": "50.710889",
                  "4": "19.458797"
                },
                {
                  "0": "861",
                  "1": "Elbląg, ul. Bażyńskiego",
                  "2": "Elbląg",
                  "3": "54.167847",
                  "4": "19.410942"
                },
                {
                  "0": "870",
                  "1": "Gołdap, ul. Jaćwieska",
                  "2": "Gołdap",
                  "3": "54.305908",
                  "4": "22.307681"
                },
                {
                  "0": "877",
                  "1": "Olsztyn, ul. Puszkina",
                  "2": "Olsztyn",
                  "3": "53.789233",
                  "4": "20.486075"
                },
                {
                  "0": "902",
                  "1": "Konin, ul. Wyszyńskiego",
                  "2": "Konin",
                  "3": "52.225650",
                  "4": "18.268927"
                },
                {
                  "0": "944",
                  "1": "Poznań, ul. Dąbrowskiego",
                  "2": "Poznań",
                  "3": "52.420319",
                  "4": "16.877289"
                },
                {
                  "0": "986",
                  "1": "Szczecin, ul. Andrzejewskiego",
                  "2": "Szczecin",
                  "3": "53.380975",
                  "4": "14.663347"
                },
                {
                  "0": "987",
                  "1": "Szczecin, ul. Piłsudskiego",
                  "2": "Szczecin",
                  "3": "53.432169",
                  "4": "14.553900"
                },
                {
                  "0": "382",
                  "1": "Żary, ul. Szymanowskiego ",
                  "2": "Żary",
                  "3": "51.642656",
                  "4": "15.127808"
                },
                {
                  "0": "9153",
                  "1": "Jelenia Góra, ul. Ogińskiego",
                  "2": "Jelenia Góra",
                  "3": "50.913433",
                  "4": "15.765608"
                },
                {
                  "0": "600",
                  "1": "Zdzieszowice, ul. Piastów",
                  "2": "Zdzieszowice",
                  "3": "50.423533",
                  "4": "18.120739"
                },
                {
                  "0": "952",
                  "1": "Kalisz, ul. Wyszyńskiego",
                  "2": "Kalisz",
                  "3": "51.747950",
                  "4": "18.049063"
                },
                {
                  "0": "236",
                  "1": "Biała Podlaska, ul. Orzechowa",
                  "2": "Biała Podlaska",
                  "3": "52.029194",
                  "4": "23.149389"
                },
                {
                  "0": "9791",
                  "1": "Włocławek, ul. Kaliska",
                  "2": "Włocławek",
                  "3": "52.637394",
                  "4": "19.044486"
                },
                {
                  "0": "10030",
                  "1": "Ostróda, ul. Piłsudskiego",
                  "2": "Ostróda",
                  "3": "53.694587",
                  "4": "19.969041"
                },
                {
                  "0": "10119",
                  "1": "Kaszów",
                  "2": "Kaszów",
                  "3": "50.025028",
                  "4": "19.726833"
                },
                {
                  "0": "950",
                  "1": "Borówiec, ul. Drapałka",
                  "2": "Borówiec",
                  "3": "52.276720",
                  "4": "17.074187"
                },
                {
                  "0": "10123",
                  "1": "Kraków, ul. Złoty Róg",
                  "2": "Kraków",
                  "3": "50.081197",
                  "4": "19.895358"
                },
                {
                  "0": "10438",
                  "1": "Mielec, ul. Biernackiego",
                  "2": "Mielec",
                  "3": "50.299128",
                  "4": "21.440942"
                },
                {
                  "0": "10447",
                  "1": "Kraków, os. Wadów",
                  "2": "Kraków",
                  "3": "50.100569",
                  "4": "20.122561"
                },
                {
                  "0": "10794",
                  "1": "Małogoszcz, ul. Słoneczna",
                  "2": "Małogoszcz",
                  "3": "50.809610",
                  "4": "20.266032"
                },
                {
                  "0": "10834",
                  "1": "Koziegłowy, os.Leśne",
                  "2": "Koziegłowy",
                  "3": "52.449295",
                  "4": "16.999634"
                },
                {
                  "0": "225",
                  "1": "Włocławek, ul. Okrzei",
                  "2": "Włocławek",
                  "3": "52.658467",
                  "4": "19.059314"
                },
                {
                  "0": "584",
                  "1": "Olesno, ul. Słowackiego",
                  "2": "Olesno",
                  "3": "50.876983",
                  "4": "18.416878"
                },
                {
                  "0": "11174",
                  "1": "Białystok, ul. 42 Pułku Piechoty",
                  "2": "Białystok",
                  "3": "53.144122",
                  "4": "23.216322"
                },
                {
                  "0": "11195",
                  "1": "Kielce, ul. Targowa",
                  "2": "Kielce",
                  "3": "50.878998",
                  "4": "20.633692"
                },
                {
                  "0": "11358",
                  "1": "Biała, ul. Kmicica",
                  "2": "Biała",
                  "3": "52.602534",
                  "4": "19.645100"
                },
                {
                  "0": "10955",
                  "1": "Warszawa, ul. Chrościckiego",
                  "2": "Warszawa",
                  "3": "52.207742",
                  "4": "20.906073"
                },
                {
                  "0": "590",
                  "1": "Opole, os. Armii Krajowej",
                  "2": "Opole",
                  "3": "50.676856",
                  "4": "17.950278"
                },
                {
                  "0": "11336",
                  "1": "Koszalin, ul. Chopina",
                  "2": "Koszalin",
                  "3": "54.194114",
                  "4": "16.211672"
                },
                {
                  "0": "966",
                  "1": "Koszalin, ul. Armii Krajowej",
                  "2": "Koszalin",
                  "3": "54.193986",
                  "4": "16.172544"
                },
                {
                  "0": "11554",
                  "1": "Łask, ul. Narutowicza",
                  "2": "Łask",
                  "3": "51.589208",
                  "4": "19.131433"
                },
                {
                  "0": "11754",
                  "1": "Gołuchów, Ujęcie Wody",
                  "2": "Gołuchów",
                  "3": "50.621482",
                  "4": "20.614057"
                },
                {
                  "0": "11794",
                  "1": "Racibórz, Wojska Polskiego",
                  "2": "Racibórz",
                  "3": "50.091142",
                  "4": "18.216261"
                },
                {
                  "0": "10814",
                  "1": "Oświęcim, ul. J. Bema",
                  "2": "Oświęcim",
                  "3": "50.033083",
                  "4": "19.245275"
                },
                {
                  "0": "11814",
                  "1": "Białystok, al.Piłsudskiego",
                  "2": "Białystok",
                  "3": "53.135286",
                  "4": "23.161325"
                },
                {
                  "0": "11916",
                  "1": "Augustów, Uzdrowisko",
                  "2": "Augustów",
                  "3": "53.852550",
                  "4": "22.984686"
                },
                {
                  "0": "9798",
                  "1": "Nakło nad Notecią, ul. Św. Wawrzyńca",
                  "2": "Nakło nad Notecią",
                  "3": "53.136681",
                  "4": "17.591539"
                },
                {
                  "0": "10374",
                  "1": "Opole, ul. Koszyka",
                  "2": "Opole",
                  "3": "50.666736",
                  "4": "17.899137"
                },
                {
                  "0": "16196",
                  "1": "Kielce, ul. Warszawska 108",
                  "2": "Kielce",
                  "3": "50.886014",
                  "4": "20.642858"
                },
                {
                  "0": "16180",
                  "1": "Gdańsk, Al. Grunwaldzka",
                  "2": "Gdańsk",
                  "3": "54.380682",
                  "4": "18.601559"
                },
                {
                  "0": "16242",
                  "1": "Sopot, ul. Bitwy Pod Płowcami",
                  "2": "Sopot",
                  "3": "54.434510",
                  "4": "18.578840"
                },
                {
                  "0": "10018",
                  "1": "Głubczyce, ul. Ratuszowa",
                  "2": "Głubczyce",
                  "3": "50.200778",
                  "4": "17.830510"
                },
                {
                  "0": "16413",
                  "1": "Brzeg, ul. Poprzeczna",
                  "2": "Brzeg",
                  "3": "50.849509",
                  "4": "17.462579"
                },
                {
                  "0": "882",
                  "1": "Diabla Góra, Puszcza Borecka",
                  "2": "Diabla Góra",
                  "3": "54.124819",
                  "4": "22.038056"
                },
                {
                  "0": "10005",
                  "1": "Ełk, ul. Piłsudskiego",
                  "2": "Ełk",
                  "3": "53.828389",
                  "4": "22.348338"
                },
                {
                  "0": "16896",
                  "1": "Kraków, ul. Kamieńskiego",
                  "2": "Kraków",
                  "3": "50.024605",
                  "4": "19.978460"
                },
                {
                  "0": "17318",
                  "1": "Katowice, ul. Dudy-Gracza",
                  "2": "Katowice",
                  "3": "50.258483",
                  "4": "19.036217"
                },
                {
                  "0": "17880",
                  "1": "Zabrze, ul. M. Skłodowskiej-Curie",
                  "2": "Zabrze",
                  "3": "50.317072",
                  "4": "18.771258"
                },
                {
                  "0": "20367",
                  "1": "Kraków, ul. Półłanki",
                  "2": "Kraków",
                  "3": "50.034702",
                  "4": "20.044386"
                },
                {
                  "0": "9114",
                  "1": "Ostrołęka, ul. Hallera",
                  "2": "Ostrołęka",
                  "3": "53.083736",
                  "4": "21.579322"
                },
                {
                  "0": "70",
                  "1": "Oława, ul. Żołnierzy Armii Krajowej",
                  "2": "Oława",
                  "3": "50.942073",
                  "4": "17.291333"
                },
                {
                  "0": "74",
                  "1": "Osieczów",
                  "2": "Osieczów",
                  "3": "51.317630",
                  "4": "15.431719"
                },
                {
                  "0": "109",
                  "1": "Wałbrzych, ul. Wysockiego",
                  "2": "Wałbrzych",
                  "3": "50.768729",
                  "4": "16.269677"
                },
                {
                  "0": "145",
                  "1": "Toruń, ul. Wały gen. Sikorskiego",
                  "2": "Toruń",
                  "3": "53.012475",
                  "4": "18.605681"
                },
                {
                  "0": "285",
                  "1": "Zamość, ul. Hrubieszowska",
                  "2": "Zamość",
                  "3": "50.716628",
                  "4": "23.290247"
                },
                {
                  "0": "374",
                  "1": "Smolary Bytnickie",
                  "2": "Smolary Bytnickie",
                  "3": "52.172222",
                  "4": "15.206667"
                },
                {
                  "0": "387",
                  "1": "Zielona Góra ul. Krótka",
                  "2": "Zielona Góra",
                  "3": "51.939783",
                  "4": "15.518861"
                },
                {
                  "0": "401",
                  "1": "Kraków, ul. Bujaka",
                  "2": "Kraków",
                  "3": "50.010575",
                  "4": "19.949189"
                },
                {
                  "0": "426",
                  "1": "Nowy Sącz, ul. Nadbrzeżna",
                  "2": "Nowy Sącz",
                  "3": "49.619281",
                  "4": "20.714403"
                },
                {
                  "0": "459",
                  "1": "Zakopane, ul. Sienkiewicza",
                  "2": "Zakopane",
                  "3": "49.293564",
                  "4": "19.960083"
                },
                {
                  "0": "460",
                  "1": "Belsk Duży, IGF PAN",
                  "2": "Belsk Duży",
                  "3": "51.835242",
                  "4": "20.791912"
                },
                {
                  "0": "471",
                  "1": "Legionowo, ul. Zegrzyńska",
                  "2": "Legionowo",
                  "3": "52.407578",
                  "4": "20.955928"
                },
                {
                  "0": "497",
                  "1": "Płock, ul. Królowej Jadwigi",
                  "2": "Płock",
                  "3": "52.556279",
                  "4": "19.687672"
                },
                {
                  "0": "530",
                  "1": "Warszawa, al. Niepodległości",
                  "2": "Warszawa",
                  "3": "52.219298",
                  "4": "21.004724"
                },
                {
                  "0": "638",
                  "1": "Jaslo, ul. Sikorskiego",
                  "2": "Jasło",
                  "3": "49.744886",
                  "4": "21.454617"
                },
                {
                  "0": "659",
                  "1": "Nisko, ul. Szklarniowa",
                  "2": "Nisko",
                  "3": "50.529892",
                  "4": "22.112467"
                },
                {
                  "0": "732",
                  "1": "Gdynia, ul. Porębskiego",
                  "2": "Gdynia",
                  "3": "54.560836",
                  "4": "18.493331"
                },
                {
                  "0": "769",
                  "1": "Nowiny, ul. Parkowa",
                  "2": "Nowiny",
                  "3": "50.823108",
                  "4": "20.533506"
                },
                {
                  "0": "778",
                  "1": "Połaniec, ul. Ruszczańska",
                  "2": "Połaniec",
                  "3": "50.429014",
                  "4": "21.277367"
                },
                {
                  "0": "789",
                  "1": "Bielsko-Biała, ul. Kossak-Szczuckiej",
                  "2": "Bielsko-Biała",
                  "3": "49.813464",
                  "4": "19.027318"
                },
                {
                  "0": "809",
                  "1": "Gliwice, ul. Mewy",
                  "2": "Gliwice",
                  "3": "50.279481",
                  "4": "18.655736"
                },
                {
                  "0": "814",
                  "1": "Katowice, ul. Kossutha",
                  "2": "Katowice",
                  "3": "50.264611",
                  "4": "18.975028"
                },
                {
                  "0": "841",
                  "1": "Tychy, ul. Tołstoja",
                  "2": "Tychy",
                  "3": "50.099903",
                  "4": "18.990236"
                },
                {
                  "0": "920",
                  "1": "Pila, ul. Kusocińskiego",
                  "2": "Piła",
                  "3": "53.154408",
                  "4": "16.759572"
                },
                {
                  "0": "983",
                  "1": "Szczecinek, ul. Przemysłowa",
                  "2": "Szczecinek",
                  "3": "53.698902",
                  "4": "16.704556"
                },
                {
                  "0": "9179",
                  "1": "Szarów, ul. Spokojna",
                  "2": "Szarów",
                  "3": "50.007500",
                  "4": "20.259167"
                },
                {
                  "0": "9913",
                  "1": "Guty Duże",
                  "2": "Guty Duże",
                  "3": "52.943172",
                  "4": "21.288167"
                },
                {
                  "0": "485",
                  "1": "Otwock, ul. Brzozowa",
                  "2": "Otwock",
                  "3": "52.115725",
                  "4": "21.237297"
                },
                {
                  "0": "10058",
                  "1": "Łódź, al. Jana Pawła II",
                  "2": "Łódź",
                  "3": "51.754613",
                  "4": "19.434925"
                },
                {
                  "0": "10125",
                  "1": "Rzeszów, ul. Piłsudskiego",
                  "2": "Rzeszów",
                  "3": "50.040675",
                  "4": "22.004656"
                },
                {
                  "0": "10093",
                  "1": "Duszniki-Zdrój, ul. Sportowa",
                  "2": "Duszniki-Zdrój",
                  "3": "50.402561",
                  "4": "16.393311"
                },
                {
                  "0": "10120",
                  "1": "Tarnów, ul. Ks. Romana Sitko",
                  "2": "Tarnów",
                  "3": "50.018253",
                  "4": "20.992578"
                },
                {
                  "0": "10158",
                  "1": "Bielsko-Biała, ul.Partyzantów",
                  "2": "Bielsko-Biała",
                  "3": "49.802075",
                  "4": "19.048610"
                },
                {
                  "0": "331",
                  "1": "Radomsko, ul. Rolna",
                  "2": "Radomsko",
                  "3": "51.067417",
                  "4": "19.448714"
                },
                {
                  "0": "10956",
                  "1": "Warszawa, ul. Bajkowa",
                  "2": "Warszawa",
                  "3": "52.188474",
                  "4": "21.176233"
                },
                {
                  "0": "612",
                  "1": "Borsukowizna, Szkółka Leśna",
                  "2": "Borsukowizna",
                  "3": "53.215492",
                  "4": "23.642153"
                },
                {
                  "0": "11154",
                  "1": "Suwałki, ul. Pułaskiego 26",
                  "2": "Suwałki",
                  "3": "54.115897",
                  "4": "22.938464"
                },
                {
                  "0": "631",
                  "1": "Jarosław, ul. Pruchnicka",
                  "2": "Jarosław",
                  "3": "50.012083",
                  "4": "22.674772"
                },
                {
                  "0": "11457",
                  "1": "Goczałkowice Zdrój, ul. Parkowa",
                  "2": "Goczałkowice-Zdrój",
                  "3": "49.937850",
                  "4": "18.975594"
                },
                {
                  "0": "11576",
                  "1": "Bydgoszcz, ul. Jeździecka",
                  "2": "Bydgoszcz",
                  "3": "53.175214",
                  "4": "18.044164"
                },
                {
                  "0": "11616",
                  "1": "Kutno, ul. 1 Maja",
                  "2": "Kutno",
                  "3": "52.231908",
                  "4": "19.353689"
                },
                {
                  "0": "11934",
                  "1": "Trzebnica, ul. 3 Maja",
                  "2": "Trzebnica",
                  "3": "51.304817",
                  "4": "17.071367"
                },
                {
                  "0": "12038",
                  "1": "Świecie, al. Jana Pawła II",
                  "2": "Świecie",
                  "3": "53.407580",
                  "4": "18.428751"
                },
                {
                  "0": "9218",
                  "1": "Pleszew, Al. Mickiewicza",
                  "2": "Pleszew",
                  "3": "51.884922",
                  "4": "17.791106"
                },
                {
                  "0": "742",
                  "1": "Lębork, ul. Malczewskiego",
                  "2": "Lębork",
                  "3": "54.546167",
                  "4": "17.746194"
                },
                {
                  "0": "16238",
                  "1": "Sulechów, ul. Licealna",
                  "2": "Sulechów",
                  "3": "52.084833",
                  "4": "15.633250"
                },
                {
                  "0": "684",
                  "1": "Tarnobrzeg, ul. Dąbrowskiej",
                  "2": "Tarnobrzeg",
                  "3": "50.575742",
                  "4": "21.688367"
                },
                {
                  "0": "16493",
                  "1": "Poznań ul. Szwajcarska",
                  "2": "Poznań",
                  "3": "52.390879",
                  "4": "16.998053"
                },
                {
                  "0": "17658",
                  "1": "Białystok, ul. Upalna",
                  "2": "Białystok",
                  "3": "53.129601",
                  "4": "23.108054"
                },
                {
                  "0": "10934",
                  "1": "Kołobrzeg, ul. Żółkiewskiego",
                  "2": "Kołobrzeg",
                  "3": "54.179381",
                  "4": "15.596347"
                },
                {
                  "0": "17758",
                  "1": "Skarżysko-Kamienna, ul. 1 Maja",
                  "2": "Skarżysko-Kamienna",
                  "3": "51.115842",
                  "4": "20.891593"
                },
                {
                  "0": "785",
                  "1": "Starachowice, ul. Złota",
                  "2": "Starachowice",
                  "3": "51.050611",
                  "4": "21.084175"
                },
                {
                  "0": "20201",
                  "1": "Rzeszów, ul. Kwiatkowskiego",
                  "2": "Rzeszów",
                  "3": "49.998408",
                  "4": "21.992183"
                },
                {
                  "0": "20209",
                  "1": "Ciechanów, ul. Kraszewskiego",
                  "2": "Ciechanów",
                  "3": "52.885541",
                  "4": "20.602511"
                },
                {
                  "0": "20277",
                  "1": "Tomaszów Lubelski, ul. Janusza Petera",
                  "2": "Tomaszów Lubelski",
                  "3": "50.444128",
                  "4": "23.421553"
                },
                {
                  "0": "20347",
                  "1": "Gdańsk, ul. Lawendowe Wzgórze",
                  "2": "Gdańsk",
                  "3": "54.328833",
                  "4": "18.568819"
                },
                {
                  "0": "20468",
                  "1": "Lubań, ul. Ludowa",
                  "2": "Lubań",
                  "3": "51.120091",
                  "4": "15.298189"
                },
                {
                  "0": "961",
                  "1": "Widuchowa",
                  "2": "Widuchowa",
                  "3": "53.122325",
                  "4": "14.382245"
                },
                {
                  "0": "142",
                  "1": "Grudziądz, ul. Piłsudskiego",
                  "2": "Grudziądz",
                  "3": "53.493550",
                  "4": "18.762139"
                },
                {
                  "0": "741",
                  "1": "Malbork, ul. Mickiewicza",
                  "2": "Malbork",
                  "3": "54.031247",
                  "4": "19.032899"
                },
                {
                  "0": "946",
                  "1": "Piaski, Krzyżówka",
                  "2": "Krzyżówka",
                  "3": "52.501318",
                  "4": "17.773175"
                },
                {
                  "0": "9175",
                  "1": "Krempna, Ośrodek edukacyjno-muzealny MPN",
                  "2": "Krempna",
                  "3": "49.511297",
                  "4": "21.498606"
                },
                {
                  "0": "856",
                  "1": "Żywiec, ul. Kopernika",
                  "2": "Żywiec",
                  "3": "49.671602",
                  "4": "19.234446"
                },
                {
                  "0": "11855",
                  "1": "Jastrzębie-Zdrój, Al.J.Piłsudskiego/Harcerska",
                  "2": "Jastrzębie-Zdrój",
                  "3": "49.952544",
                  "4": "18.607953"
                },
                {
                  "0": "16271",
                  "1": "Konstancin-Jeziorna, ul. Żeromskiego",
                  "2": "Konstancin-Jeziorna",
                  "3": "52.082277",
                  "4": "21.124598"
                },
                {
                  "0": "16495",
                  "1": "Mosina, ul. Czereśniowa",
                  "2": "Mosina",
                  "3": "52.241497",
                  "4": "16.865125"
                },
                {
                  "0": "16533",
                  "1": "Warszawa, IMGW",
                  "2": "Warszawa",
                  "3": "52.281304",
                  "4": "20.963383"
                },
                {
                  "0": "16913",
                  "1": "Krapkowice, ul. 3 Maja",
                  "2": "Krapkowice",
                  "3": "50.486194",
                  "4": "17.974770"
                },
                {
                  "0": "20200",
                  "1": "Kolbuszowa, ul. Jana Pawła II",
                  "2": "Kolbuszowa",
                  "3": "50.245897",
                  "4": "21.769494"
                },
                {
                  "0": "20488",
                  "1": "Warszawa, al. Solidarności",
                  "2": "Warszawa",
                  "3": "52.243573",
                  "4": "20.999214"
                },
                {
                  "0": "248",
                  "1": "Jarczew, IMGW",
                  "2": "Jarczew",
                  "3": "51.814367",
                  "4": "21.972375"
                },
                {
                  "0": "282",
                  "1": "Wilczopole",
                  "2": "Wilczopole",
                  "3": "51.163542",
                  "4": "22.598608"
                },
                {
                  "0": "665",
                  "1": "Przemyśl, ul. Grunwaldzka",
                  "2": "Przemyśl",
                  "3": "49.784339",
                  "4": "22.756239"
                },
                {
                  "0": "671",
                  "1": "Rzeszów, ul. Rejtana",
                  "2": "Rzeszów",
                  "3": "50.024242",
                  "4": "22.010575"
                },
                {
                  "0": "10139",
                  "1": "Kraków, os. Piastów",
                  "2": "Kraków",
                  "3": "50.098508",
                  "4": "20.018269"
                },
                {
                  "0": "10414",
                  "1": "Rymanów Zdrój, ul. Parkowa",
                  "2": "Rymanów-Zdrój",
                  "3": "49.546539",
                  "4": "21.851006"
                },
                {
                  "0": "10874",
                  "1": "Florianka, RPN",
                  "2": "Florianka",
                  "3": "50.551894",
                  "4": "22.982861"
                },
                {
                  "0": "12056",
                  "1": "Chojnów, ul. S. Małachowskiego ",
                  "2": "Chojnów",
                  "3": "51.274280",
                  "4": "15.929804"
                },
                {
                  "0": "12138",
                  "1": "Łagów, ul. Zapłotnia",
                  "2": "Łagów",
                  "3": "50.778479",
                  "4": "21.081224"
                },
                {
                  "0": "20160",
                  "1": "Świnoujście, ul. Białoruska",
                  "2": "Świnoujście",
                  "3": "53.903814",
                  "4": "14.279628"
                },
                {
                  "0": "20447",
                  "1": "Giżycko, ul. Wodociągowa",
                  "2": "Giżycko",
                  "3": "54.043210",
                  "4": "21.784858"
                },
                {
                  "0": "20487",
                  "1": "Warszawa, ul. Grochowska",
                  "2": "Warszawa",
                  "3": "52.245704",
                  "4": "21.080427"
                },
                {
                  "0": "618",
                  "1": "Łomża, ul. Sikorskiego",
                  "2": "Łomża",
                  "3": "53.181394",
                  "4": "22.054381"
                },
                {
                  "0": "750",
                  "1": "Łeba, IMGW",
                  "2": "Łeba",
                  "3": "54.754139",
                  "4": "17.534528"
                },
                {
                  "0": "989",
                  "1": "Szczecin, ul. Łączna",
                  "2": "Szczecin",
                  "3": "53.470889",
                  "4": "14.556250"
                },
                {
                  "0": "10124",
                  "1": "Sucha Beskidzka, ul. Nieszczyńskiej",
                  "2": "Sucha Beskidzka",
                  "3": "49.743131",
                  "4": "19.600339"
                },
                {
                  "0": "609",
                  "1": "Białystok, ul. Warszawska",
                  "2": "Białystok",
                  "3": "53.129306",
                  "4": "23.181744"
                },
                {
                  "0": "9173",
                  "1": "Dębica, ul.Grottgera",
                  "2": "Dębica",
                  "3": "50.054786",
                  "4": "21.416256"
                },
                {
                  "0": "646",
                  "1": "Krosno, ul. Kletówki",
                  "2": "Krosno",
                  "3": "49.690169",
                  "4": "21.749700"
                },
                {
                  "0": "455",
                  "1": "Niepołomice, ul. 3 Maja",
                  "2": "Niepołomice",
                  "3": "50.035117",
                  "4": "20.212689"
                },
                {
                  "0": "16753",
                  "1": "Myślenice",
                  "2": "Myślenice",
                  "3": "49.831237",
                  "4": "19.923591"
                },
                {
                  "0": "20140",
                  "1": "Wysokie Mazowieckie, ul. 1 Maja",
                  "2": "Wysokie Mazowieckie",
                  "3": "52.913878",
                  "4": "22.509275"
                },
                {
                  "0": "466",
                  "1": "Granica, KPN",
                  "2": "Granica",
                  "3": "52.285858",
                  "4": "20.454653"
                },
                {
                  "0": "11254",
                  "1": "Nowa Ruda, ul. Jeziorna",
                  "2": "Nowa Ruda",
                  "3": "50.581492",
                  "4": "16.498245"
                },
                {
                  "0": "11360",
                  "1": "Chełm, ul. Połaniecka",
                  "2": "Chełm",
                  "3": "51.122147",
                  "4": "23.473075"
                },
                {
                  "0": "11278",
                  "1": "Lubliniec, ul. ks. Szymały",
                  "2": "Lubliniec",
                  "3": "50.675693",
                  "4": "18.682065"
                },
                {
                  "0": "10446",
                  "1": "Rabka-Zdrój, ul. Orkana",
                  "2": "Rabka-Zdrój",
                  "3": "49.608647",
                  "4": "19.966008"
                },
                {
                  "0": "11434",
                  "1": "Zabierzów, ul. Wapienna",
                  "2": "Zabierzów",
                  "3": "50.116028",
                  "4": "19.800639"
                },
                {
                  "0": "16406",
                  "1": "Cieszyn, ul. Chopina",
                  "2": "Cieszyn",
                  "3": "49.755989",
                  "4": "18.634075"
                },
                {
                  "0": "678",
                  "1": "Sanok, ul. Sadowa",
                  "2": "Sanok",
                  "3": "49.571731",
                  "4": "22.195892"
                },
                {
                  "0": "17118",
                  "1": "Wysowa-Zdrój, Park Zdrojowy",
                  "2": "Uście Gorlickie Wysowa",
                  "3": "49.440175",
                  "4": "21.178087"
                },
                {
                  "0": "17179",
                  "1": "Rzeszów, ul. Starzyńskiego",
                  "2": "Rzeszów",
                  "3": "50.060381",
                  "4": "21.980511"
                },
                {
                  "0": "11303",
                  "1": "Kraków, os. Swoszowice",
                  "2": "Kraków",
                  "3": "49.991442",
                  "4": "19.936792"
                },
                {
                  "0": "16270",
                  "1": "Bytów, ul. Miła",
                  "2": "Bytów",
                  "3": "54.172700",
                  "4": "17.492990"
                },
                {
                  "0": "16613",
                  "1": "Nowa Sól",
                  "2": "Nowa Sól",
                  "3": "51.809103",
                  "4": "15.708042"
                },
                {
                  "0": "16894",
                  "1": "Nowy Targ, al. Tysiąclecia ",
                  "2": "Nowy Targ",
                  "3": "49.476675",
                  "4": "20.034878"
                },
                {
                  "0": "20307",
                  "1": "Krotoszyn, ul. Olimpijska",
                  "2": "Krotoszyn",
                  "3": "51.697308",
                  "4": "17.441263"
                },
                {
                  "0": "20387",
                  "1": "Nysa, ul. Rodziewiczówny 1",
                  "2": "Nysa",
                  "3": "50.460992",
                  "4": "17.331499"
                },
                {
                  "0": "10817",
                  "1": "Złockie, szkoła podstawowa",
                  "2": "Złockie",
                  "3": "49.374147",
                  "4": "20.879581"
                },
                {
                  "0": "11301",
                  "1": "Olkusz, ul. Cegielniana",
                  "2": "Olkusz",
                  "3": "50.284000",
                  "4": "19.564044"
                },
                {
                  "0": "16497",
                  "1": "Kielce, ul. Jurajska",
                  "2": "Kielce",
                  "3": "50.887606",
                  "4": "20.579965"
                }
              ],
              "schema": [
                {
                  "key": "0",
                  "name": "id",
                  "type": "bigint"
                },
                {
                  "key": "1",
                  "name": "stationName",
                  "type": "string"
                },
                {
                  "key": "2",
                  "name": "city",
                  "type": "string"
                },
                {
                  "key": "3",
                  "name": "latitude",
                  "type": "string"
                },
                {
                  "key": "4",
                  "name": "longitude",
                  "type": "string"
                }
              ],
              "truncated": false
            },
            "isSummary": false,
            "language": "scala",
            "wranglerEntryContext": {
              "candidateVariableNames": [
                "df_clean_stations"
              ],
              "dataframeType": "pyspark"
            }
          },
          "persist_state": {
            "view": {
              "type": "details",
              "tableOptions": {},
              "chartOptions": {
                "chartType": "bar",
                "aggregationType": "sum",
                "categoryFieldKeys": [
                  "1"
                ],
                "seriesFieldKeys": [
                  "0"
                ],
                "isStacked": false
              }
            }
          }
        },
        "502c92fa-77a4-4bda-824e-af07560bfada": {
          "type": "Synapse.DataFrame",
          "sync_state": {
            "table": {
              "rows": [
                {
                  "0": "11",
                  "1": "Czerniawa",
                  "2": "Czerniawa",
                  "3": "50.912475",
                  "4": "15.312190",
                  "5": "Dobry",
                  "6": "2025-08-26 16:10:37"
                },
                {
                  "0": "16",
                  "1": "Dzierżoniów, ul. Piłsudskiego",
                  "2": "Dzierżoniów",
                  "3": "50.732817",
                  "4": "16.648050",
                  "5": "Brak indeksu",
                  "6": "2025-08-26 16:10:37"
                },
                {
                  "0": "38",
                  "1": "Kłodzko, ul. Szkolna",
                  "2": "Kłodzko",
                  "3": "50.433493",
                  "4": "16.653660",
                  "5": "Dobry",
                  "6": "2025-08-26 16:10:37"
                },
                {
                  "0": "52",
                  "1": "Legnica, al. Rzeczypospolitej",
                  "2": "Legnica",
                  "3": "51.204503",
                  "4": "16.180513",
                  "5": "Dobry",
                  "6": "2025-08-26 16:10:37"
                },
                {
                  "0": "114",
                  "1": "Wrocław, ul. Bartnicza",
                  "2": "Wrocław",
                  "3": "51.115933",
                  "4": "17.141125",
                  "5": "Dobry",
                  "6": "2025-08-26 16:10:37"
                },
                {
                  "0": "117",
                  "1": "Wrocław, wyb. Conrada-Korzeniowskiego",
                  "2": "Wrocław",
                  "3": "51.129378",
                  "4": "17.029250",
                  "5": "Dobry",
                  "6": "2025-08-26 16:10:37"
                },
                {
                  "0": "129",
                  "1": "Wrocław, al. Wiśniowa",
                  "2": "Wrocław",
                  "3": "51.086225",
                  "4": "17.012689",
                  "5": "Brak indeksu",
                  "6": "2025-08-26 16:10:37"
                },
                {
                  "0": "143",
                  "1": "Inowrocław, ul. Solankowa",
                  "2": "Inowrocław",
                  "3": "52.793122",
                  "4": "18.241044",
                  "5": "Brak indeksu",
                  "6": "2025-08-26 15:36:08"
                },
                {
                  "0": "156",
                  "1": "Bydgoszcz, pl. Poznański",
                  "2": "Bydgoszcz",
                  "3": "53.121764",
                  "4": "17.987906",
                  "5": "Brak indeksu",
                  "6": "2025-08-26 15:36:08"
                },
                {
                  "0": "158",
                  "1": "Bydgoszcz, ul. Warszawska",
                  "2": "Bydgoszcz",
                  "3": "53.134083",
                  "4": "17.995708",
                  "5": "Dobry",
                  "6": "2025-08-26 15:36:08"
                },
                {
                  "0": "190",
                  "1": "Koniczynka, Pojezierze Chełmińskie",
                  "2": "Koniczynka",
                  "3": "53.080647",
                  "4": "18.684258",
                  "5": "Dobry",
                  "6": "2025-08-26 15:36:08"
                },
                {
                  "0": "206",
                  "1": "Toruń, ul. Dziewulskiego",
                  "2": "Toruń",
                  "3": "53.028647",
                  "4": "18.666103",
                  "5": "Dobry",
                  "6": "2025-08-26 15:36:08"
                },
                {
                  "0": "208",
                  "1": "Toruń, ul. Przy Kaszowniku",
                  "2": "Toruń",
                  "3": "53.017628",
                  "4": "18.612808",
                  "5": "Brak indeksu",
                  "6": "2025-08-26 15:36:08"
                },
                {
                  "0": "232",
                  "1": "Zielonka, Bory Tucholskie",
                  "2": "Zielonka",
                  "3": "53.662117",
                  "4": "17.934017",
                  "5": "Dobry",
                  "6": "2025-08-26 15:36:08"
                },
                {
                  "0": "266",
                  "1": "Lublin, ul. Obywatelska",
                  "2": "Lublin",
                  "3": "51.259431",
                  "4": "22.569133",
                  "5": "Dobry",
                  "6": "2025-08-26 16:11:02"
                },
                {
                  "0": "291",
                  "1": "Gajew, Ujęcie Wody",
                  "2": "Gajew",
                  "3": "52.143258",
                  "4": "19.233217",
                  "5": "Dobry",
                  "6": "2025-08-26 16:10:47"
                },
                {
                  "0": "295",
                  "1": "Łódź, ul. Czernika",
                  "2": "Łódź",
                  "3": "51.758050",
                  "4": "19.529786",
                  "5": "Dobry",
                  "6": "2025-08-26 16:10:47"
                },
                {
                  "0": "296",
                  "1": "Łódź, ul. Gdańska",
                  "2": "Łódź",
                  "3": "51.775378",
                  "4": "19.450992",
                  "5": "Brak indeksu",
                  "6": "2025-08-26 16:10:47"
                },
                {
                  "0": "314",
                  "1": "Pabianice, ul. Konstantynowska",
                  "2": "Pabianice",
                  "3": "51.667981",
                  "4": "19.368683",
                  "5": "Dobry",
                  "6": "2025-08-26 16:10:47"
                },
                {
                  "0": "319",
                  "1": "Parzniewice, Ujęcie Wody",
                  "2": "Parzniewice",
                  "3": "51.291175",
                  "4": "19.517556",
                  "5": "Dobry",
                  "6": "2025-08-26 16:10:47"
                },
                {
                  "0": "322",
                  "1": "Piotrków Trybunalski, ul. Krakowskie Przedmieście",
                  "2": "Piotrków Trybunalski",
                  "3": "51.404406",
                  "4": "19.696956",
                  "5": "Dobry",
                  "6": "2025-08-26 16:10:47"
                },
                {
                  "0": "361",
                  "1": "Gorzów Wlkp. ul. Kosynierów Gdyńskich",
                  "2": "Gorzów Wielkopolski",
                  "3": "52.738214",
                  "4": "15.228667",
                  "5": "Dobry",
                  "6": "2025-08-26 16:08:11"
                },
                {
                  "0": "376",
                  "1": "Sulęcin ul. Dudka",
                  "2": "Sulęcin",
                  "3": "52.437722",
                  "4": "15.122444",
                  "5": "Dobry",
                  "6": "2025-08-26 16:08:11"
                },
                {
                  "0": "379",
                  "1": "Wschowa ul. Kazimierza Wielkiego",
                  "2": "Wschowa",
                  "3": "51.799722",
                  "4": "16.317500",
                  "5": "Dobry",
                  "6": "2025-08-26 16:08:11"
                },
                {
                  "0": "400",
                  "1": "Kraków, Aleja Krasińskiego",
                  "2": "Kraków",
                  "3": "50.057678",
                  "4": "19.926189",
                  "5": "Dobry",
                  "6": "2025-08-26 16:11:08"
                },
                {
                  "0": "402",
                  "1": "Kraków, ul. Bulwarowa",
                  "2": "Kraków",
                  "3": "50.069308",
                  "4": "20.053492",
                  "5": "Brak indeksu",
                  "6": "2025-08-26 16:11:08"
                },
                {
                  "0": "437",
                  "1": "Skawina, os. Ogrody",
                  "2": "Skawina",
                  "3": "49.971047",
                  "4": "19.830422",
                  "5": "Dobry",
                  "6": "2025-08-26 16:11:08"
                },
                {
                  "0": "443",
                  "1": "Szymbark",
                  "2": "Szymbark",
                  "3": "49.633714",
                  "4": "21.116833",
                  "5": "Dobry",
                  "6": "2025-08-26 16:11:08"
                },
                {
                  "0": "444",
                  "1": "Tarnów, ul. Bitwy pod Studziankami",
                  "2": "Tarnów",
                  "3": "50.020169",
                  "4": "21.004167",
                  "5": "Dobry",
                  "6": "2025-08-26 16:11:08"
                },
                {
                  "0": "449",
                  "1": "Trzebinia, os. Związku Walki Młodych",
                  "2": "Trzebinia",
                  "3": "50.159406",
                  "4": "19.477464",
                  "5": "Brak indeksu",
                  "6": "2025-08-26 16:11:08"
                },
                {
                  "0": "488",
                  "1": "Piastów, ul. Pułaskiego",
                  "2": "Piastów",
                  "3": "52.191728",
                  "4": "20.837489",
                  "5": "Dobry",
                  "6": "2025-08-26 16:13:21"
                },
                {
                  "0": "501",
                  "1": "Płock, ul. Reja",
                  "2": "Płock",
                  "3": "52.550938",
                  "4": "19.709791",
                  "5": "Dobry",
                  "6": "2025-08-26 16:13:21"
                },
                {
                  "0": "515",
                  "1": "Radom, ul. Tochtermana",
                  "2": "Radom",
                  "3": "51.399084",
                  "4": "21.147474",
                  "5": "Dobry",
                  "6": "2025-08-26 16:13:21"
                },
                {
                  "0": "517",
                  "1": "Siedlce, ul. Konarskiego",
                  "2": "Siedlce",
                  "3": "52.172145",
                  "4": "22.282001",
                  "5": "Brak indeksu",
                  "6": "2025-08-26 16:13:21"
                },
                {
                  "0": "538",
                  "1": "Warszawa, ul. Tołstoja",
                  "2": "Warszawa",
                  "3": "52.285073",
                  "4": "20.933018",
                  "5": "Brak indeksu",
                  "6": "2025-08-26 16:13:21"
                },
                {
                  "0": "552",
                  "1": "Warszawa, ul. Kondratowicza",
                  "2": "Warszawa",
                  "3": "52.290864",
                  "4": "21.042458",
                  "5": "Dobry",
                  "6": "2025-08-26 16:13:21"
                },
                {
                  "0": "568",
                  "1": "Kędzierzyn-Koźle, ul. Śmiałego",
                  "2": "Kędzierzyn-Koźle",
                  "3": "50.349608",
                  "4": "18.236575",
                  "5": "Dobry",
                  "6": "2025-08-26 16:08:08"
                },
                {
                  "0": "725",
                  "1": "Słupsk, ul. Kniaziewicza",
                  "2": "Słupsk",
                  "3": "54.463611",
                  "4": "17.046722",
                  "5": "Bardzo dobry",
                  "6": "2025-08-26 16:10:30"
                },
                {
                  "0": "729",
                  "1": "Gdańsk, ul. Powstańców Warszawskich",
                  "2": "Gdańsk",
                  "3": "54.353196",
                  "4": "18.635267",
                  "5": "Bardzo dobry",
                  "6": "2025-08-26 16:10:30"
                },
                {
                  "0": "731",
                  "1": "Gdańsk, ul. Wyzwolenia",
                  "2": "Gdańsk",
                  "3": "54.400788",
                  "4": "18.657332",
                  "5": "Bardzo dobry",
                  "6": "2025-08-26 16:10:30"
                },
                {
                  "0": "736",
                  "1": "Gdańsk, ul. Leczkowa",
                  "2": "Gdańsk",
                  "3": "54.380139",
                  "4": "18.619766",
                  "5": "Bardzo dobry",
                  "6": "2025-08-26 16:10:30"
                },
                {
                  "0": "740",
                  "1": "Kościerzyna, ul. Targowa",
                  "2": "Kościerzyna",
                  "3": "54.120694",
                  "4": "17.975861",
                  "5": "Bardzo dobry",
                  "6": "2025-08-26 16:10:30"
                },
                {
                  "0": "743",
                  "1": "Liniewko Kościerskie",
                  "2": "Liniewko Kościerskie",
                  "3": "54.104111",
                  "4": "18.182972",
                  "5": "Dobry",
                  "6": "2025-08-26 16:10:30"
                },
                {
                  "0": "798",
                  "1": "Częstochowa, ul. AK/Jana Pawła II",
                  "2": "Częstochowa",
                  "3": "50.817217",
                  "4": "19.118997",
                  "5": "Brak indeksu",
                  "6": "2025-08-26 16:10:56"
                },
                {
                  "0": "800",
                  "1": "Częstochowa, ul. Baczyńskiego",
                  "2": "Częstochowa",
                  "3": "50.836389",
                  "4": "19.130111",
                  "5": "Dobry",
                  "6": "2025-08-26 16:10:56"
                },
                {
                  "0": "805",
                  "1": "Dąbrowa Górnicza, ul. Tysiąclecia",
                  "2": "Dąbrowa Górnicza",
                  "3": "50.329111",
                  "4": "19.231222",
                  "5": "Dobry",
                  "6": "2025-08-26 16:10:56"
                },
                {
                  "0": "834",
                  "1": "Rybnik, ul. Borki",
                  "2": "Rybnik",
                  "3": "50.111181",
                  "4": "18.516139",
                  "5": "Dobry",
                  "6": "2025-08-26 16:10:56"
                },
                {
                  "0": "837",
                  "1": "Sosnowiec, ul. Lubelska",
                  "2": "Sosnowiec",
                  "3": "50.285956",
                  "4": "19.184399",
                  "5": "Brak indeksu",
                  "6": "2025-08-26 16:10:56"
                },
                {
                  "0": "842",
                  "1": "Ustroń, ul. Sanatoryjna",
                  "2": "Ustroń",
                  "3": "49.719731",
                  "4": "18.826722",
                  "5": "Dobry",
                  "6": "2025-08-26 16:10:56"
                },
                {
                  "0": "845",
                  "1": "Wodzisław Śląski, ul. Gałczyńskiego",
                  "2": "Wodzisław Śląski",
                  "3": "50.007629",
                  "4": "18.455548",
                  "5": "Dobry",
                  "6": "2025-08-26 16:10:56"
                },
                {
                  "0": "853",
                  "1": "Złoty Potok, Leśniczówka",
                  "2": "Złoty Potok",
                  "3": "50.710889",
                  "4": "19.458797",
                  "5": "Dobry",
                  "6": "2025-08-26 16:10:56"
                },
                {
                  "0": "861",
                  "1": "Elbląg, ul. Bażyńskiego",
                  "2": "Elbląg",
                  "3": "54.167847",
                  "4": "19.410942",
                  "5": "Bardzo dobry",
                  "6": "2025-08-26 16:10:22"
                },
                {
                  "0": "870",
                  "1": "Gołdap, ul. Jaćwieska",
                  "2": "Gołdap",
                  "3": "54.305908",
                  "4": "22.307681",
                  "5": "Bardzo dobry",
                  "6": "2025-08-26 16:10:22"
                },
                {
                  "0": "877",
                  "1": "Olsztyn, ul. Puszkina",
                  "2": "Olsztyn",
                  "3": "53.789233",
                  "4": "20.486075",
                  "5": "Bardzo dobry",
                  "6": "2025-08-26 16:10:22"
                },
                {
                  "0": "902",
                  "1": "Konin, ul. Wyszyńskiego",
                  "2": "Konin",
                  "3": "52.225650",
                  "4": "18.268927",
                  "5": "Dobry",
                  "6": "2025-08-26 16:12:13"
                },
                {
                  "0": "944",
                  "1": "Poznań, ul. Dąbrowskiego",
                  "2": "Poznań",
                  "3": "52.420319",
                  "4": "16.877289",
                  "5": "Brak indeksu",
                  "6": "2025-08-26 16:12:13"
                },
                {
                  "0": "986",
                  "1": "Szczecin, ul. Andrzejewskiego",
                  "2": "Szczecin",
                  "3": "53.380975",
                  "4": "14.663347",
                  "5": "Dobry",
                  "6": "2025-08-26 16:12:13"
                },
                {
                  "0": "987",
                  "1": "Szczecin, ul. Piłsudskiego",
                  "2": "Szczecin",
                  "3": "53.432169",
                  "4": "14.553900",
                  "5": "Brak indeksu",
                  "6": "2025-08-26 16:12:13"
                },
                {
                  "0": "382",
                  "1": "Żary, ul. Szymanowskiego ",
                  "2": "Żary",
                  "3": "51.642656",
                  "4": "15.127808",
                  "5": "Dobry",
                  "6": "2025-08-26 16:08:11"
                },
                {
                  "0": "9153",
                  "1": "Jelenia Góra, ul. Ogińskiego",
                  "2": "Jelenia Góra",
                  "3": "50.913433",
                  "4": "15.765608",
                  "5": "Dobry",
                  "6": "2025-08-26 16:10:37"
                },
                {
                  "0": "600",
                  "1": "Zdzieszowice, ul. Piastów",
                  "2": "Zdzieszowice",
                  "3": "50.423533",
                  "4": "18.120739",
                  "5": "Brak indeksu",
                  "6": "2025-08-26 16:08:08"
                },
                {
                  "0": "952",
                  "1": "Kalisz, ul. Wyszyńskiego",
                  "2": "Kalisz",
                  "3": "51.747950",
                  "4": "18.049063",
                  "5": "Dobry",
                  "6": "2025-08-26 16:12:13"
                },
                {
                  "0": "236",
                  "1": "Biała Podlaska, ul. Orzechowa",
                  "2": "Biała Podlaska",
                  "3": "52.029194",
                  "4": "23.149389",
                  "5": "Bardzo dobry",
                  "6": "2025-08-26 16:11:02"
                },
                {
                  "0": "9791",
                  "1": "Włocławek, ul. Kaliska",
                  "2": "Włocławek",
                  "3": "52.637394",
                  "4": "19.044486",
                  "5": "Dobry",
                  "6": "2025-08-26 15:36:08"
                },
                {
                  "0": "10030",
                  "1": "Ostróda, ul. Piłsudskiego",
                  "2": "Ostróda",
                  "3": "53.694587",
                  "4": "19.969041",
                  "5": "Bardzo dobry",
                  "6": "2025-08-26 16:10:22"
                },
                {
                  "0": "10119",
                  "1": "Kaszów",
                  "2": "Kaszów",
                  "3": "50.025028",
                  "4": "19.726833",
                  "5": "Dobry",
                  "6": "2025-08-26 16:11:08"
                },
                {
                  "0": "950",
                  "1": "Borówiec, ul. Drapałka",
                  "2": "Borówiec",
                  "3": "52.276720",
                  "4": "17.074187",
                  "5": "Dobry",
                  "6": "2025-08-26 16:12:13"
                },
                {
                  "0": "10123",
                  "1": "Kraków, ul. Złoty Róg",
                  "2": "Kraków",
                  "3": "50.081197",
                  "4": "19.895358",
                  "5": "Dobry",
                  "6": "2025-08-26 16:11:08"
                },
                {
                  "0": "10438",
                  "1": "Mielec, ul. Biernackiego",
                  "2": "Mielec",
                  "3": "50.299128",
                  "4": "21.440942",
                  "5": "Dobry",
                  "6": "2025-08-26 16:10:53"
                },
                {
                  "0": "10447",
                  "1": "Kraków, os. Wadów",
                  "2": "Kraków",
                  "3": "50.100569",
                  "4": "20.122561",
                  "5": "Brak indeksu",
                  "6": "2025-08-26 16:11:08"
                },
                {
                  "0": "10794",
                  "1": "Małogoszcz, ul. Słoneczna",
                  "2": "Małogoszcz",
                  "3": "50.809610",
                  "4": "20.266032",
                  "5": "Brak indeksu",
                  "6": "2025-08-26 16:06:11"
                },
                {
                  "0": "10834",
                  "1": "Koziegłowy, os.Leśne",
                  "2": "Koziegłowy",
                  "3": "52.449295",
                  "4": "16.999634",
                  "5": "Brak indeksu",
                  "6": "2025-08-26 16:12:13"
                },
                {
                  "0": "225",
                  "1": "Włocławek, ul. Okrzei",
                  "2": "Włocławek",
                  "3": "52.658467",
                  "4": "19.059314",
                  "5": "Brak indeksu",
                  "6": "2025-08-26 15:36:08"
                },
                {
                  "0": "584",
                  "1": "Olesno, ul. Słowackiego",
                  "2": "Olesno",
                  "3": "50.876983",
                  "4": "18.416878",
                  "5": "Dobry",
                  "6": "2025-08-26 16:08:08"
                },
                {
                  "0": "11174",
                  "1": "Białystok, ul. 42 Pułku Piechoty",
                  "2": "Białystok",
                  "3": "53.144122",
                  "4": "23.216322",
                  "5": "Bardzo dobry",
                  "6": "2025-08-26 16:10:21"
                },
                {
                  "0": "11195",
                  "1": "Kielce, ul. Targowa",
                  "2": "Kielce",
                  "3": "50.878998",
                  "4": "20.633692",
                  "5": "Dobry",
                  "6": "2025-08-26 16:06:11"
                },
                {
                  "0": "11358",
                  "1": "Biała, ul. Kmicica",
                  "2": "Biała",
                  "3": "52.602534",
                  "4": "19.645100",
                  "5": "Brak indeksu",
                  "6": "2025-08-26 16:13:21"
                },
                {
                  "0": "10955",
                  "1": "Warszawa, ul. Chrościckiego",
                  "2": "Warszawa",
                  "3": "52.207742",
                  "4": "20.906073",
                  "5": "Dobry",
                  "6": "2025-08-26 16:13:21"
                },
                {
                  "0": "590",
                  "1": "Opole, os. Armii Krajowej",
                  "2": "Opole",
                  "3": "50.676856",
                  "4": "17.950278",
                  "5": "Dobry",
                  "6": "2025-08-26 16:15:20"
                },
                {
                  "0": "11336",
                  "1": "Koszalin, ul. Chopina",
                  "2": "Koszalin",
                  "3": "54.194114",
                  "4": "16.211672",
                  "5": "Dobry",
                  "6": "2025-08-26 16:12:13"
                },
                {
                  "0": "966",
                  "1": "Koszalin, ul. Armii Krajowej",
                  "2": "Koszalin",
                  "3": "54.193986",
                  "4": "16.172544",
                  "5": "Brak indeksu",
                  "6": "2025-08-26 16:12:13"
                },
                {
                  "0": "11554",
                  "1": "Łask, ul. Narutowicza",
                  "2": "Łask",
                  "3": "51.589208",
                  "4": "19.131433",
                  "5": "Brak indeksu",
                  "6": "2025-08-26 16:10:47"
                },
                {
                  "0": "11754",
                  "1": "Gołuchów, Ujęcie Wody",
                  "2": "Gołuchów",
                  "3": "50.621482",
                  "4": "20.614057",
                  "5": "Dobry",
                  "6": "2025-08-26 16:06:11"
                },
                {
                  "0": "11794",
                  "1": "Racibórz, Wojska Polskiego",
                  "2": "Racibórz",
                  "3": "50.091142",
                  "4": "18.216261",
                  "5": "Dobry",
                  "6": "2025-08-26 16:10:56"
                },
                {
                  "0": "10814",
                  "1": "Oświęcim, ul. J. Bema",
                  "2": "Oświęcim",
                  "3": "50.033083",
                  "4": "19.245275",
                  "5": "Brak indeksu",
                  "6": "2025-08-26 16:11:08"
                },
                {
                  "0": "11814",
                  "1": "Białystok, al.Piłsudskiego",
                  "2": "Białystok",
                  "3": "53.135286",
                  "4": "23.161325",
                  "5": "Bardzo dobry",
                  "6": "2025-08-26 16:10:21"
                },
                {
                  "0": "11916",
                  "1": "Augustów, Uzdrowisko",
                  "2": "Augustów",
                  "3": "53.852550",
                  "4": "22.984686",
                  "5": "Bardzo dobry",
                  "6": "2025-08-26 16:10:21"
                },
                {
                  "0": "9798",
                  "1": "Nakło nad Notecią, ul. Św. Wawrzyńca",
                  "2": "Nakło nad Notecią",
                  "3": "53.136681",
                  "4": "17.591539",
                  "5": "Brak indeksu",
                  "6": "2025-08-26 16:15:41"
                },
                {
                  "0": "10374",
                  "1": "Opole, ul. Koszyka",
                  "2": "Opole",
                  "3": "50.666736",
                  "4": "17.899137",
                  "5": "Brak indeksu",
                  "6": "2025-08-26 16:15:20"
                },
                {
                  "0": "16196",
                  "1": "Kielce, ul. Warszawska 108",
                  "2": "Kielce",
                  "3": "50.886014",
                  "4": "20.642858",
                  "5": "Brak indeksu",
                  "6": "2025-08-26 16:06:11"
                },
                {
                  "0": "16180",
                  "1": "Gdańsk, Al. Grunwaldzka",
                  "2": "Gdańsk",
                  "3": "54.380682",
                  "4": "18.601559",
                  "5": "Dobry",
                  "6": "2025-08-26 16:10:30"
                },
                {
                  "0": "16242",
                  "1": "Sopot, ul. Bitwy Pod Płowcami",
                  "2": "Sopot",
                  "3": "54.434510",
                  "4": "18.578840",
                  "5": "Bardzo dobry",
                  "6": "2025-08-26 16:10:30"
                },
                {
                  "0": "10018",
                  "1": "Głubczyce, ul. Ratuszowa",
                  "2": "Głubczyce",
                  "3": "50.200778",
                  "4": "17.830510",
                  "5": "Brak indeksu",
                  "6": "2025-08-26 16:15:20"
                },
                {
                  "0": "16413",
                  "1": "Brzeg, ul. Poprzeczna",
                  "2": "Brzeg",
                  "3": "50.849509",
                  "4": "17.462579",
                  "5": "Brak indeksu",
                  "6": "2025-08-26 16:15:20"
                },
                {
                  "0": "882",
                  "1": "Diabla Góra, Puszcza Borecka",
                  "2": "Diabla Góra",
                  "3": "54.124819",
                  "4": "22.038056",
                  "5": "Bardzo dobry",
                  "6": "2025-08-26 16:10:22"
                },
                {
                  "0": "10005",
                  "1": "Ełk, ul. Piłsudskiego",
                  "2": "Ełk",
                  "3": "53.828389",
                  "4": "22.348338",
                  "5": "Bardzo dobry",
                  "6": "2025-08-26 16:10:22"
                },
                {
                  "0": "16896",
                  "1": "Kraków, ul. Kamieńskiego",
                  "2": "Kraków",
                  "3": "50.024605",
                  "4": "19.978460",
                  "5": "Dobry",
                  "6": "2025-08-26 16:11:08"
                },
                {
                  "0": "17318",
                  "1": "Katowice, ul. Dudy-Gracza",
                  "2": "Katowice",
                  "3": "50.258483",
                  "4": "19.036217",
                  "5": "Dobry",
                  "6": "2025-08-26 16:10:56"
                },
                {
                  "0": "17880",
                  "1": "Zabrze, ul. M. Skłodowskiej-Curie",
                  "2": "Zabrze",
                  "3": "50.317072",
                  "4": "18.771258",
                  "5": "Dobry",
                  "6": "2025-08-26 16:10:56"
                },
                {
                  "0": "20367",
                  "1": "Kraków, ul. Półłanki",
                  "2": "Kraków",
                  "3": "50.034702",
                  "4": "20.044386",
                  "5": "Dobry",
                  "6": "2025-08-26 16:11:08"
                },
                {
                  "0": "9114",
                  "1": "Ostrołęka, ul. Hallera",
                  "2": "Ostrołęka",
                  "3": "53.083736",
                  "4": "21.579322",
                  "5": "Dobry",
                  "6": "2025-08-26 16:13:21"
                },
                {
                  "0": "70",
                  "1": "Oława, ul. Żołnierzy Armii Krajowej",
                  "2": "Oława",
                  "3": "50.942073",
                  "4": "17.291333",
                  "5": "Dobry",
                  "6": "2025-08-26 16:10:37"
                },
                {
                  "0": "74",
                  "1": "Osieczów",
                  "2": "Osieczów",
                  "3": "51.317630",
                  "4": "15.431719",
                  "5": "Dobry",
                  "6": "2025-08-26 16:10:37"
                },
                {
                  "0": "109",
                  "1": "Wałbrzych, ul. Wysockiego",
                  "2": "Wałbrzych",
                  "3": "50.768729",
                  "4": "16.269677",
                  "5": "Dobry",
                  "6": "2025-08-26 16:10:37"
                },
                {
                  "0": "145",
                  "1": "Toruń, ul. Wały gen. Sikorskiego",
                  "2": "Toruń",
                  "3": "53.012475",
                  "4": "18.605681",
                  "5": "Dobry",
                  "6": "2025-08-26 16:15:41"
                },
                {
                  "0": "285",
                  "1": "Zamość, ul. Hrubieszowska",
                  "2": "Zamość",
                  "3": "50.716628",
                  "4": "23.290247",
                  "5": "Brak indeksu",
                  "6": "2025-08-26 16:11:02"
                },
                {
                  "0": "374",
                  "1": "Smolary Bytnickie",
                  "2": "Smolary Bytnickie",
                  "3": "52.172222",
                  "4": "15.206667",
                  "5": "Dobry",
                  "6": "2025-08-26 16:15:24"
                },
                {
                  "0": "387",
                  "1": "Zielona Góra ul. Krótka",
                  "2": "Zielona Góra",
                  "3": "51.939783",
                  "4": "15.518861",
                  "5": "Dobry",
                  "6": "2025-08-26 16:15:24"
                },
                {
                  "0": "401",
                  "1": "Kraków, ul. Bujaka",
                  "2": "Kraków",
                  "3": "50.010575",
                  "4": "19.949189",
                  "5": "Dobry",
                  "6": "2025-08-26 16:11:08"
                },
                {
                  "0": "426",
                  "1": "Nowy Sącz, ul. Nadbrzeżna",
                  "2": "Nowy Sącz",
                  "3": "49.619281",
                  "4": "20.714403",
                  "5": "Brak indeksu",
                  "6": "2025-08-26 16:11:08"
                },
                {
                  "0": "459",
                  "1": "Zakopane, ul. Sienkiewicza",
                  "2": "Zakopane",
                  "3": "49.293564",
                  "4": "19.960083",
                  "5": "Dobry",
                  "6": "2025-08-26 16:11:08"
                },
                {
                  "0": "460",
                  "1": "Belsk Duży, IGF PAN",
                  "2": "Belsk Duży",
                  "3": "51.835242",
                  "4": "20.791912",
                  "5": "Dobry",
                  "6": "2025-08-26 16:13:21"
                },
                {
                  "0": "471",
                  "1": "Legionowo, ul. Zegrzyńska",
                  "2": "Legionowo",
                  "3": "52.407578",
                  "4": "20.955928",
                  "5": "Dobry",
                  "6": "2025-08-26 16:13:21"
                },
                {
                  "0": "497",
                  "1": "Płock, ul. Królowej Jadwigi",
                  "2": "Płock",
                  "3": "52.556279",
                  "4": "19.687672",
                  "5": "Brak indeksu",
                  "6": "2025-08-26 16:13:21"
                },
                {
                  "0": "530",
                  "1": "Warszawa, al. Niepodległości",
                  "2": "Warszawa",
                  "3": "52.219298",
                  "4": "21.004724",
                  "5": "Brak indeksu",
                  "6": "2025-08-26 16:13:21"
                },
                {
                  "0": "638",
                  "1": "Jaslo, ul. Sikorskiego",
                  "2": "Jasło",
                  "3": "49.744886",
                  "4": "21.454617",
                  "5": "Dobry",
                  "6": "2025-08-26 16:10:53"
                },
                {
                  "0": "659",
                  "1": "Nisko, ul. Szklarniowa",
                  "2": "Nisko",
                  "3": "50.529892",
                  "4": "22.112467",
                  "5": "Dobry",
                  "6": "2025-08-26 16:10:53"
                },
                {
                  "0": "732",
                  "1": "Gdynia, ul. Porębskiego",
                  "2": "Gdynia",
                  "3": "54.560836",
                  "4": "18.493331",
                  "5": "Bardzo dobry",
                  "6": "2025-08-26 16:10:30"
                },
                {
                  "0": "769",
                  "1": "Nowiny, ul. Parkowa",
                  "2": "Nowiny",
                  "3": "50.823108",
                  "4": "20.533506",
                  "5": "Dobry",
                  "6": "2025-08-26 16:06:11"
                },
                {
                  "0": "778",
                  "1": "Połaniec, ul. Ruszczańska",
                  "2": "Połaniec",
                  "3": "50.429014",
                  "4": "21.277367",
                  "5": "Brak indeksu",
                  "6": "2025-08-26 16:06:11"
                },
                {
                  "0": "789",
                  "1": "Bielsko-Biała, ul. Kossak-Szczuckiej",
                  "2": "Bielsko-Biała",
                  "3": "49.813464",
                  "4": "19.027318",
                  "5": "Dobry",
                  "6": "2025-08-26 16:10:56"
                },
                {
                  "0": "809",
                  "1": "Gliwice, ul. Mewy",
                  "2": "Gliwice",
                  "3": "50.279481",
                  "4": "18.655736",
                  "5": "Brak indeksu",
                  "6": "2025-08-26 16:10:56"
                },
                {
                  "0": "814",
                  "1": "Katowice, ul. Kossutha",
                  "2": "Katowice",
                  "3": "50.264611",
                  "4": "18.975028",
                  "5": "Dobry",
                  "6": "2025-08-26 16:10:56"
                },
                {
                  "0": "841",
                  "1": "Tychy, ul. Tołstoja",
                  "2": "Tychy",
                  "3": "50.099903",
                  "4": "18.990236",
                  "5": "Brak indeksu",
                  "6": "2025-08-26 16:10:56"
                },
                {
                  "0": "920",
                  "1": "Pila, ul. Kusocińskiego",
                  "2": "Piła",
                  "3": "53.154408",
                  "4": "16.759572",
                  "5": "Brak indeksu",
                  "6": "2025-08-26 16:12:13"
                },
                {
                  "0": "983",
                  "1": "Szczecinek, ul. Przemysłowa",
                  "2": "Szczecinek",
                  "3": "53.698902",
                  "4": "16.704556",
                  "5": "Brak indeksu",
                  "6": "2025-08-26 16:12:13"
                },
                {
                  "0": "9179",
                  "1": "Szarów, ul. Spokojna",
                  "2": "Szarów",
                  "3": "50.007500",
                  "4": "20.259167",
                  "5": "Dobry",
                  "6": "2025-08-26 16:11:08"
                },
                {
                  "0": "9913",
                  "1": "Guty Duże",
                  "2": "Guty Duże",
                  "3": "52.943172",
                  "4": "21.288167",
                  "5": "Dobry",
                  "6": "2025-08-26 16:13:21"
                },
                {
                  "0": "485",
                  "1": "Otwock, ul. Brzozowa",
                  "2": "Otwock",
                  "3": "52.115725",
                  "4": "21.237297",
                  "5": "Dobry",
                  "6": "2025-08-26 16:13:21"
                },
                {
                  "0": "10058",
                  "1": "Łódź, al. Jana Pawła II",
                  "2": "Łódź",
                  "3": "51.754613",
                  "4": "19.434925",
                  "5": "Brak indeksu",
                  "6": "2025-08-26 16:10:47"
                },
                {
                  "0": "10125",
                  "1": "Rzeszów, ul. Piłsudskiego",
                  "2": "Rzeszów",
                  "3": "50.040675",
                  "4": "22.004656",
                  "5": "Brak indeksu",
                  "6": "2025-08-26 16:10:53"
                },
                {
                  "0": "10093",
                  "1": "Duszniki-Zdrój, ul. Sportowa",
                  "2": "Duszniki-Zdrój",
                  "3": "50.402561",
                  "4": "16.393311",
                  "5": "Brak indeksu",
                  "6": "2025-08-26 16:10:37"
                },
                {
                  "0": "10120",
                  "1": "Tarnów, ul. Ks. Romana Sitko",
                  "2": "Tarnów",
                  "3": "50.018253",
                  "4": "20.992578",
                  "5": "Brak indeksu",
                  "6": "2025-08-26 16:11:08"
                },
                {
                  "0": "10158",
                  "1": "Bielsko-Biała, ul.Partyzantów",
                  "2": "Bielsko-Biała",
                  "3": "49.802075",
                  "4": "19.048610",
                  "5": "Brak indeksu",
                  "6": "2025-08-26 16:10:56"
                },
                {
                  "0": "331",
                  "1": "Radomsko, ul. Rolna",
                  "2": "Radomsko",
                  "3": "51.067417",
                  "4": "19.448714",
                  "5": "Dobry",
                  "6": "2025-08-26 16:10:47"
                },
                {
                  "0": "10956",
                  "1": "Warszawa, ul. Bajkowa",
                  "2": "Warszawa",
                  "3": "52.188474",
                  "4": "21.176233",
                  "5": "Brak indeksu",
                  "6": "2025-08-26 16:13:21"
                },
                {
                  "0": "612",
                  "1": "Borsukowizna, Szkółka Leśna",
                  "2": "Borsukowizna",
                  "3": "53.215492",
                  "4": "23.642153",
                  "5": "Bardzo dobry",
                  "6": "2025-08-26 16:10:21"
                },
                {
                  "0": "11154",
                  "1": "Suwałki, ul. Pułaskiego 26",
                  "2": "Suwałki",
                  "3": "54.115897",
                  "4": "22.938464",
                  "5": "Bardzo dobry",
                  "6": "2025-08-26 16:10:21"
                },
                {
                  "0": "631",
                  "1": "Jarosław, ul. Pruchnicka",
                  "2": "Jarosław",
                  "3": "50.012083",
                  "4": "22.674772",
                  "5": "Brak indeksu",
                  "6": "2025-08-26 16:10:53"
                },
                {
                  "0": "11457",
                  "1": "Goczałkowice Zdrój, ul. Parkowa",
                  "2": "Goczałkowice-Zdrój",
                  "3": "49.937850",
                  "4": "18.975594",
                  "5": "Dobry",
                  "6": "2025-08-26 16:10:56"
                },
                {
                  "0": "11576",
                  "1": "Bydgoszcz, ul. Jeździecka",
                  "2": "Bydgoszcz",
                  "3": "53.175214",
                  "4": "18.044164",
                  "5": "Dobry",
                  "6": "2025-08-26 16:15:41"
                },
                {
                  "0": "11616",
                  "1": "Kutno, ul. 1 Maja",
                  "2": "Kutno",
                  "3": "52.231908",
                  "4": "19.353689",
                  "5": "Brak indeksu",
                  "6": "2025-08-26 16:10:47"
                },
                {
                  "0": "11934",
                  "1": "Trzebnica, ul. 3 Maja",
                  "2": "Trzebnica",
                  "3": "51.304817",
                  "4": "17.071367",
                  "5": "Dobry",
                  "6": "2025-08-26 16:10:37"
                },
                {
                  "0": "12038",
                  "1": "Świecie, al. Jana Pawła II",
                  "2": "Świecie",
                  "3": "53.407580",
                  "4": "18.428751",
                  "5": "Brak indeksu",
                  "6": "2025-08-26 16:15:41"
                },
                {
                  "0": "9218",
                  "1": "Pleszew, Al. Mickiewicza",
                  "2": "Pleszew",
                  "3": "51.884922",
                  "4": "17.791106",
                  "5": "Brak indeksu",
                  "6": "2025-08-26 16:12:13"
                },
                {
                  "0": "742",
                  "1": "Lębork, ul. Malczewskiego",
                  "2": "Lębork",
                  "3": "54.546167",
                  "4": "17.746194",
                  "5": "Dobry",
                  "6": "2025-08-26 16:10:30"
                },
                {
                  "0": "16238",
                  "1": "Sulechów, ul. Licealna",
                  "2": "Sulechów",
                  "3": "52.084833",
                  "4": "15.633250",
                  "5": "Brak indeksu",
                  "6": "2025-08-26 16:15:24"
                },
                {
                  "0": "684",
                  "1": "Tarnobrzeg, ul. Dąbrowskiej",
                  "2": "Tarnobrzeg",
                  "3": "50.575742",
                  "4": "21.688367",
                  "5": "Brak indeksu",
                  "6": "2025-08-26 16:10:53"
                },
                {
                  "0": "16493",
                  "1": "Poznań ul. Szwajcarska",
                  "2": "Poznań",
                  "3": "52.390879",
                  "4": "16.998053",
                  "5": "Dobry",
                  "6": "2025-08-26 16:12:13"
                },
                {
                  "0": "17658",
                  "1": "Białystok, ul. Upalna",
                  "2": "Białystok",
                  "3": "53.129601",
                  "4": "23.108054",
                  "5": "Bardzo dobry",
                  "6": "2025-08-26 16:10:21"
                },
                {
                  "0": "10934",
                  "1": "Kołobrzeg, ul. Żółkiewskiego",
                  "2": "Kołobrzeg",
                  "3": "54.179381",
                  "4": "15.596347",
                  "5": "Brak indeksu",
                  "6": "2025-08-26 16:12:13"
                },
                {
                  "0": "17758",
                  "1": "Skarżysko-Kamienna, ul. 1 Maja",
                  "2": "Skarżysko-Kamienna",
                  "3": "51.115842",
                  "4": "20.891593",
                  "5": "Brak indeksu",
                  "6": "2025-08-26 16:16:13"
                },
                {
                  "0": "785",
                  "1": "Starachowice, ul. Złota",
                  "2": "Starachowice",
                  "3": "51.050611",
                  "4": "21.084175",
                  "5": "Brak indeksu",
                  "6": "2025-08-26 16:16:13"
                },
                {
                  "0": "20201",
                  "1": "Rzeszów, ul. Kwiatkowskiego",
                  "2": "Rzeszów",
                  "3": "49.998408",
                  "4": "21.992183",
                  "5": "Brak indeksu",
                  "6": "2025-08-26 16:10:53"
                },
                {
                  "0": "20209",
                  "1": "Ciechanów, ul. Kraszewskiego",
                  "2": "Ciechanów",
                  "3": "52.885541",
                  "4": "20.602511",
                  "5": "Brak indeksu",
                  "6": "2025-08-26 16:13:21"
                },
                {
                  "0": "20277",
                  "1": "Tomaszów Lubelski, ul. Janusza Petera",
                  "2": "Tomaszów Lubelski",
                  "3": "50.444128",
                  "4": "23.421553",
                  "5": "Brak indeksu",
                  "6": "2025-08-26 16:11:02"
                },
                {
                  "0": "20347",
                  "1": "Gdańsk, ul. Lawendowe Wzgórze",
                  "2": "Gdańsk",
                  "3": "54.328833",
                  "4": "18.568819",
                  "5": "Bardzo dobry",
                  "6": "2025-08-26 16:10:30"
                },
                {
                  "0": "20468",
                  "1": "Lubań, ul. Ludowa",
                  "2": "Lubań",
                  "3": "51.120091",
                  "4": "15.298189",
                  "5": "Brak indeksu",
                  "6": "2025-08-26 16:10:37"
                },
                {
                  "0": "961",
                  "1": "Widuchowa",
                  "2": "Widuchowa",
                  "3": "53.122325",
                  "4": "14.382245",
                  "5": "Dobry",
                  "6": "2025-08-26 16:12:13"
                },
                {
                  "0": "142",
                  "1": "Grudziądz, ul. Piłsudskiego",
                  "2": "Grudziądz",
                  "3": "53.493550",
                  "4": "18.762139",
                  "5": "Brak indeksu",
                  "6": "2025-08-26 16:15:41"
                },
                {
                  "0": "741",
                  "1": "Malbork, ul. Mickiewicza",
                  "2": "Malbork",
                  "3": "54.031247",
                  "4": "19.032899",
                  "5": "Bardzo dobry",
                  "6": "2025-08-26 16:10:30"
                },
                {
                  "0": "946",
                  "1": "Piaski, Krzyżówka",
                  "2": "Krzyżówka",
                  "3": "52.501318",
                  "4": "17.773175",
                  "5": "Dobry",
                  "6": "2025-08-26 16:12:13"
                },
                {
                  "0": "9175",
                  "1": "Krempna, Ośrodek edukacyjno-muzealny MPN",
                  "2": "Krempna",
                  "3": "49.511297",
                  "4": "21.498606",
                  "5": "Dobry",
                  "6": "2025-08-26 16:10:53"
                },
                {
                  "0": "856",
                  "1": "Żywiec, ul. Kopernika",
                  "2": "Żywiec",
                  "3": "49.671602",
                  "4": "19.234446",
                  "5": "Dobry",
                  "6": "2025-08-26 16:10:56"
                },
                {
                  "0": "11855",
                  "1": "Jastrzębie-Zdrój, Al.J.Piłsudskiego/Harcerska",
                  "2": "Jastrzębie-Zdrój",
                  "3": "49.952544",
                  "4": "18.607953",
                  "5": "Dostateczny",
                  "6": "2025-08-26 16:10:56"
                },
                {
                  "0": "16271",
                  "1": "Konstancin-Jeziorna, ul. Żeromskiego",
                  "2": "Konstancin-Jeziorna",
                  "3": "52.082277",
                  "4": "21.124598",
                  "5": "Brak indeksu",
                  "6": "2025-08-26 16:13:21"
                },
                {
                  "0": "16495",
                  "1": "Mosina, ul. Czereśniowa",
                  "2": "Mosina",
                  "3": "52.241497",
                  "4": "16.865125",
                  "5": "Brak indeksu",
                  "6": "2025-08-26 16:12:13"
                },
                {
                  "0": "16533",
                  "1": "Warszawa, IMGW",
                  "2": "Warszawa",
                  "3": "52.281304",
                  "4": "20.963383",
                  "5": "Bardzo dobry",
                  "6": "2025-08-26 16:13:21"
                },
                {
                  "0": "16913",
                  "1": "Krapkowice, ul. 3 Maja",
                  "2": "Krapkowice",
                  "3": "50.486194",
                  "4": "17.974770",
                  "5": "Brak indeksu",
                  "6": "2025-08-26 16:15:20"
                },
                {
                  "0": "20200",
                  "1": "Kolbuszowa, ul. Jana Pawła II",
                  "2": "Kolbuszowa",
                  "3": "50.245897",
                  "4": "21.769494",
                  "5": "Brak indeksu",
                  "6": "2025-08-26 16:10:53"
                },
                {
                  "0": "20488",
                  "1": "Warszawa, al. Solidarności",
                  "2": "Warszawa",
                  "3": "52.243573",
                  "4": "20.999214",
                  "5": "Brak indeksu",
                  "6": "2025-08-26 16:13:21"
                },
                {
                  "0": "248",
                  "1": "Jarczew, IMGW",
                  "2": "Jarczew",
                  "3": "51.814367",
                  "4": "21.972375",
                  "5": "Dobry",
                  "6": "2025-08-26 16:11:02"
                },
                {
                  "0": "282",
                  "1": "Wilczopole",
                  "2": "Wilczopole",
                  "3": "51.163542",
                  "4": "22.598608",
                  "5": "Dobry",
                  "6": "2025-08-26 16:11:02"
                },
                {
                  "0": "665",
                  "1": "Przemyśl, ul. Grunwaldzka",
                  "2": "Przemyśl",
                  "3": "49.784339",
                  "4": "22.756239",
                  "5": "Dobry",
                  "6": "2025-08-26 16:10:53"
                },
                {
                  "0": "671",
                  "1": "Rzeszów, ul. Rejtana",
                  "2": "Rzeszów",
                  "3": "50.024242",
                  "4": "22.010575",
                  "5": "Dobry",
                  "6": "2025-08-26 16:10:53"
                },
                {
                  "0": "10139",
                  "1": "Kraków, os. Piastów",
                  "2": "Kraków",
                  "3": "50.098508",
                  "4": "20.018269",
                  "5": "Brak indeksu",
                  "6": "2025-08-26 16:11:08"
                },
                {
                  "0": "10414",
                  "1": "Rymanów Zdrój, ul. Parkowa",
                  "2": "Rymanów-Zdrój",
                  "3": "49.546539",
                  "4": "21.851006",
                  "5": "Brak indeksu",
                  "6": "2025-08-26 16:10:53"
                },
                {
                  "0": "10874",
                  "1": "Florianka, RPN",
                  "2": "Florianka",
                  "3": "50.551894",
                  "4": "22.982861",
                  "5": "Dobry",
                  "6": "2025-08-26 16:11:02"
                },
                {
                  "0": "12056",
                  "1": "Chojnów, ul. S. Małachowskiego ",
                  "2": "Chojnów",
                  "3": "51.274280",
                  "4": "15.929804",
                  "5": "Dobry",
                  "6": "2025-08-26 16:10:37"
                },
                {
                  "0": "12138",
                  "1": "Łagów, ul. Zapłotnia",
                  "2": "Łagów",
                  "3": "50.778479",
                  "4": "21.081224",
                  "5": "Brak indeksu",
                  "6": "2025-08-26 16:16:13"
                },
                {
                  "0": "20160",
                  "1": "Świnoujście, ul. Białoruska",
                  "2": "Świnoujście",
                  "3": "53.903814",
                  "4": "14.279628",
                  "5": "Brak indeksu",
                  "6": "2025-08-26 16:12:13"
                },
                {
                  "0": "20447",
                  "1": "Giżycko, ul. Wodociągowa",
                  "2": "Giżycko",
                  "3": "54.043210",
                  "4": "21.784858",
                  "5": "Bardzo dobry",
                  "6": "2025-08-26 16:10:22"
                },
                {
                  "0": "20487",
                  "1": "Warszawa, ul. Grochowska",
                  "2": "Warszawa",
                  "3": "52.245704",
                  "4": "21.080427",
                  "5": "Brak indeksu",
                  "6": "2025-08-26 16:13:21"
                },
                {
                  "0": "618",
                  "1": "Łomża, ul. Sikorskiego",
                  "2": "Łomża",
                  "3": "53.181394",
                  "4": "22.054381",
                  "5": "Bardzo dobry",
                  "6": "2025-08-26 16:10:21"
                },
                {
                  "0": "750",
                  "1": "Łeba, IMGW",
                  "2": "Łeba",
                  "3": "54.754139",
                  "4": "17.534528",
                  "5": "Dobry",
                  "6": "2025-08-26 16:10:30"
                },
                {
                  "0": "989",
                  "1": "Szczecin, ul. Łączna",
                  "2": "Szczecin",
                  "3": "53.470889",
                  "4": "14.556250",
                  "5": "Dobry",
                  "6": "2025-08-26 16:12:13"
                },
                {
                  "0": "10124",
                  "1": "Sucha Beskidzka, ul. Nieszczyńskiej",
                  "2": "Sucha Beskidzka",
                  "3": "49.743131",
                  "4": "19.600339",
                  "5": "Brak indeksu",
                  "6": "2025-08-26 16:11:08"
                },
                {
                  "0": "609",
                  "1": "Białystok, ul. Warszawska",
                  "2": "Białystok",
                  "3": "53.129306",
                  "4": "23.181744",
                  "5": "Bardzo dobry",
                  "6": "2025-08-26 16:10:21"
                },
                {
                  "0": "9173",
                  "1": "Dębica, ul.Grottgera",
                  "2": "Dębica",
                  "3": "50.054786",
                  "4": "21.416256",
                  "5": "Brak indeksu",
                  "6": "2025-08-26 16:10:53"
                },
                {
                  "0": "646",
                  "1": "Krosno, ul. Kletówki",
                  "2": "Krosno",
                  "3": "49.690169",
                  "4": "21.749700",
                  "5": "Brak indeksu",
                  "6": "2025-08-26 16:10:53"
                },
                {
                  "0": "455",
                  "1": "Niepołomice, ul. 3 Maja",
                  "2": "Niepołomice",
                  "3": "50.035117",
                  "4": "20.212689",
                  "5": "Brak indeksu",
                  "6": "2025-08-26 16:11:08"
                },
                {
                  "0": "16753",
                  "1": "Myślenice",
                  "2": "Myślenice",
                  "3": "49.831237",
                  "4": "19.923591",
                  "5": "Brak indeksu",
                  "6": "2025-08-26 16:11:08"
                },
                {
                  "0": "20140",
                  "1": "Wysokie Mazowieckie, ul. 1 Maja",
                  "2": "Wysokie Mazowieckie",
                  "3": "52.913878",
                  "4": "22.509275",
                  "5": "Bardzo dobry",
                  "6": "2025-08-26 16:10:21"
                },
                {
                  "0": "466",
                  "1": "Granica, KPN",
                  "2": "Granica",
                  "3": "52.285858",
                  "4": "20.454653",
                  "5": "Dobry",
                  "6": "2025-08-26 16:13:21"
                },
                {
                  "0": "11254",
                  "1": "Nowa Ruda, ul. Jeziorna",
                  "2": "Nowa Ruda",
                  "3": "50.581492",
                  "4": "16.498245",
                  "5": "Brak indeksu",
                  "6": "2025-08-26 16:10:37"
                },
                {
                  "0": "11360",
                  "1": "Chełm, ul. Połaniecka",
                  "2": "Chełm",
                  "3": "51.122147",
                  "4": "23.473075",
                  "5": "Brak indeksu",
                  "6": "2025-08-26 16:11:02"
                },
                {
                  "0": "11278",
                  "1": "Lubliniec, ul. ks. Szymały",
                  "2": "Lubliniec",
                  "3": "50.675693",
                  "4": "18.682065",
                  "5": "Brak indeksu",
                  "6": "2025-08-26 16:10:56"
                },
                {
                  "0": "10446",
                  "1": "Rabka-Zdrój, ul. Orkana",
                  "2": "Rabka-Zdrój",
                  "3": "49.608647",
                  "4": "19.966008",
                  "5": "Brak indeksu",
                  "6": "2025-08-26 16:11:08"
                },
                {
                  "0": "11434",
                  "1": "Zabierzów, ul. Wapienna",
                  "2": "Zabierzów",
                  "3": "50.116028",
                  "4": "19.800639",
                  "5": "Brak indeksu",
                  "6": "2025-08-26 16:11:08"
                },
                {
                  "0": "16406",
                  "1": "Cieszyn, ul. Chopina",
                  "2": "Cieszyn",
                  "3": "49.755989",
                  "4": "18.634075",
                  "5": "Dobry",
                  "6": "2025-08-26 16:10:56"
                },
                {
                  "0": "678",
                  "1": "Sanok, ul. Sadowa",
                  "2": "Sanok",
                  "3": "49.571731",
                  "4": "22.195892",
                  "5": "Brak indeksu",
                  "6": "2025-08-26 16:10:53"
                },
                {
                  "0": "17118",
                  "1": "Wysowa-Zdrój, Park Zdrojowy",
                  "2": "Uście Gorlickie Wysowa",
                  "3": "49.440175",
                  "4": "21.178087",
                  "5": "Brak indeksu",
                  "6": "2025-08-26 16:11:08"
                },
                {
                  "0": "17179",
                  "1": "Rzeszów, ul. Starzyńskiego",
                  "2": "Rzeszów",
                  "3": "50.060381",
                  "4": "21.980511",
                  "5": "Brak indeksu",
                  "6": "2025-08-26 16:10:53"
                },
                {
                  "0": "11303",
                  "1": "Kraków, os. Swoszowice",
                  "2": "Kraków",
                  "3": "49.991442",
                  "4": "19.936792",
                  "5": "Brak indeksu",
                  "6": "2025-08-26 16:11:08"
                },
                {
                  "0": "16270",
                  "1": "Bytów, ul. Miła",
                  "2": "Bytów",
                  "3": "54.172700",
                  "4": "17.492990",
                  "5": "Bardzo dobry",
                  "6": "2025-08-26 16:10:30"
                },
                {
                  "0": "16613",
                  "1": "Nowa Sól",
                  "2": "Nowa Sól",
                  "3": "51.809103",
                  "4": "15.708042",
                  "5": "Brak indeksu",
                  "6": "2025-08-26 16:15:24"
                },
                {
                  "0": "16894",
                  "1": "Nowy Targ, al. Tysiąclecia ",
                  "2": "Nowy Targ",
                  "3": "49.476675",
                  "4": "20.034878",
                  "5": "Brak indeksu",
                  "6": "2025-08-26 16:11:08"
                },
                {
                  "0": "20307",
                  "1": "Krotoszyn, ul. Olimpijska",
                  "2": "Krotoszyn",
                  "3": "51.697308",
                  "4": "17.441263",
                  "5": "Brak indeksu",
                  "6": "2025-08-26 16:12:13"
                },
                {
                  "0": "20387",
                  "1": "Nysa, ul. Rodziewiczówny 1",
                  "2": "Nysa",
                  "3": "50.460992",
                  "4": "17.331499",
                  "5": "Brak indeksu",
                  "6": "2025-08-26 16:15:20"
                },
                {
                  "0": "10817",
                  "1": "Złockie, szkoła podstawowa",
                  "2": "Złockie",
                  "3": "49.374147",
                  "4": "20.879581",
                  "5": "Brak indeksu",
                  "6": "2025-08-26 16:11:08"
                },
                {
                  "0": "11301",
                  "1": "Olkusz, ul. Cegielniana",
                  "2": "Olkusz",
                  "3": "50.284000",
                  "4": "19.564044",
                  "5": "Brak indeksu",
                  "6": "2025-08-26 16:11:08"
                },
                {
                  "0": "16497",
                  "1": "Kielce, ul. Jurajska",
                  "2": "Kielce",
                  "3": "50.887606",
                  "4": "20.579965",
                  "5": "Brak indeksu",
                  "6": "2025-08-26 16:16:13"
                }
              ],
              "schema": [
                {
                  "key": "0",
                  "name": "id",
                  "type": "bigint"
                },
                {
                  "key": "1",
                  "name": "stationName",
                  "type": "string"
                },
                {
                  "key": "2",
                  "name": "city",
                  "type": "string"
                },
                {
                  "key": "3",
                  "name": "latitude",
                  "type": "string"
                },
                {
                  "key": "4",
                  "name": "longitude",
                  "type": "string"
                },
                {
                  "key": "5",
                  "name": "AirQualityIndex",
                  "type": "string"
                },
                {
                  "key": "6",
                  "name": "measurementDate",
                  "type": "string"
                }
              ],
              "truncated": false
            },
            "isSummary": false,
            "language": "scala",
            "wranglerEntryContext": {
              "candidateVariableNames": [
                "final_df"
              ],
              "dataframeType": "pyspark"
            }
          },
          "persist_state": {
            "view": {
              "type": "details",
              "tableOptions": {},
              "chartOptions": {
                "chartType": "bar",
                "aggregationType": "sum",
                "categoryFieldKeys": [
                  "1"
                ],
                "seriesFieldKeys": [
                  "0"
                ],
                "isStacked": false
              }
            }
          }
        },
        "b9ffea38-6270-4738-ac64-c1a7f58513b8": {
          "type": "Synapse.DataFrame",
          "sync_state": {
            "table": {
              "rows": [
                {
                  "0": "11",
                  "1": "Czerniawa",
                  "2": "Czerniawa",
                  "3": "50.912475",
                  "4": "15.312190",
                  "5": "Dobry",
                  "6": "2025-08-26 16:10:37"
                },
                {
                  "0": "16",
                  "1": "Dzierżoniów, ul. Piłsudskiego",
                  "2": "Dzierżoniów",
                  "3": "50.732817",
                  "4": "16.648050",
                  "5": "Brak indeksu",
                  "6": "2025-08-26 16:10:37"
                },
                {
                  "0": "38",
                  "1": "Kłodzko, ul. Szkolna",
                  "2": "Kłodzko",
                  "3": "50.433493",
                  "4": "16.653660",
                  "5": "Dobry",
                  "6": "2025-08-26 16:10:37"
                },
                {
                  "0": "52",
                  "1": "Legnica, al. Rzeczypospolitej",
                  "2": "Legnica",
                  "3": "51.204503",
                  "4": "16.180513",
                  "5": "Dobry",
                  "6": "2025-08-26 16:10:37"
                },
                {
                  "0": "114",
                  "1": "Wrocław, ul. Bartnicza",
                  "2": "Wrocław",
                  "3": "51.115933",
                  "4": "17.141125",
                  "5": "Dobry",
                  "6": "2025-08-26 16:10:37"
                },
                {
                  "0": "117",
                  "1": "Wrocław, wyb. Conrada-Korzeniowskiego",
                  "2": "Wrocław",
                  "3": "51.129378",
                  "4": "17.029250",
                  "5": "Dobry",
                  "6": "2025-08-26 16:10:37"
                },
                {
                  "0": "129",
                  "1": "Wrocław, al. Wiśniowa",
                  "2": "Wrocław",
                  "3": "51.086225",
                  "4": "17.012689",
                  "5": "Brak indeksu",
                  "6": "2025-08-26 16:10:37"
                },
                {
                  "0": "143",
                  "1": "Inowrocław, ul. Solankowa",
                  "2": "Inowrocław",
                  "3": "52.793122",
                  "4": "18.241044",
                  "5": "Brak indeksu",
                  "6": "2025-08-26 15:36:08"
                },
                {
                  "0": "156",
                  "1": "Bydgoszcz, pl. Poznański",
                  "2": "Bydgoszcz",
                  "3": "53.121764",
                  "4": "17.987906",
                  "5": "Brak indeksu",
                  "6": "2025-08-26 15:36:08"
                },
                {
                  "0": "158",
                  "1": "Bydgoszcz, ul. Warszawska",
                  "2": "Bydgoszcz",
                  "3": "53.134083",
                  "4": "17.995708",
                  "5": "Dobry",
                  "6": "2025-08-26 15:36:08"
                },
                {
                  "0": "190",
                  "1": "Koniczynka, Pojezierze Chełmińskie",
                  "2": "Koniczynka",
                  "3": "53.080647",
                  "4": "18.684258",
                  "5": "Dobry",
                  "6": "2025-08-26 15:36:08"
                },
                {
                  "0": "206",
                  "1": "Toruń, ul. Dziewulskiego",
                  "2": "Toruń",
                  "3": "53.028647",
                  "4": "18.666103",
                  "5": "Dobry",
                  "6": "2025-08-26 15:36:08"
                },
                {
                  "0": "208",
                  "1": "Toruń, ul. Przy Kaszowniku",
                  "2": "Toruń",
                  "3": "53.017628",
                  "4": "18.612808",
                  "5": "Brak indeksu",
                  "6": "2025-08-26 15:36:08"
                },
                {
                  "0": "232",
                  "1": "Zielonka, Bory Tucholskie",
                  "2": "Zielonka",
                  "3": "53.662117",
                  "4": "17.934017",
                  "5": "Dobry",
                  "6": "2025-08-26 15:36:08"
                },
                {
                  "0": "266",
                  "1": "Lublin, ul. Obywatelska",
                  "2": "Lublin",
                  "3": "51.259431",
                  "4": "22.569133",
                  "5": "Dobry",
                  "6": "2025-08-26 16:11:02"
                },
                {
                  "0": "291",
                  "1": "Gajew, Ujęcie Wody",
                  "2": "Gajew",
                  "3": "52.143258",
                  "4": "19.233217",
                  "5": "Dobry",
                  "6": "2025-08-26 16:10:47"
                },
                {
                  "0": "295",
                  "1": "Łódź, ul. Czernika",
                  "2": "Łódź",
                  "3": "51.758050",
                  "4": "19.529786",
                  "5": "Dobry",
                  "6": "2025-08-26 16:10:47"
                },
                {
                  "0": "296",
                  "1": "Łódź, ul. Gdańska",
                  "2": "Łódź",
                  "3": "51.775378",
                  "4": "19.450992",
                  "5": "Brak indeksu",
                  "6": "2025-08-26 16:10:47"
                },
                {
                  "0": "314",
                  "1": "Pabianice, ul. Konstantynowska",
                  "2": "Pabianice",
                  "3": "51.667981",
                  "4": "19.368683",
                  "5": "Dobry",
                  "6": "2025-08-26 16:10:47"
                },
                {
                  "0": "319",
                  "1": "Parzniewice, Ujęcie Wody",
                  "2": "Parzniewice",
                  "3": "51.291175",
                  "4": "19.517556",
                  "5": "Dobry",
                  "6": "2025-08-26 16:10:47"
                },
                {
                  "0": "322",
                  "1": "Piotrków Trybunalski, ul. Krakowskie Przedmieście",
                  "2": "Piotrków Trybunalski",
                  "3": "51.404406",
                  "4": "19.696956",
                  "5": "Dobry",
                  "6": "2025-08-26 16:10:47"
                },
                {
                  "0": "361",
                  "1": "Gorzów Wlkp. ul. Kosynierów Gdyńskich",
                  "2": "Gorzów Wielkopolski",
                  "3": "52.738214",
                  "4": "15.228667",
                  "5": "Dobry",
                  "6": "2025-08-26 16:08:11"
                },
                {
                  "0": "376",
                  "1": "Sulęcin ul. Dudka",
                  "2": "Sulęcin",
                  "3": "52.437722",
                  "4": "15.122444",
                  "5": "Dobry",
                  "6": "2025-08-26 16:08:11"
                },
                {
                  "0": "379",
                  "1": "Wschowa ul. Kazimierza Wielkiego",
                  "2": "Wschowa",
                  "3": "51.799722",
                  "4": "16.317500",
                  "5": "Dobry",
                  "6": "2025-08-26 16:08:11"
                },
                {
                  "0": "400",
                  "1": "Kraków, Aleja Krasińskiego",
                  "2": "Kraków",
                  "3": "50.057678",
                  "4": "19.926189",
                  "5": "Dobry",
                  "6": "2025-08-26 16:11:08"
                },
                {
                  "0": "402",
                  "1": "Kraków, ul. Bulwarowa",
                  "2": "Kraków",
                  "3": "50.069308",
                  "4": "20.053492",
                  "5": "Brak indeksu",
                  "6": "2025-08-26 16:11:08"
                },
                {
                  "0": "437",
                  "1": "Skawina, os. Ogrody",
                  "2": "Skawina",
                  "3": "49.971047",
                  "4": "19.830422",
                  "5": "Dobry",
                  "6": "2025-08-26 16:11:08"
                },
                {
                  "0": "443",
                  "1": "Szymbark",
                  "2": "Szymbark",
                  "3": "49.633714",
                  "4": "21.116833",
                  "5": "Dobry",
                  "6": "2025-08-26 16:11:08"
                },
                {
                  "0": "444",
                  "1": "Tarnów, ul. Bitwy pod Studziankami",
                  "2": "Tarnów",
                  "3": "50.020169",
                  "4": "21.004167",
                  "5": "Dobry",
                  "6": "2025-08-26 16:11:08"
                },
                {
                  "0": "449",
                  "1": "Trzebinia, os. Związku Walki Młodych",
                  "2": "Trzebinia",
                  "3": "50.159406",
                  "4": "19.477464",
                  "5": "Brak indeksu",
                  "6": "2025-08-26 16:11:08"
                },
                {
                  "0": "488",
                  "1": "Piastów, ul. Pułaskiego",
                  "2": "Piastów",
                  "3": "52.191728",
                  "4": "20.837489",
                  "5": "Dobry",
                  "6": "2025-08-26 16:13:21"
                },
                {
                  "0": "501",
                  "1": "Płock, ul. Reja",
                  "2": "Płock",
                  "3": "52.550938",
                  "4": "19.709791",
                  "5": "Dobry",
                  "6": "2025-08-26 16:13:21"
                },
                {
                  "0": "515",
                  "1": "Radom, ul. Tochtermana",
                  "2": "Radom",
                  "3": "51.399084",
                  "4": "21.147474",
                  "5": "Dobry",
                  "6": "2025-08-26 16:13:21"
                },
                {
                  "0": "517",
                  "1": "Siedlce, ul. Konarskiego",
                  "2": "Siedlce",
                  "3": "52.172145",
                  "4": "22.282001",
                  "5": "Brak indeksu",
                  "6": "2025-08-26 16:13:21"
                },
                {
                  "0": "538",
                  "1": "Warszawa, ul. Tołstoja",
                  "2": "Warszawa",
                  "3": "52.285073",
                  "4": "20.933018",
                  "5": "Brak indeksu",
                  "6": "2025-08-26 16:13:21"
                },
                {
                  "0": "552",
                  "1": "Warszawa, ul. Kondratowicza",
                  "2": "Warszawa",
                  "3": "52.290864",
                  "4": "21.042458",
                  "5": "Dobry",
                  "6": "2025-08-26 16:13:21"
                },
                {
                  "0": "568",
                  "1": "Kędzierzyn-Koźle, ul. Śmiałego",
                  "2": "Kędzierzyn-Koźle",
                  "3": "50.349608",
                  "4": "18.236575",
                  "5": "Dobry",
                  "6": "2025-08-26 16:08:08"
                },
                {
                  "0": "725",
                  "1": "Słupsk, ul. Kniaziewicza",
                  "2": "Słupsk",
                  "3": "54.463611",
                  "4": "17.046722",
                  "5": "Bardzo dobry",
                  "6": "2025-08-26 16:10:30"
                },
                {
                  "0": "729",
                  "1": "Gdańsk, ul. Powstańców Warszawskich",
                  "2": "Gdańsk",
                  "3": "54.353196",
                  "4": "18.635267",
                  "5": "Bardzo dobry",
                  "6": "2025-08-26 16:10:30"
                },
                {
                  "0": "731",
                  "1": "Gdańsk, ul. Wyzwolenia",
                  "2": "Gdańsk",
                  "3": "54.400788",
                  "4": "18.657332",
                  "5": "Bardzo dobry",
                  "6": "2025-08-26 16:10:30"
                },
                {
                  "0": "736",
                  "1": "Gdańsk, ul. Leczkowa",
                  "2": "Gdańsk",
                  "3": "54.380139",
                  "4": "18.619766",
                  "5": "Bardzo dobry",
                  "6": "2025-08-26 16:10:30"
                },
                {
                  "0": "740",
                  "1": "Kościerzyna, ul. Targowa",
                  "2": "Kościerzyna",
                  "3": "54.120694",
                  "4": "17.975861",
                  "5": "Bardzo dobry",
                  "6": "2025-08-26 16:10:30"
                },
                {
                  "0": "743",
                  "1": "Liniewko Kościerskie",
                  "2": "Liniewko Kościerskie",
                  "3": "54.104111",
                  "4": "18.182972",
                  "5": "Dobry",
                  "6": "2025-08-26 16:10:30"
                },
                {
                  "0": "798",
                  "1": "Częstochowa, ul. AK/Jana Pawła II",
                  "2": "Częstochowa",
                  "3": "50.817217",
                  "4": "19.118997",
                  "5": "Brak indeksu",
                  "6": "2025-08-26 16:10:56"
                },
                {
                  "0": "800",
                  "1": "Częstochowa, ul. Baczyńskiego",
                  "2": "Częstochowa",
                  "3": "50.836389",
                  "4": "19.130111",
                  "5": "Dobry",
                  "6": "2025-08-26 16:10:56"
                },
                {
                  "0": "805",
                  "1": "Dąbrowa Górnicza, ul. Tysiąclecia",
                  "2": "Dąbrowa Górnicza",
                  "3": "50.329111",
                  "4": "19.231222",
                  "5": "Dobry",
                  "6": "2025-08-26 16:10:56"
                },
                {
                  "0": "834",
                  "1": "Rybnik, ul. Borki",
                  "2": "Rybnik",
                  "3": "50.111181",
                  "4": "18.516139",
                  "5": "Dobry",
                  "6": "2025-08-26 16:10:56"
                },
                {
                  "0": "837",
                  "1": "Sosnowiec, ul. Lubelska",
                  "2": "Sosnowiec",
                  "3": "50.285956",
                  "4": "19.184399",
                  "5": "Brak indeksu",
                  "6": "2025-08-26 16:10:56"
                },
                {
                  "0": "842",
                  "1": "Ustroń, ul. Sanatoryjna",
                  "2": "Ustroń",
                  "3": "49.719731",
                  "4": "18.826722",
                  "5": "Dobry",
                  "6": "2025-08-26 16:10:56"
                },
                {
                  "0": "845",
                  "1": "Wodzisław Śląski, ul. Gałczyńskiego",
                  "2": "Wodzisław Śląski",
                  "3": "50.007629",
                  "4": "18.455548",
                  "5": "Dobry",
                  "6": "2025-08-26 16:10:56"
                },
                {
                  "0": "853",
                  "1": "Złoty Potok, Leśniczówka",
                  "2": "Złoty Potok",
                  "3": "50.710889",
                  "4": "19.458797",
                  "5": "Dobry",
                  "6": "2025-08-26 16:10:56"
                },
                {
                  "0": "861",
                  "1": "Elbląg, ul. Bażyńskiego",
                  "2": "Elbląg",
                  "3": "54.167847",
                  "4": "19.410942",
                  "5": "Bardzo dobry",
                  "6": "2025-08-26 16:10:22"
                },
                {
                  "0": "870",
                  "1": "Gołdap, ul. Jaćwieska",
                  "2": "Gołdap",
                  "3": "54.305908",
                  "4": "22.307681",
                  "5": "Bardzo dobry",
                  "6": "2025-08-26 16:10:22"
                },
                {
                  "0": "877",
                  "1": "Olsztyn, ul. Puszkina",
                  "2": "Olsztyn",
                  "3": "53.789233",
                  "4": "20.486075",
                  "5": "Bardzo dobry",
                  "6": "2025-08-26 16:10:22"
                },
                {
                  "0": "902",
                  "1": "Konin, ul. Wyszyńskiego",
                  "2": "Konin",
                  "3": "52.225650",
                  "4": "18.268927",
                  "5": "Dobry",
                  "6": "2025-08-26 16:12:13"
                },
                {
                  "0": "944",
                  "1": "Poznań, ul. Dąbrowskiego",
                  "2": "Poznań",
                  "3": "52.420319",
                  "4": "16.877289",
                  "5": "Brak indeksu",
                  "6": "2025-08-26 16:12:13"
                },
                {
                  "0": "986",
                  "1": "Szczecin, ul. Andrzejewskiego",
                  "2": "Szczecin",
                  "3": "53.380975",
                  "4": "14.663347",
                  "5": "Dobry",
                  "6": "2025-08-26 16:12:13"
                },
                {
                  "0": "987",
                  "1": "Szczecin, ul. Piłsudskiego",
                  "2": "Szczecin",
                  "3": "53.432169",
                  "4": "14.553900",
                  "5": "Brak indeksu",
                  "6": "2025-08-26 16:12:13"
                },
                {
                  "0": "382",
                  "1": "Żary, ul. Szymanowskiego ",
                  "2": "Żary",
                  "3": "51.642656",
                  "4": "15.127808",
                  "5": "Dobry",
                  "6": "2025-08-26 16:08:11"
                },
                {
                  "0": "9153",
                  "1": "Jelenia Góra, ul. Ogińskiego",
                  "2": "Jelenia Góra",
                  "3": "50.913433",
                  "4": "15.765608",
                  "5": "Dobry",
                  "6": "2025-08-26 16:10:37"
                },
                {
                  "0": "600",
                  "1": "Zdzieszowice, ul. Piastów",
                  "2": "Zdzieszowice",
                  "3": "50.423533",
                  "4": "18.120739",
                  "5": "Brak indeksu",
                  "6": "2025-08-26 16:08:08"
                },
                {
                  "0": "952",
                  "1": "Kalisz, ul. Wyszyńskiego",
                  "2": "Kalisz",
                  "3": "51.747950",
                  "4": "18.049063",
                  "5": "Dobry",
                  "6": "2025-08-26 16:12:13"
                },
                {
                  "0": "236",
                  "1": "Biała Podlaska, ul. Orzechowa",
                  "2": "Biała Podlaska",
                  "3": "52.029194",
                  "4": "23.149389",
                  "5": "Bardzo dobry",
                  "6": "2025-08-26 16:11:02"
                },
                {
                  "0": "9791",
                  "1": "Włocławek, ul. Kaliska",
                  "2": "Włocławek",
                  "3": "52.637394",
                  "4": "19.044486",
                  "5": "Dobry",
                  "6": "2025-08-26 15:36:08"
                },
                {
                  "0": "10030",
                  "1": "Ostróda, ul. Piłsudskiego",
                  "2": "Ostróda",
                  "3": "53.694587",
                  "4": "19.969041",
                  "5": "Bardzo dobry",
                  "6": "2025-08-26 16:10:22"
                },
                {
                  "0": "10119",
                  "1": "Kaszów",
                  "2": "Kaszów",
                  "3": "50.025028",
                  "4": "19.726833",
                  "5": "Dobry",
                  "6": "2025-08-26 16:11:08"
                },
                {
                  "0": "950",
                  "1": "Borówiec, ul. Drapałka",
                  "2": "Borówiec",
                  "3": "52.276720",
                  "4": "17.074187",
                  "5": "Dobry",
                  "6": "2025-08-26 16:12:13"
                },
                {
                  "0": "10123",
                  "1": "Kraków, ul. Złoty Róg",
                  "2": "Kraków",
                  "3": "50.081197",
                  "4": "19.895358",
                  "5": "Dobry",
                  "6": "2025-08-26 16:11:08"
                },
                {
                  "0": "10438",
                  "1": "Mielec, ul. Biernackiego",
                  "2": "Mielec",
                  "3": "50.299128",
                  "4": "21.440942",
                  "5": "Dobry",
                  "6": "2025-08-26 16:10:53"
                },
                {
                  "0": "10447",
                  "1": "Kraków, os. Wadów",
                  "2": "Kraków",
                  "3": "50.100569",
                  "4": "20.122561",
                  "5": "Brak indeksu",
                  "6": "2025-08-26 16:11:08"
                },
                {
                  "0": "10794",
                  "1": "Małogoszcz, ul. Słoneczna",
                  "2": "Małogoszcz",
                  "3": "50.809610",
                  "4": "20.266032",
                  "5": "Brak indeksu",
                  "6": "2025-08-26 16:06:11"
                },
                {
                  "0": "10834",
                  "1": "Koziegłowy, os.Leśne",
                  "2": "Koziegłowy",
                  "3": "52.449295",
                  "4": "16.999634",
                  "5": "Brak indeksu",
                  "6": "2025-08-26 16:12:13"
                },
                {
                  "0": "225",
                  "1": "Włocławek, ul. Okrzei",
                  "2": "Włocławek",
                  "3": "52.658467",
                  "4": "19.059314",
                  "5": "Brak indeksu",
                  "6": "2025-08-26 15:36:08"
                },
                {
                  "0": "584",
                  "1": "Olesno, ul. Słowackiego",
                  "2": "Olesno",
                  "3": "50.876983",
                  "4": "18.416878",
                  "5": "Dobry",
                  "6": "2025-08-26 16:08:08"
                },
                {
                  "0": "11174",
                  "1": "Białystok, ul. 42 Pułku Piechoty",
                  "2": "Białystok",
                  "3": "53.144122",
                  "4": "23.216322",
                  "5": "Bardzo dobry",
                  "6": "2025-08-26 16:10:21"
                },
                {
                  "0": "11195",
                  "1": "Kielce, ul. Targowa",
                  "2": "Kielce",
                  "3": "50.878998",
                  "4": "20.633692",
                  "5": "Dobry",
                  "6": "2025-08-26 16:06:11"
                },
                {
                  "0": "11358",
                  "1": "Biała, ul. Kmicica",
                  "2": "Biała",
                  "3": "52.602534",
                  "4": "19.645100",
                  "5": "Brak indeksu",
                  "6": "2025-08-26 16:13:21"
                },
                {
                  "0": "10955",
                  "1": "Warszawa, ul. Chrościckiego",
                  "2": "Warszawa",
                  "3": "52.207742",
                  "4": "20.906073",
                  "5": "Dobry",
                  "6": "2025-08-26 16:13:21"
                },
                {
                  "0": "590",
                  "1": "Opole, os. Armii Krajowej",
                  "2": "Opole",
                  "3": "50.676856",
                  "4": "17.950278",
                  "5": "Dobry",
                  "6": "2025-08-26 16:15:20"
                },
                {
                  "0": "11336",
                  "1": "Koszalin, ul. Chopina",
                  "2": "Koszalin",
                  "3": "54.194114",
                  "4": "16.211672",
                  "5": "Dobry",
                  "6": "2025-08-26 16:12:13"
                },
                {
                  "0": "966",
                  "1": "Koszalin, ul. Armii Krajowej",
                  "2": "Koszalin",
                  "3": "54.193986",
                  "4": "16.172544",
                  "5": "Brak indeksu",
                  "6": "2025-08-26 16:12:13"
                },
                {
                  "0": "11554",
                  "1": "Łask, ul. Narutowicza",
                  "2": "Łask",
                  "3": "51.589208",
                  "4": "19.131433",
                  "5": "Brak indeksu",
                  "6": "2025-08-26 16:10:47"
                },
                {
                  "0": "11754",
                  "1": "Gołuchów, Ujęcie Wody",
                  "2": "Gołuchów",
                  "3": "50.621482",
                  "4": "20.614057",
                  "5": "Dobry",
                  "6": "2025-08-26 16:06:11"
                },
                {
                  "0": "11794",
                  "1": "Racibórz, Wojska Polskiego",
                  "2": "Racibórz",
                  "3": "50.091142",
                  "4": "18.216261",
                  "5": "Dobry",
                  "6": "2025-08-26 16:10:56"
                },
                {
                  "0": "10814",
                  "1": "Oświęcim, ul. J. Bema",
                  "2": "Oświęcim",
                  "3": "50.033083",
                  "4": "19.245275",
                  "5": "Brak indeksu",
                  "6": "2025-08-26 16:11:08"
                },
                {
                  "0": "11814",
                  "1": "Białystok, al.Piłsudskiego",
                  "2": "Białystok",
                  "3": "53.135286",
                  "4": "23.161325",
                  "5": "Bardzo dobry",
                  "6": "2025-08-26 16:10:21"
                },
                {
                  "0": "11916",
                  "1": "Augustów, Uzdrowisko",
                  "2": "Augustów",
                  "3": "53.852550",
                  "4": "22.984686",
                  "5": "Bardzo dobry",
                  "6": "2025-08-26 16:10:21"
                },
                {
                  "0": "9798",
                  "1": "Nakło nad Notecią, ul. Św. Wawrzyńca",
                  "2": "Nakło nad Notecią",
                  "3": "53.136681",
                  "4": "17.591539",
                  "5": "Brak indeksu",
                  "6": "2025-08-26 16:15:41"
                },
                {
                  "0": "10374",
                  "1": "Opole, ul. Koszyka",
                  "2": "Opole",
                  "3": "50.666736",
                  "4": "17.899137",
                  "5": "Brak indeksu",
                  "6": "2025-08-26 16:15:20"
                },
                {
                  "0": "16196",
                  "1": "Kielce, ul. Warszawska 108",
                  "2": "Kielce",
                  "3": "50.886014",
                  "4": "20.642858",
                  "5": "Brak indeksu",
                  "6": "2025-08-26 16:06:11"
                },
                {
                  "0": "16180",
                  "1": "Gdańsk, Al. Grunwaldzka",
                  "2": "Gdańsk",
                  "3": "54.380682",
                  "4": "18.601559",
                  "5": "Dobry",
                  "6": "2025-08-26 16:10:30"
                },
                {
                  "0": "16242",
                  "1": "Sopot, ul. Bitwy Pod Płowcami",
                  "2": "Sopot",
                  "3": "54.434510",
                  "4": "18.578840",
                  "5": "Bardzo dobry",
                  "6": "2025-08-26 16:10:30"
                },
                {
                  "0": "10018",
                  "1": "Głubczyce, ul. Ratuszowa",
                  "2": "Głubczyce",
                  "3": "50.200778",
                  "4": "17.830510",
                  "5": "Brak indeksu",
                  "6": "2025-08-26 16:15:20"
                },
                {
                  "0": "16413",
                  "1": "Brzeg, ul. Poprzeczna",
                  "2": "Brzeg",
                  "3": "50.849509",
                  "4": "17.462579",
                  "5": "Brak indeksu",
                  "6": "2025-08-26 16:15:20"
                },
                {
                  "0": "882",
                  "1": "Diabla Góra, Puszcza Borecka",
                  "2": "Diabla Góra",
                  "3": "54.124819",
                  "4": "22.038056",
                  "5": "Bardzo dobry",
                  "6": "2025-08-26 16:10:22"
                },
                {
                  "0": "10005",
                  "1": "Ełk, ul. Piłsudskiego",
                  "2": "Ełk",
                  "3": "53.828389",
                  "4": "22.348338",
                  "5": "Bardzo dobry",
                  "6": "2025-08-26 16:10:22"
                },
                {
                  "0": "16896",
                  "1": "Kraków, ul. Kamieńskiego",
                  "2": "Kraków",
                  "3": "50.024605",
                  "4": "19.978460",
                  "5": "Dobry",
                  "6": "2025-08-26 16:11:08"
                },
                {
                  "0": "17318",
                  "1": "Katowice, ul. Dudy-Gracza",
                  "2": "Katowice",
                  "3": "50.258483",
                  "4": "19.036217",
                  "5": "Dobry",
                  "6": "2025-08-26 16:10:56"
                },
                {
                  "0": "17880",
                  "1": "Zabrze, ul. M. Skłodowskiej-Curie",
                  "2": "Zabrze",
                  "3": "50.317072",
                  "4": "18.771258",
                  "5": "Dobry",
                  "6": "2025-08-26 16:10:56"
                },
                {
                  "0": "20367",
                  "1": "Kraków, ul. Półłanki",
                  "2": "Kraków",
                  "3": "50.034702",
                  "4": "20.044386",
                  "5": "Dobry",
                  "6": "2025-08-26 16:11:08"
                },
                {
                  "0": "9114",
                  "1": "Ostrołęka, ul. Hallera",
                  "2": "Ostrołęka",
                  "3": "53.083736",
                  "4": "21.579322",
                  "5": "Dobry",
                  "6": "2025-08-26 16:13:21"
                },
                {
                  "0": "70",
                  "1": "Oława, ul. Żołnierzy Armii Krajowej",
                  "2": "Oława",
                  "3": "50.942073",
                  "4": "17.291333",
                  "5": "Dobry",
                  "6": "2025-08-26 16:10:37"
                },
                {
                  "0": "74",
                  "1": "Osieczów",
                  "2": "Osieczów",
                  "3": "51.317630",
                  "4": "15.431719",
                  "5": "Dobry",
                  "6": "2025-08-26 16:10:37"
                },
                {
                  "0": "109",
                  "1": "Wałbrzych, ul. Wysockiego",
                  "2": "Wałbrzych",
                  "3": "50.768729",
                  "4": "16.269677",
                  "5": "Dobry",
                  "6": "2025-08-26 16:10:37"
                },
                {
                  "0": "145",
                  "1": "Toruń, ul. Wały gen. Sikorskiego",
                  "2": "Toruń",
                  "3": "53.012475",
                  "4": "18.605681",
                  "5": "Dobry",
                  "6": "2025-08-26 16:15:41"
                },
                {
                  "0": "285",
                  "1": "Zamość, ul. Hrubieszowska",
                  "2": "Zamość",
                  "3": "50.716628",
                  "4": "23.290247",
                  "5": "Brak indeksu",
                  "6": "2025-08-26 16:11:02"
                },
                {
                  "0": "374",
                  "1": "Smolary Bytnickie",
                  "2": "Smolary Bytnickie",
                  "3": "52.172222",
                  "4": "15.206667",
                  "5": "Dobry",
                  "6": "2025-08-26 16:15:24"
                },
                {
                  "0": "387",
                  "1": "Zielona Góra ul. Krótka",
                  "2": "Zielona Góra",
                  "3": "51.939783",
                  "4": "15.518861",
                  "5": "Dobry",
                  "6": "2025-08-26 16:15:24"
                },
                {
                  "0": "401",
                  "1": "Kraków, ul. Bujaka",
                  "2": "Kraków",
                  "3": "50.010575",
                  "4": "19.949189",
                  "5": "Dobry",
                  "6": "2025-08-26 16:11:08"
                },
                {
                  "0": "426",
                  "1": "Nowy Sącz, ul. Nadbrzeżna",
                  "2": "Nowy Sącz",
                  "3": "49.619281",
                  "4": "20.714403",
                  "5": "Brak indeksu",
                  "6": "2025-08-26 16:11:08"
                },
                {
                  "0": "459",
                  "1": "Zakopane, ul. Sienkiewicza",
                  "2": "Zakopane",
                  "3": "49.293564",
                  "4": "19.960083",
                  "5": "Dobry",
                  "6": "2025-08-26 16:11:08"
                },
                {
                  "0": "460",
                  "1": "Belsk Duży, IGF PAN",
                  "2": "Belsk Duży",
                  "3": "51.835242",
                  "4": "20.791912",
                  "5": "Dobry",
                  "6": "2025-08-26 16:13:21"
                },
                {
                  "0": "471",
                  "1": "Legionowo, ul. Zegrzyńska",
                  "2": "Legionowo",
                  "3": "52.407578",
                  "4": "20.955928",
                  "5": "Dobry",
                  "6": "2025-08-26 16:13:21"
                },
                {
                  "0": "497",
                  "1": "Płock, ul. Królowej Jadwigi",
                  "2": "Płock",
                  "3": "52.556279",
                  "4": "19.687672",
                  "5": "Brak indeksu",
                  "6": "2025-08-26 16:13:21"
                },
                {
                  "0": "530",
                  "1": "Warszawa, al. Niepodległości",
                  "2": "Warszawa",
                  "3": "52.219298",
                  "4": "21.004724",
                  "5": "Brak indeksu",
                  "6": "2025-08-26 16:13:21"
                },
                {
                  "0": "638",
                  "1": "Jaslo, ul. Sikorskiego",
                  "2": "Jasło",
                  "3": "49.744886",
                  "4": "21.454617",
                  "5": "Dobry",
                  "6": "2025-08-26 16:10:53"
                },
                {
                  "0": "659",
                  "1": "Nisko, ul. Szklarniowa",
                  "2": "Nisko",
                  "3": "50.529892",
                  "4": "22.112467",
                  "5": "Dobry",
                  "6": "2025-08-26 16:10:53"
                },
                {
                  "0": "732",
                  "1": "Gdynia, ul. Porębskiego",
                  "2": "Gdynia",
                  "3": "54.560836",
                  "4": "18.493331",
                  "5": "Bardzo dobry",
                  "6": "2025-08-26 16:10:30"
                },
                {
                  "0": "769",
                  "1": "Nowiny, ul. Parkowa",
                  "2": "Nowiny",
                  "3": "50.823108",
                  "4": "20.533506",
                  "5": "Dobry",
                  "6": "2025-08-26 16:06:11"
                },
                {
                  "0": "778",
                  "1": "Połaniec, ul. Ruszczańska",
                  "2": "Połaniec",
                  "3": "50.429014",
                  "4": "21.277367",
                  "5": "Brak indeksu",
                  "6": "2025-08-26 16:06:11"
                },
                {
                  "0": "789",
                  "1": "Bielsko-Biała, ul. Kossak-Szczuckiej",
                  "2": "Bielsko-Biała",
                  "3": "49.813464",
                  "4": "19.027318",
                  "5": "Dobry",
                  "6": "2025-08-26 16:10:56"
                },
                {
                  "0": "809",
                  "1": "Gliwice, ul. Mewy",
                  "2": "Gliwice",
                  "3": "50.279481",
                  "4": "18.655736",
                  "5": "Brak indeksu",
                  "6": "2025-08-26 16:10:56"
                },
                {
                  "0": "814",
                  "1": "Katowice, ul. Kossutha",
                  "2": "Katowice",
                  "3": "50.264611",
                  "4": "18.975028",
                  "5": "Dobry",
                  "6": "2025-08-26 16:10:56"
                },
                {
                  "0": "841",
                  "1": "Tychy, ul. Tołstoja",
                  "2": "Tychy",
                  "3": "50.099903",
                  "4": "18.990236",
                  "5": "Brak indeksu",
                  "6": "2025-08-26 16:10:56"
                },
                {
                  "0": "920",
                  "1": "Pila, ul. Kusocińskiego",
                  "2": "Piła",
                  "3": "53.154408",
                  "4": "16.759572",
                  "5": "Brak indeksu",
                  "6": "2025-08-26 16:12:13"
                },
                {
                  "0": "983",
                  "1": "Szczecinek, ul. Przemysłowa",
                  "2": "Szczecinek",
                  "3": "53.698902",
                  "4": "16.704556",
                  "5": "Brak indeksu",
                  "6": "2025-08-26 16:12:13"
                },
                {
                  "0": "9179",
                  "1": "Szarów, ul. Spokojna",
                  "2": "Szarów",
                  "3": "50.007500",
                  "4": "20.259167",
                  "5": "Dobry",
                  "6": "2025-08-26 16:11:08"
                },
                {
                  "0": "9913",
                  "1": "Guty Duże",
                  "2": "Guty Duże",
                  "3": "52.943172",
                  "4": "21.288167",
                  "5": "Dobry",
                  "6": "2025-08-26 16:13:21"
                },
                {
                  "0": "485",
                  "1": "Otwock, ul. Brzozowa",
                  "2": "Otwock",
                  "3": "52.115725",
                  "4": "21.237297",
                  "5": "Dobry",
                  "6": "2025-08-26 16:13:21"
                },
                {
                  "0": "10058",
                  "1": "Łódź, al. Jana Pawła II",
                  "2": "Łódź",
                  "3": "51.754613",
                  "4": "19.434925",
                  "5": "Brak indeksu",
                  "6": "2025-08-26 16:10:47"
                },
                {
                  "0": "10125",
                  "1": "Rzeszów, ul. Piłsudskiego",
                  "2": "Rzeszów",
                  "3": "50.040675",
                  "4": "22.004656",
                  "5": "Brak indeksu",
                  "6": "2025-08-26 16:10:53"
                },
                {
                  "0": "10093",
                  "1": "Duszniki-Zdrój, ul. Sportowa",
                  "2": "Duszniki-Zdrój",
                  "3": "50.402561",
                  "4": "16.393311",
                  "5": "Brak indeksu",
                  "6": "2025-08-26 16:10:37"
                },
                {
                  "0": "10120",
                  "1": "Tarnów, ul. Ks. Romana Sitko",
                  "2": "Tarnów",
                  "3": "50.018253",
                  "4": "20.992578",
                  "5": "Brak indeksu",
                  "6": "2025-08-26 16:11:08"
                },
                {
                  "0": "10158",
                  "1": "Bielsko-Biała, ul.Partyzantów",
                  "2": "Bielsko-Biała",
                  "3": "49.802075",
                  "4": "19.048610",
                  "5": "Brak indeksu",
                  "6": "2025-08-26 16:10:56"
                },
                {
                  "0": "331",
                  "1": "Radomsko, ul. Rolna",
                  "2": "Radomsko",
                  "3": "51.067417",
                  "4": "19.448714",
                  "5": "Dobry",
                  "6": "2025-08-26 16:10:47"
                },
                {
                  "0": "10956",
                  "1": "Warszawa, ul. Bajkowa",
                  "2": "Warszawa",
                  "3": "52.188474",
                  "4": "21.176233",
                  "5": "Brak indeksu",
                  "6": "2025-08-26 16:13:21"
                },
                {
                  "0": "612",
                  "1": "Borsukowizna, Szkółka Leśna",
                  "2": "Borsukowizna",
                  "3": "53.215492",
                  "4": "23.642153",
                  "5": "Bardzo dobry",
                  "6": "2025-08-26 16:10:21"
                },
                {
                  "0": "11154",
                  "1": "Suwałki, ul. Pułaskiego 26",
                  "2": "Suwałki",
                  "3": "54.115897",
                  "4": "22.938464",
                  "5": "Bardzo dobry",
                  "6": "2025-08-26 16:10:21"
                },
                {
                  "0": "631",
                  "1": "Jarosław, ul. Pruchnicka",
                  "2": "Jarosław",
                  "3": "50.012083",
                  "4": "22.674772",
                  "5": "Brak indeksu",
                  "6": "2025-08-26 16:10:53"
                },
                {
                  "0": "11457",
                  "1": "Goczałkowice Zdrój, ul. Parkowa",
                  "2": "Goczałkowice-Zdrój",
                  "3": "49.937850",
                  "4": "18.975594",
                  "5": "Dobry",
                  "6": "2025-08-26 16:10:56"
                },
                {
                  "0": "11576",
                  "1": "Bydgoszcz, ul. Jeździecka",
                  "2": "Bydgoszcz",
                  "3": "53.175214",
                  "4": "18.044164",
                  "5": "Dobry",
                  "6": "2025-08-26 16:15:41"
                },
                {
                  "0": "11616",
                  "1": "Kutno, ul. 1 Maja",
                  "2": "Kutno",
                  "3": "52.231908",
                  "4": "19.353689",
                  "5": "Brak indeksu",
                  "6": "2025-08-26 16:10:47"
                },
                {
                  "0": "11934",
                  "1": "Trzebnica, ul. 3 Maja",
                  "2": "Trzebnica",
                  "3": "51.304817",
                  "4": "17.071367",
                  "5": "Dobry",
                  "6": "2025-08-26 16:10:37"
                },
                {
                  "0": "12038",
                  "1": "Świecie, al. Jana Pawła II",
                  "2": "Świecie",
                  "3": "53.407580",
                  "4": "18.428751",
                  "5": "Brak indeksu",
                  "6": "2025-08-26 16:15:41"
                },
                {
                  "0": "9218",
                  "1": "Pleszew, Al. Mickiewicza",
                  "2": "Pleszew",
                  "3": "51.884922",
                  "4": "17.791106",
                  "5": "Brak indeksu",
                  "6": "2025-08-26 16:12:13"
                },
                {
                  "0": "742",
                  "1": "Lębork, ul. Malczewskiego",
                  "2": "Lębork",
                  "3": "54.546167",
                  "4": "17.746194",
                  "5": "Dobry",
                  "6": "2025-08-26 16:10:30"
                },
                {
                  "0": "16238",
                  "1": "Sulechów, ul. Licealna",
                  "2": "Sulechów",
                  "3": "52.084833",
                  "4": "15.633250",
                  "5": "Brak indeksu",
                  "6": "2025-08-26 16:15:24"
                },
                {
                  "0": "684",
                  "1": "Tarnobrzeg, ul. Dąbrowskiej",
                  "2": "Tarnobrzeg",
                  "3": "50.575742",
                  "4": "21.688367",
                  "5": "Brak indeksu",
                  "6": "2025-08-26 16:10:53"
                },
                {
                  "0": "16493",
                  "1": "Poznań ul. Szwajcarska",
                  "2": "Poznań",
                  "3": "52.390879",
                  "4": "16.998053",
                  "5": "Dobry",
                  "6": "2025-08-26 16:12:13"
                },
                {
                  "0": "17658",
                  "1": "Białystok, ul. Upalna",
                  "2": "Białystok",
                  "3": "53.129601",
                  "4": "23.108054",
                  "5": "Bardzo dobry",
                  "6": "2025-08-26 16:10:21"
                },
                {
                  "0": "10934",
                  "1": "Kołobrzeg, ul. Żółkiewskiego",
                  "2": "Kołobrzeg",
                  "3": "54.179381",
                  "4": "15.596347",
                  "5": "Brak indeksu",
                  "6": "2025-08-26 16:12:13"
                },
                {
                  "0": "17758",
                  "1": "Skarżysko-Kamienna, ul. 1 Maja",
                  "2": "Skarżysko-Kamienna",
                  "3": "51.115842",
                  "4": "20.891593",
                  "5": "Brak indeksu",
                  "6": "2025-08-26 16:16:13"
                },
                {
                  "0": "785",
                  "1": "Starachowice, ul. Złota",
                  "2": "Starachowice",
                  "3": "51.050611",
                  "4": "21.084175",
                  "5": "Brak indeksu",
                  "6": "2025-08-26 16:16:13"
                },
                {
                  "0": "20201",
                  "1": "Rzeszów, ul. Kwiatkowskiego",
                  "2": "Rzeszów",
                  "3": "49.998408",
                  "4": "21.992183",
                  "5": "Brak indeksu",
                  "6": "2025-08-26 16:10:53"
                },
                {
                  "0": "20209",
                  "1": "Ciechanów, ul. Kraszewskiego",
                  "2": "Ciechanów",
                  "3": "52.885541",
                  "4": "20.602511",
                  "5": "Brak indeksu",
                  "6": "2025-08-26 16:13:21"
                },
                {
                  "0": "20277",
                  "1": "Tomaszów Lubelski, ul. Janusza Petera",
                  "2": "Tomaszów Lubelski",
                  "3": "50.444128",
                  "4": "23.421553",
                  "5": "Brak indeksu",
                  "6": "2025-08-26 16:11:02"
                },
                {
                  "0": "20347",
                  "1": "Gdańsk, ul. Lawendowe Wzgórze",
                  "2": "Gdańsk",
                  "3": "54.328833",
                  "4": "18.568819",
                  "5": "Bardzo dobry",
                  "6": "2025-08-26 16:10:30"
                },
                {
                  "0": "20468",
                  "1": "Lubań, ul. Ludowa",
                  "2": "Lubań",
                  "3": "51.120091",
                  "4": "15.298189",
                  "5": "Brak indeksu",
                  "6": "2025-08-26 16:10:37"
                },
                {
                  "0": "961",
                  "1": "Widuchowa",
                  "2": "Widuchowa",
                  "3": "53.122325",
                  "4": "14.382245",
                  "5": "Dobry",
                  "6": "2025-08-26 16:12:13"
                },
                {
                  "0": "142",
                  "1": "Grudziądz, ul. Piłsudskiego",
                  "2": "Grudziądz",
                  "3": "53.493550",
                  "4": "18.762139",
                  "5": "Brak indeksu",
                  "6": "2025-08-26 16:15:41"
                },
                {
                  "0": "741",
                  "1": "Malbork, ul. Mickiewicza",
                  "2": "Malbork",
                  "3": "54.031247",
                  "4": "19.032899",
                  "5": "Bardzo dobry",
                  "6": "2025-08-26 16:10:30"
                },
                {
                  "0": "946",
                  "1": "Piaski, Krzyżówka",
                  "2": "Krzyżówka",
                  "3": "52.501318",
                  "4": "17.773175",
                  "5": "Dobry",
                  "6": "2025-08-26 16:12:13"
                },
                {
                  "0": "9175",
                  "1": "Krempna, Ośrodek edukacyjno-muzealny MPN",
                  "2": "Krempna",
                  "3": "49.511297",
                  "4": "21.498606",
                  "5": "Dobry",
                  "6": "2025-08-26 16:10:53"
                },
                {
                  "0": "856",
                  "1": "Żywiec, ul. Kopernika",
                  "2": "Żywiec",
                  "3": "49.671602",
                  "4": "19.234446",
                  "5": "Dobry",
                  "6": "2025-08-26 16:10:56"
                },
                {
                  "0": "11855",
                  "1": "Jastrzębie-Zdrój, Al.J.Piłsudskiego/Harcerska",
                  "2": "Jastrzębie-Zdrój",
                  "3": "49.952544",
                  "4": "18.607953",
                  "5": "Dostateczny",
                  "6": "2025-08-26 16:10:56"
                },
                {
                  "0": "16271",
                  "1": "Konstancin-Jeziorna, ul. Żeromskiego",
                  "2": "Konstancin-Jeziorna",
                  "3": "52.082277",
                  "4": "21.124598",
                  "5": "Brak indeksu",
                  "6": "2025-08-26 16:13:21"
                },
                {
                  "0": "16495",
                  "1": "Mosina, ul. Czereśniowa",
                  "2": "Mosina",
                  "3": "52.241497",
                  "4": "16.865125",
                  "5": "Brak indeksu",
                  "6": "2025-08-26 16:12:13"
                },
                {
                  "0": "16533",
                  "1": "Warszawa, IMGW",
                  "2": "Warszawa",
                  "3": "52.281304",
                  "4": "20.963383",
                  "5": "Bardzo dobry",
                  "6": "2025-08-26 16:13:21"
                },
                {
                  "0": "16913",
                  "1": "Krapkowice, ul. 3 Maja",
                  "2": "Krapkowice",
                  "3": "50.486194",
                  "4": "17.974770",
                  "5": "Brak indeksu",
                  "6": "2025-08-26 16:15:20"
                },
                {
                  "0": "20200",
                  "1": "Kolbuszowa, ul. Jana Pawła II",
                  "2": "Kolbuszowa",
                  "3": "50.245897",
                  "4": "21.769494",
                  "5": "Brak indeksu",
                  "6": "2025-08-26 16:10:53"
                },
                {
                  "0": "20488",
                  "1": "Warszawa, al. Solidarności",
                  "2": "Warszawa",
                  "3": "52.243573",
                  "4": "20.999214",
                  "5": "Brak indeksu",
                  "6": "2025-08-26 16:13:21"
                },
                {
                  "0": "248",
                  "1": "Jarczew, IMGW",
                  "2": "Jarczew",
                  "3": "51.814367",
                  "4": "21.972375",
                  "5": "Dobry",
                  "6": "2025-08-26 16:11:02"
                },
                {
                  "0": "282",
                  "1": "Wilczopole",
                  "2": "Wilczopole",
                  "3": "51.163542",
                  "4": "22.598608",
                  "5": "Dobry",
                  "6": "2025-08-26 16:11:02"
                },
                {
                  "0": "665",
                  "1": "Przemyśl, ul. Grunwaldzka",
                  "2": "Przemyśl",
                  "3": "49.784339",
                  "4": "22.756239",
                  "5": "Dobry",
                  "6": "2025-08-26 16:10:53"
                },
                {
                  "0": "671",
                  "1": "Rzeszów, ul. Rejtana",
                  "2": "Rzeszów",
                  "3": "50.024242",
                  "4": "22.010575",
                  "5": "Dobry",
                  "6": "2025-08-26 16:10:53"
                },
                {
                  "0": "10139",
                  "1": "Kraków, os. Piastów",
                  "2": "Kraków",
                  "3": "50.098508",
                  "4": "20.018269",
                  "5": "Brak indeksu",
                  "6": "2025-08-26 16:11:08"
                },
                {
                  "0": "10414",
                  "1": "Rymanów Zdrój, ul. Parkowa",
                  "2": "Rymanów-Zdrój",
                  "3": "49.546539",
                  "4": "21.851006",
                  "5": "Brak indeksu",
                  "6": "2025-08-26 16:10:53"
                },
                {
                  "0": "10874",
                  "1": "Florianka, RPN",
                  "2": "Florianka",
                  "3": "50.551894",
                  "4": "22.982861",
                  "5": "Dobry",
                  "6": "2025-08-26 16:11:02"
                },
                {
                  "0": "12056",
                  "1": "Chojnów, ul. S. Małachowskiego ",
                  "2": "Chojnów",
                  "3": "51.274280",
                  "4": "15.929804",
                  "5": "Dobry",
                  "6": "2025-08-26 16:10:37"
                },
                {
                  "0": "12138",
                  "1": "Łagów, ul. Zapłotnia",
                  "2": "Łagów",
                  "3": "50.778479",
                  "4": "21.081224",
                  "5": "Brak indeksu",
                  "6": "2025-08-26 16:16:13"
                },
                {
                  "0": "20160",
                  "1": "Świnoujście, ul. Białoruska",
                  "2": "Świnoujście",
                  "3": "53.903814",
                  "4": "14.279628",
                  "5": "Brak indeksu",
                  "6": "2025-08-26 16:12:13"
                },
                {
                  "0": "20447",
                  "1": "Giżycko, ul. Wodociągowa",
                  "2": "Giżycko",
                  "3": "54.043210",
                  "4": "21.784858",
                  "5": "Bardzo dobry",
                  "6": "2025-08-26 16:10:22"
                },
                {
                  "0": "20487",
                  "1": "Warszawa, ul. Grochowska",
                  "2": "Warszawa",
                  "3": "52.245704",
                  "4": "21.080427",
                  "5": "Brak indeksu",
                  "6": "2025-08-26 16:13:21"
                },
                {
                  "0": "618",
                  "1": "Łomża, ul. Sikorskiego",
                  "2": "Łomża",
                  "3": "53.181394",
                  "4": "22.054381",
                  "5": "Bardzo dobry",
                  "6": "2025-08-26 16:10:21"
                },
                {
                  "0": "750",
                  "1": "Łeba, IMGW",
                  "2": "Łeba",
                  "3": "54.754139",
                  "4": "17.534528",
                  "5": "Dobry",
                  "6": "2025-08-26 16:10:30"
                },
                {
                  "0": "989",
                  "1": "Szczecin, ul. Łączna",
                  "2": "Szczecin",
                  "3": "53.470889",
                  "4": "14.556250",
                  "5": "Dobry",
                  "6": "2025-08-26 16:12:13"
                },
                {
                  "0": "10124",
                  "1": "Sucha Beskidzka, ul. Nieszczyńskiej",
                  "2": "Sucha Beskidzka",
                  "3": "49.743131",
                  "4": "19.600339",
                  "5": "Brak indeksu",
                  "6": "2025-08-26 16:11:08"
                },
                {
                  "0": "609",
                  "1": "Białystok, ul. Warszawska",
                  "2": "Białystok",
                  "3": "53.129306",
                  "4": "23.181744",
                  "5": "Bardzo dobry",
                  "6": "2025-08-26 16:10:21"
                },
                {
                  "0": "9173",
                  "1": "Dębica, ul.Grottgera",
                  "2": "Dębica",
                  "3": "50.054786",
                  "4": "21.416256",
                  "5": "Brak indeksu",
                  "6": "2025-08-26 16:10:53"
                },
                {
                  "0": "646",
                  "1": "Krosno, ul. Kletówki",
                  "2": "Krosno",
                  "3": "49.690169",
                  "4": "21.749700",
                  "5": "Brak indeksu",
                  "6": "2025-08-26 16:10:53"
                },
                {
                  "0": "455",
                  "1": "Niepołomice, ul. 3 Maja",
                  "2": "Niepołomice",
                  "3": "50.035117",
                  "4": "20.212689",
                  "5": "Brak indeksu",
                  "6": "2025-08-26 16:11:08"
                },
                {
                  "0": "16753",
                  "1": "Myślenice",
                  "2": "Myślenice",
                  "3": "49.831237",
                  "4": "19.923591",
                  "5": "Brak indeksu",
                  "6": "2025-08-26 16:11:08"
                },
                {
                  "0": "20140",
                  "1": "Wysokie Mazowieckie, ul. 1 Maja",
                  "2": "Wysokie Mazowieckie",
                  "3": "52.913878",
                  "4": "22.509275",
                  "5": "Bardzo dobry",
                  "6": "2025-08-26 16:10:21"
                },
                {
                  "0": "466",
                  "1": "Granica, KPN",
                  "2": "Granica",
                  "3": "52.285858",
                  "4": "20.454653",
                  "5": "Dobry",
                  "6": "2025-08-26 16:13:21"
                },
                {
                  "0": "11254",
                  "1": "Nowa Ruda, ul. Jeziorna",
                  "2": "Nowa Ruda",
                  "3": "50.581492",
                  "4": "16.498245",
                  "5": "Brak indeksu",
                  "6": "2025-08-26 16:10:37"
                },
                {
                  "0": "11360",
                  "1": "Chełm, ul. Połaniecka",
                  "2": "Chełm",
                  "3": "51.122147",
                  "4": "23.473075",
                  "5": "Brak indeksu",
                  "6": "2025-08-26 16:11:02"
                },
                {
                  "0": "11278",
                  "1": "Lubliniec, ul. ks. Szymały",
                  "2": "Lubliniec",
                  "3": "50.675693",
                  "4": "18.682065",
                  "5": "Brak indeksu",
                  "6": "2025-08-26 16:10:56"
                },
                {
                  "0": "10446",
                  "1": "Rabka-Zdrój, ul. Orkana",
                  "2": "Rabka-Zdrój",
                  "3": "49.608647",
                  "4": "19.966008",
                  "5": "Brak indeksu",
                  "6": "2025-08-26 16:11:08"
                },
                {
                  "0": "11434",
                  "1": "Zabierzów, ul. Wapienna",
                  "2": "Zabierzów",
                  "3": "50.116028",
                  "4": "19.800639",
                  "5": "Brak indeksu",
                  "6": "2025-08-26 16:11:08"
                },
                {
                  "0": "16406",
                  "1": "Cieszyn, ul. Chopina",
                  "2": "Cieszyn",
                  "3": "49.755989",
                  "4": "18.634075",
                  "5": "Dobry",
                  "6": "2025-08-26 16:10:56"
                },
                {
                  "0": "678",
                  "1": "Sanok, ul. Sadowa",
                  "2": "Sanok",
                  "3": "49.571731",
                  "4": "22.195892",
                  "5": "Brak indeksu",
                  "6": "2025-08-26 16:10:53"
                },
                {
                  "0": "17118",
                  "1": "Wysowa-Zdrój, Park Zdrojowy",
                  "2": "Uście Gorlickie Wysowa",
                  "3": "49.440175",
                  "4": "21.178087",
                  "5": "Brak indeksu",
                  "6": "2025-08-26 16:11:08"
                },
                {
                  "0": "17179",
                  "1": "Rzeszów, ul. Starzyńskiego",
                  "2": "Rzeszów",
                  "3": "50.060381",
                  "4": "21.980511",
                  "5": "Brak indeksu",
                  "6": "2025-08-26 16:10:53"
                },
                {
                  "0": "11303",
                  "1": "Kraków, os. Swoszowice",
                  "2": "Kraków",
                  "3": "49.991442",
                  "4": "19.936792",
                  "5": "Brak indeksu",
                  "6": "2025-08-26 16:11:08"
                },
                {
                  "0": "16270",
                  "1": "Bytów, ul. Miła",
                  "2": "Bytów",
                  "3": "54.172700",
                  "4": "17.492990",
                  "5": "Bardzo dobry",
                  "6": "2025-08-26 16:10:30"
                },
                {
                  "0": "16613",
                  "1": "Nowa Sól",
                  "2": "Nowa Sól",
                  "3": "51.809103",
                  "4": "15.708042",
                  "5": "Brak indeksu",
                  "6": "2025-08-26 16:15:24"
                },
                {
                  "0": "16894",
                  "1": "Nowy Targ, al. Tysiąclecia ",
                  "2": "Nowy Targ",
                  "3": "49.476675",
                  "4": "20.034878",
                  "5": "Brak indeksu",
                  "6": "2025-08-26 16:11:08"
                },
                {
                  "0": "20307",
                  "1": "Krotoszyn, ul. Olimpijska",
                  "2": "Krotoszyn",
                  "3": "51.697308",
                  "4": "17.441263",
                  "5": "Brak indeksu",
                  "6": "2025-08-26 16:12:13"
                },
                {
                  "0": "20387",
                  "1": "Nysa, ul. Rodziewiczówny 1",
                  "2": "Nysa",
                  "3": "50.460992",
                  "4": "17.331499",
                  "5": "Brak indeksu",
                  "6": "2025-08-26 16:15:20"
                },
                {
                  "0": "10817",
                  "1": "Złockie, szkoła podstawowa",
                  "2": "Złockie",
                  "3": "49.374147",
                  "4": "20.879581",
                  "5": "Brak indeksu",
                  "6": "2025-08-26 16:11:08"
                },
                {
                  "0": "11301",
                  "1": "Olkusz, ul. Cegielniana",
                  "2": "Olkusz",
                  "3": "50.284000",
                  "4": "19.564044",
                  "5": "Brak indeksu",
                  "6": "2025-08-26 16:11:08"
                },
                {
                  "0": "16497",
                  "1": "Kielce, ul. Jurajska",
                  "2": "Kielce",
                  "3": "50.887606",
                  "4": "20.579965",
                  "5": "Brak indeksu",
                  "6": "2025-08-26 16:16:13"
                }
              ],
              "schema": [
                {
                  "key": "0",
                  "name": "id",
                  "type": "bigint"
                },
                {
                  "key": "1",
                  "name": "stationName",
                  "type": "string"
                },
                {
                  "key": "2",
                  "name": "city",
                  "type": "string"
                },
                {
                  "key": "3",
                  "name": "latitude",
                  "type": "string"
                },
                {
                  "key": "4",
                  "name": "longitude",
                  "type": "string"
                },
                {
                  "key": "5",
                  "name": "AirQualityIndex",
                  "type": "string"
                },
                {
                  "key": "6",
                  "name": "measurementDate",
                  "type": "string"
                }
              ],
              "truncated": false
            },
            "isSummary": false,
            "language": "scala",
            "wranglerEntryContext": {
              "candidateVariableNames": [
                "df1"
              ],
              "dataframeType": "pyspark"
            }
          },
          "persist_state": {
            "view": {
              "type": "details",
              "tableOptions": {},
              "chartOptions": {
                "chartType": "bar",
                "aggregationType": "sum",
                "categoryFieldKeys": [
                  "1"
                ],
                "seriesFieldKeys": [
                  "0"
                ],
                "isStacked": false
              }
            }
          }
        }
      }
    }
  },
  "nbformat": 4,
  "nbformat_minor": 2
}